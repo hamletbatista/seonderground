{
  "nbformat": 4,
  "nbformat_minor": 0,
  "metadata": {
    "colab": {
      "name": "SEOUnderground.ipynb",
      "provenance": [],
      "machine_shape": "hm",
      "authorship_tag": "ABX9TyMMRQ6UdbfvO1zjs9HLqag2",
      "include_colab_link": true
    },
    "kernelspec": {
      "name": "python3",
      "display_name": "Python 3"
    },
    "accelerator": "GPU",
    "widgets": {
      "application/vnd.jupyter.widget-state+json": {
        "8a8f0181d9444ca2b62a269ff82b8e1b": {
          "model_module": "@jupyter-widgets/controls",
          "model_name": "HBoxModel",
          "state": {
            "_view_name": "HBoxView",
            "_dom_classes": [],
            "_model_name": "HBoxModel",
            "_view_module": "@jupyter-widgets/controls",
            "_model_module_version": "1.5.0",
            "_view_count": null,
            "_view_module_version": "1.5.0",
            "box_style": "",
            "layout": "IPY_MODEL_8633d6e7fc2745f2b4b8a11994e23211",
            "_model_module": "@jupyter-widgets/controls",
            "children": [
              "IPY_MODEL_2b6c8a0c952f4054ac920fd7528af18f",
              "IPY_MODEL_a520dba85656432cb83e042705d4264a"
            ]
          }
        },
        "8633d6e7fc2745f2b4b8a11994e23211": {
          "model_module": "@jupyter-widgets/base",
          "model_name": "LayoutModel",
          "state": {
            "_view_name": "LayoutView",
            "grid_template_rows": null,
            "right": null,
            "justify_content": null,
            "_view_module": "@jupyter-widgets/base",
            "overflow": null,
            "_model_module_version": "1.2.0",
            "_view_count": null,
            "flex_flow": null,
            "width": null,
            "min_width": null,
            "border": null,
            "align_items": null,
            "bottom": null,
            "_model_module": "@jupyter-widgets/base",
            "top": null,
            "grid_column": null,
            "overflow_y": null,
            "overflow_x": null,
            "grid_auto_flow": null,
            "grid_area": null,
            "grid_template_columns": null,
            "flex": null,
            "_model_name": "LayoutModel",
            "justify_items": null,
            "grid_row": null,
            "max_height": null,
            "align_content": null,
            "visibility": null,
            "align_self": null,
            "height": null,
            "min_height": null,
            "padding": null,
            "grid_auto_rows": null,
            "grid_gap": null,
            "max_width": null,
            "order": null,
            "_view_module_version": "1.2.0",
            "grid_template_areas": null,
            "object_position": null,
            "object_fit": null,
            "grid_auto_columns": null,
            "margin": null,
            "display": null,
            "left": null
          }
        },
        "2b6c8a0c952f4054ac920fd7528af18f": {
          "model_module": "@jupyter-widgets/controls",
          "model_name": "FloatProgressModel",
          "state": {
            "_view_name": "ProgressView",
            "style": "IPY_MODEL_ef7e8561ccda4727910f933b25c5a3d5",
            "_dom_classes": [],
            "description": "Downloading: 100%",
            "_model_name": "FloatProgressModel",
            "bar_style": "success",
            "max": 1200,
            "_view_module": "@jupyter-widgets/controls",
            "_model_module_version": "1.5.0",
            "value": 1200,
            "_view_count": null,
            "_view_module_version": "1.5.0",
            "orientation": "horizontal",
            "min": 0,
            "description_tooltip": null,
            "_model_module": "@jupyter-widgets/controls",
            "layout": "IPY_MODEL_b951137b00244f4f87bc9f296d692c54"
          }
        },
        "a520dba85656432cb83e042705d4264a": {
          "model_module": "@jupyter-widgets/controls",
          "model_name": "HTMLModel",
          "state": {
            "_view_name": "HTMLView",
            "style": "IPY_MODEL_38f6161035d941c29588204a340b558d",
            "_dom_classes": [],
            "description": "",
            "_model_name": "HTMLModel",
            "placeholder": "​",
            "_view_module": "@jupyter-widgets/controls",
            "_model_module_version": "1.5.0",
            "value": " 1.20k/1.20k [00:00&lt;00:00, 1.57kB/s]",
            "_view_count": null,
            "_view_module_version": "1.5.0",
            "description_tooltip": null,
            "_model_module": "@jupyter-widgets/controls",
            "layout": "IPY_MODEL_e5523c5cd5b449cf86e131a421d60197"
          }
        },
        "ef7e8561ccda4727910f933b25c5a3d5": {
          "model_module": "@jupyter-widgets/controls",
          "model_name": "ProgressStyleModel",
          "state": {
            "_view_name": "StyleView",
            "_model_name": "ProgressStyleModel",
            "description_width": "initial",
            "_view_module": "@jupyter-widgets/base",
            "_model_module_version": "1.5.0",
            "_view_count": null,
            "_view_module_version": "1.2.0",
            "bar_color": null,
            "_model_module": "@jupyter-widgets/controls"
          }
        },
        "b951137b00244f4f87bc9f296d692c54": {
          "model_module": "@jupyter-widgets/base",
          "model_name": "LayoutModel",
          "state": {
            "_view_name": "LayoutView",
            "grid_template_rows": null,
            "right": null,
            "justify_content": null,
            "_view_module": "@jupyter-widgets/base",
            "overflow": null,
            "_model_module_version": "1.2.0",
            "_view_count": null,
            "flex_flow": null,
            "width": null,
            "min_width": null,
            "border": null,
            "align_items": null,
            "bottom": null,
            "_model_module": "@jupyter-widgets/base",
            "top": null,
            "grid_column": null,
            "overflow_y": null,
            "overflow_x": null,
            "grid_auto_flow": null,
            "grid_area": null,
            "grid_template_columns": null,
            "flex": null,
            "_model_name": "LayoutModel",
            "justify_items": null,
            "grid_row": null,
            "max_height": null,
            "align_content": null,
            "visibility": null,
            "align_self": null,
            "height": null,
            "min_height": null,
            "padding": null,
            "grid_auto_rows": null,
            "grid_gap": null,
            "max_width": null,
            "order": null,
            "_view_module_version": "1.2.0",
            "grid_template_areas": null,
            "object_position": null,
            "object_fit": null,
            "grid_auto_columns": null,
            "margin": null,
            "display": null,
            "left": null
          }
        },
        "38f6161035d941c29588204a340b558d": {
          "model_module": "@jupyter-widgets/controls",
          "model_name": "DescriptionStyleModel",
          "state": {
            "_view_name": "StyleView",
            "_model_name": "DescriptionStyleModel",
            "description_width": "",
            "_view_module": "@jupyter-widgets/base",
            "_model_module_version": "1.5.0",
            "_view_count": null,
            "_view_module_version": "1.2.0",
            "_model_module": "@jupyter-widgets/controls"
          }
        },
        "e5523c5cd5b449cf86e131a421d60197": {
          "model_module": "@jupyter-widgets/base",
          "model_name": "LayoutModel",
          "state": {
            "_view_name": "LayoutView",
            "grid_template_rows": null,
            "right": null,
            "justify_content": null,
            "_view_module": "@jupyter-widgets/base",
            "overflow": null,
            "_model_module_version": "1.2.0",
            "_view_count": null,
            "flex_flow": null,
            "width": null,
            "min_width": null,
            "border": null,
            "align_items": null,
            "bottom": null,
            "_model_module": "@jupyter-widgets/base",
            "top": null,
            "grid_column": null,
            "overflow_y": null,
            "overflow_x": null,
            "grid_auto_flow": null,
            "grid_area": null,
            "grid_template_columns": null,
            "flex": null,
            "_model_name": "LayoutModel",
            "justify_items": null,
            "grid_row": null,
            "max_height": null,
            "align_content": null,
            "visibility": null,
            "align_self": null,
            "height": null,
            "min_height": null,
            "padding": null,
            "grid_auto_rows": null,
            "grid_gap": null,
            "max_width": null,
            "order": null,
            "_view_module_version": "1.2.0",
            "grid_template_areas": null,
            "object_position": null,
            "object_fit": null,
            "grid_auto_columns": null,
            "margin": null,
            "display": null,
            "left": null
          }
        },
        "0a64a8737c1b40e69992189f3924cc51": {
          "model_module": "@jupyter-widgets/controls",
          "model_name": "HBoxModel",
          "state": {
            "_view_name": "HBoxView",
            "_dom_classes": [],
            "_model_name": "HBoxModel",
            "_view_module": "@jupyter-widgets/controls",
            "_model_module_version": "1.5.0",
            "_view_count": null,
            "_view_module_version": "1.5.0",
            "box_style": "",
            "layout": "IPY_MODEL_9c622e57f7da477dae72ee2deea7ee9c",
            "_model_module": "@jupyter-widgets/controls",
            "children": [
              "IPY_MODEL_bdaa1e035cfc47a5ba120f342f2591e5",
              "IPY_MODEL_8f9c6da989c8478e86ed9cd3e9e86f03"
            ]
          }
        },
        "9c622e57f7da477dae72ee2deea7ee9c": {
          "model_module": "@jupyter-widgets/base",
          "model_name": "LayoutModel",
          "state": {
            "_view_name": "LayoutView",
            "grid_template_rows": null,
            "right": null,
            "justify_content": null,
            "_view_module": "@jupyter-widgets/base",
            "overflow": null,
            "_model_module_version": "1.2.0",
            "_view_count": null,
            "flex_flow": null,
            "width": null,
            "min_width": null,
            "border": null,
            "align_items": null,
            "bottom": null,
            "_model_module": "@jupyter-widgets/base",
            "top": null,
            "grid_column": null,
            "overflow_y": null,
            "overflow_x": null,
            "grid_auto_flow": null,
            "grid_area": null,
            "grid_template_columns": null,
            "flex": null,
            "_model_name": "LayoutModel",
            "justify_items": null,
            "grid_row": null,
            "max_height": null,
            "align_content": null,
            "visibility": null,
            "align_self": null,
            "height": null,
            "min_height": null,
            "padding": null,
            "grid_auto_rows": null,
            "grid_gap": null,
            "max_width": null,
            "order": null,
            "_view_module_version": "1.2.0",
            "grid_template_areas": null,
            "object_position": null,
            "object_fit": null,
            "grid_auto_columns": null,
            "margin": null,
            "display": null,
            "left": null
          }
        },
        "bdaa1e035cfc47a5ba120f342f2591e5": {
          "model_module": "@jupyter-widgets/controls",
          "model_name": "FloatProgressModel",
          "state": {
            "_view_name": "ProgressView",
            "style": "IPY_MODEL_b66cbdfd8107420e9cb639c1f78bb4dc",
            "_dom_classes": [],
            "description": "Downloading: 100%",
            "_model_name": "FloatProgressModel",
            "bar_style": "success",
            "max": 791656,
            "_view_module": "@jupyter-widgets/controls",
            "_model_module_version": "1.5.0",
            "value": 791656,
            "_view_count": null,
            "_view_module_version": "1.5.0",
            "orientation": "horizontal",
            "min": 0,
            "description_tooltip": null,
            "_model_module": "@jupyter-widgets/controls",
            "layout": "IPY_MODEL_d94945ef0115436789f39fa368a0e1d3"
          }
        },
        "8f9c6da989c8478e86ed9cd3e9e86f03": {
          "model_module": "@jupyter-widgets/controls",
          "model_name": "HTMLModel",
          "state": {
            "_view_name": "HTMLView",
            "style": "IPY_MODEL_0b7cfe0a448947baba9b92e47f2f3383",
            "_dom_classes": [],
            "description": "",
            "_model_name": "HTMLModel",
            "placeholder": "​",
            "_view_module": "@jupyter-widgets/controls",
            "_model_module_version": "1.5.0",
            "value": " 792k/792k [01:45&lt;00:00, 7.54kB/s]",
            "_view_count": null,
            "_view_module_version": "1.5.0",
            "description_tooltip": null,
            "_model_module": "@jupyter-widgets/controls",
            "layout": "IPY_MODEL_0de41666273d4295bc7bc608edf12dcc"
          }
        },
        "b66cbdfd8107420e9cb639c1f78bb4dc": {
          "model_module": "@jupyter-widgets/controls",
          "model_name": "ProgressStyleModel",
          "state": {
            "_view_name": "StyleView",
            "_model_name": "ProgressStyleModel",
            "description_width": "initial",
            "_view_module": "@jupyter-widgets/base",
            "_model_module_version": "1.5.0",
            "_view_count": null,
            "_view_module_version": "1.2.0",
            "bar_color": null,
            "_model_module": "@jupyter-widgets/controls"
          }
        },
        "d94945ef0115436789f39fa368a0e1d3": {
          "model_module": "@jupyter-widgets/base",
          "model_name": "LayoutModel",
          "state": {
            "_view_name": "LayoutView",
            "grid_template_rows": null,
            "right": null,
            "justify_content": null,
            "_view_module": "@jupyter-widgets/base",
            "overflow": null,
            "_model_module_version": "1.2.0",
            "_view_count": null,
            "flex_flow": null,
            "width": null,
            "min_width": null,
            "border": null,
            "align_items": null,
            "bottom": null,
            "_model_module": "@jupyter-widgets/base",
            "top": null,
            "grid_column": null,
            "overflow_y": null,
            "overflow_x": null,
            "grid_auto_flow": null,
            "grid_area": null,
            "grid_template_columns": null,
            "flex": null,
            "_model_name": "LayoutModel",
            "justify_items": null,
            "grid_row": null,
            "max_height": null,
            "align_content": null,
            "visibility": null,
            "align_self": null,
            "height": null,
            "min_height": null,
            "padding": null,
            "grid_auto_rows": null,
            "grid_gap": null,
            "max_width": null,
            "order": null,
            "_view_module_version": "1.2.0",
            "grid_template_areas": null,
            "object_position": null,
            "object_fit": null,
            "grid_auto_columns": null,
            "margin": null,
            "display": null,
            "left": null
          }
        },
        "0b7cfe0a448947baba9b92e47f2f3383": {
          "model_module": "@jupyter-widgets/controls",
          "model_name": "DescriptionStyleModel",
          "state": {
            "_view_name": "StyleView",
            "_model_name": "DescriptionStyleModel",
            "description_width": "",
            "_view_module": "@jupyter-widgets/base",
            "_model_module_version": "1.5.0",
            "_view_count": null,
            "_view_module_version": "1.2.0",
            "_model_module": "@jupyter-widgets/controls"
          }
        },
        "0de41666273d4295bc7bc608edf12dcc": {
          "model_module": "@jupyter-widgets/base",
          "model_name": "LayoutModel",
          "state": {
            "_view_name": "LayoutView",
            "grid_template_rows": null,
            "right": null,
            "justify_content": null,
            "_view_module": "@jupyter-widgets/base",
            "overflow": null,
            "_model_module_version": "1.2.0",
            "_view_count": null,
            "flex_flow": null,
            "width": null,
            "min_width": null,
            "border": null,
            "align_items": null,
            "bottom": null,
            "_model_module": "@jupyter-widgets/base",
            "top": null,
            "grid_column": null,
            "overflow_y": null,
            "overflow_x": null,
            "grid_auto_flow": null,
            "grid_area": null,
            "grid_template_columns": null,
            "flex": null,
            "_model_name": "LayoutModel",
            "justify_items": null,
            "grid_row": null,
            "max_height": null,
            "align_content": null,
            "visibility": null,
            "align_self": null,
            "height": null,
            "min_height": null,
            "padding": null,
            "grid_auto_rows": null,
            "grid_gap": null,
            "max_width": null,
            "order": null,
            "_view_module_version": "1.2.0",
            "grid_template_areas": null,
            "object_position": null,
            "object_fit": null,
            "grid_auto_columns": null,
            "margin": null,
            "display": null,
            "left": null
          }
        },
        "5e3cdb40b6f544adac66baf8d769606d": {
          "model_module": "@jupyter-widgets/controls",
          "model_name": "HBoxModel",
          "state": {
            "_view_name": "HBoxView",
            "_dom_classes": [],
            "_model_name": "HBoxModel",
            "_view_module": "@jupyter-widgets/controls",
            "_model_module_version": "1.5.0",
            "_view_count": null,
            "_view_module_version": "1.5.0",
            "box_style": "",
            "layout": "IPY_MODEL_28a73e4b29604cea93145ab1cc7524d3",
            "_model_module": "@jupyter-widgets/controls",
            "children": [
              "IPY_MODEL_ab21e84935594be8bd0da3cf2f0b3aef",
              "IPY_MODEL_683f593089cb4055aff91b9dd38548d1"
            ]
          }
        },
        "28a73e4b29604cea93145ab1cc7524d3": {
          "model_module": "@jupyter-widgets/base",
          "model_name": "LayoutModel",
          "state": {
            "_view_name": "LayoutView",
            "grid_template_rows": null,
            "right": null,
            "justify_content": null,
            "_view_module": "@jupyter-widgets/base",
            "overflow": null,
            "_model_module_version": "1.2.0",
            "_view_count": null,
            "flex_flow": null,
            "width": null,
            "min_width": null,
            "border": null,
            "align_items": null,
            "bottom": null,
            "_model_module": "@jupyter-widgets/base",
            "top": null,
            "grid_column": null,
            "overflow_y": null,
            "overflow_x": null,
            "grid_auto_flow": null,
            "grid_area": null,
            "grid_template_columns": null,
            "flex": null,
            "_model_name": "LayoutModel",
            "justify_items": null,
            "grid_row": null,
            "max_height": null,
            "align_content": null,
            "visibility": null,
            "align_self": null,
            "height": null,
            "min_height": null,
            "padding": null,
            "grid_auto_rows": null,
            "grid_gap": null,
            "max_width": null,
            "order": null,
            "_view_module_version": "1.2.0",
            "grid_template_areas": null,
            "object_position": null,
            "object_fit": null,
            "grid_auto_columns": null,
            "margin": null,
            "display": null,
            "left": null
          }
        },
        "ab21e84935594be8bd0da3cf2f0b3aef": {
          "model_module": "@jupyter-widgets/controls",
          "model_name": "FloatProgressModel",
          "state": {
            "_view_name": "ProgressView",
            "style": "IPY_MODEL_a2ada9fdf8c64849bd72592b5ae7875c",
            "_dom_classes": [],
            "description": "Downloading: 100%",
            "_model_name": "FloatProgressModel",
            "bar_style": "success",
            "max": 230,
            "_view_module": "@jupyter-widgets/controls",
            "_model_module_version": "1.5.0",
            "value": 230,
            "_view_count": null,
            "_view_module_version": "1.5.0",
            "orientation": "horizontal",
            "min": 0,
            "description_tooltip": null,
            "_model_module": "@jupyter-widgets/controls",
            "layout": "IPY_MODEL_3374de46e9d44734917f4ea217ff09cf"
          }
        },
        "683f593089cb4055aff91b9dd38548d1": {
          "model_module": "@jupyter-widgets/controls",
          "model_name": "HTMLModel",
          "state": {
            "_view_name": "HTMLView",
            "style": "IPY_MODEL_d7b4ae3f448948048513d020fe7b70ef",
            "_dom_classes": [],
            "description": "",
            "_model_name": "HTMLModel",
            "placeholder": "​",
            "_view_module": "@jupyter-widgets/controls",
            "_model_module_version": "1.5.0",
            "value": " 230/230 [00:01&lt;00:00, 223B/s]",
            "_view_count": null,
            "_view_module_version": "1.5.0",
            "description_tooltip": null,
            "_model_module": "@jupyter-widgets/controls",
            "layout": "IPY_MODEL_c5e6440ff94040bf88a87f3385c01fbd"
          }
        },
        "a2ada9fdf8c64849bd72592b5ae7875c": {
          "model_module": "@jupyter-widgets/controls",
          "model_name": "ProgressStyleModel",
          "state": {
            "_view_name": "StyleView",
            "_model_name": "ProgressStyleModel",
            "description_width": "initial",
            "_view_module": "@jupyter-widgets/base",
            "_model_module_version": "1.5.0",
            "_view_count": null,
            "_view_module_version": "1.2.0",
            "bar_color": null,
            "_model_module": "@jupyter-widgets/controls"
          }
        },
        "3374de46e9d44734917f4ea217ff09cf": {
          "model_module": "@jupyter-widgets/base",
          "model_name": "LayoutModel",
          "state": {
            "_view_name": "LayoutView",
            "grid_template_rows": null,
            "right": null,
            "justify_content": null,
            "_view_module": "@jupyter-widgets/base",
            "overflow": null,
            "_model_module_version": "1.2.0",
            "_view_count": null,
            "flex_flow": null,
            "width": null,
            "min_width": null,
            "border": null,
            "align_items": null,
            "bottom": null,
            "_model_module": "@jupyter-widgets/base",
            "top": null,
            "grid_column": null,
            "overflow_y": null,
            "overflow_x": null,
            "grid_auto_flow": null,
            "grid_area": null,
            "grid_template_columns": null,
            "flex": null,
            "_model_name": "LayoutModel",
            "justify_items": null,
            "grid_row": null,
            "max_height": null,
            "align_content": null,
            "visibility": null,
            "align_self": null,
            "height": null,
            "min_height": null,
            "padding": null,
            "grid_auto_rows": null,
            "grid_gap": null,
            "max_width": null,
            "order": null,
            "_view_module_version": "1.2.0",
            "grid_template_areas": null,
            "object_position": null,
            "object_fit": null,
            "grid_auto_columns": null,
            "margin": null,
            "display": null,
            "left": null
          }
        },
        "d7b4ae3f448948048513d020fe7b70ef": {
          "model_module": "@jupyter-widgets/controls",
          "model_name": "DescriptionStyleModel",
          "state": {
            "_view_name": "StyleView",
            "_model_name": "DescriptionStyleModel",
            "description_width": "",
            "_view_module": "@jupyter-widgets/base",
            "_model_module_version": "1.5.0",
            "_view_count": null,
            "_view_module_version": "1.2.0",
            "_model_module": "@jupyter-widgets/controls"
          }
        },
        "c5e6440ff94040bf88a87f3385c01fbd": {
          "model_module": "@jupyter-widgets/base",
          "model_name": "LayoutModel",
          "state": {
            "_view_name": "LayoutView",
            "grid_template_rows": null,
            "right": null,
            "justify_content": null,
            "_view_module": "@jupyter-widgets/base",
            "overflow": null,
            "_model_module_version": "1.2.0",
            "_view_count": null,
            "flex_flow": null,
            "width": null,
            "min_width": null,
            "border": null,
            "align_items": null,
            "bottom": null,
            "_model_module": "@jupyter-widgets/base",
            "top": null,
            "grid_column": null,
            "overflow_y": null,
            "overflow_x": null,
            "grid_auto_flow": null,
            "grid_area": null,
            "grid_template_columns": null,
            "flex": null,
            "_model_name": "LayoutModel",
            "justify_items": null,
            "grid_row": null,
            "max_height": null,
            "align_content": null,
            "visibility": null,
            "align_self": null,
            "height": null,
            "min_height": null,
            "padding": null,
            "grid_auto_rows": null,
            "grid_gap": null,
            "max_width": null,
            "order": null,
            "_view_module_version": "1.2.0",
            "grid_template_areas": null,
            "object_position": null,
            "object_fit": null,
            "grid_auto_columns": null,
            "margin": null,
            "display": null,
            "left": null
          }
        },
        "b9ff0918d00e48d59f9d4eea950179d5": {
          "model_module": "@jupyter-widgets/controls",
          "model_name": "HBoxModel",
          "state": {
            "_view_name": "HBoxView",
            "_dom_classes": [],
            "_model_name": "HBoxModel",
            "_view_module": "@jupyter-widgets/controls",
            "_model_module_version": "1.5.0",
            "_view_count": null,
            "_view_module_version": "1.5.0",
            "box_style": "",
            "layout": "IPY_MODEL_824d15157170428ea8f31fce2bf6b6c2",
            "_model_module": "@jupyter-widgets/controls",
            "children": [
              "IPY_MODEL_07e4d6e88667429fb1382a1e04b14725",
              "IPY_MODEL_14aefd56a09a470f92eceed2384c18c1"
            ]
          }
        },
        "824d15157170428ea8f31fce2bf6b6c2": {
          "model_module": "@jupyter-widgets/base",
          "model_name": "LayoutModel",
          "state": {
            "_view_name": "LayoutView",
            "grid_template_rows": null,
            "right": null,
            "justify_content": null,
            "_view_module": "@jupyter-widgets/base",
            "overflow": null,
            "_model_module_version": "1.2.0",
            "_view_count": null,
            "flex_flow": null,
            "width": null,
            "min_width": null,
            "border": null,
            "align_items": null,
            "bottom": null,
            "_model_module": "@jupyter-widgets/base",
            "top": null,
            "grid_column": null,
            "overflow_y": null,
            "overflow_x": null,
            "grid_auto_flow": null,
            "grid_area": null,
            "grid_template_columns": null,
            "flex": null,
            "_model_name": "LayoutModel",
            "justify_items": null,
            "grid_row": null,
            "max_height": null,
            "align_content": null,
            "visibility": null,
            "align_self": null,
            "height": null,
            "min_height": null,
            "padding": null,
            "grid_auto_rows": null,
            "grid_gap": null,
            "max_width": null,
            "order": null,
            "_view_module_version": "1.2.0",
            "grid_template_areas": null,
            "object_position": null,
            "object_fit": null,
            "grid_auto_columns": null,
            "margin": null,
            "display": null,
            "left": null
          }
        },
        "07e4d6e88667429fb1382a1e04b14725": {
          "model_module": "@jupyter-widgets/controls",
          "model_name": "FloatProgressModel",
          "state": {
            "_view_name": "ProgressView",
            "style": "IPY_MODEL_49099771c8454a68a6ac39a4974ebf6a",
            "_dom_classes": [],
            "description": "Downloading: 100%",
            "_model_name": "FloatProgressModel",
            "bar_style": "success",
            "max": 2950825948,
            "_view_module": "@jupyter-widgets/controls",
            "_model_module_version": "1.5.0",
            "value": 2950825948,
            "_view_count": null,
            "_view_module_version": "1.5.0",
            "orientation": "horizontal",
            "min": 0,
            "description_tooltip": null,
            "_model_module": "@jupyter-widgets/controls",
            "layout": "IPY_MODEL_04038b7b736f400d88756cd493f706a1"
          }
        },
        "14aefd56a09a470f92eceed2384c18c1": {
          "model_module": "@jupyter-widgets/controls",
          "model_name": "HTMLModel",
          "state": {
            "_view_name": "HTMLView",
            "style": "IPY_MODEL_91e5c985b9ac46c1b0af5cc2731b4467",
            "_dom_classes": [],
            "description": "",
            "_model_name": "HTMLModel",
            "placeholder": "​",
            "_view_module": "@jupyter-widgets/controls",
            "_model_module_version": "1.5.0",
            "value": " 2.95G/2.95G [01:42&lt;00:00, 28.7MB/s]",
            "_view_count": null,
            "_view_module_version": "1.5.0",
            "description_tooltip": null,
            "_model_module": "@jupyter-widgets/controls",
            "layout": "IPY_MODEL_2d01b60d3bcf41659004618c91da4ff0"
          }
        },
        "49099771c8454a68a6ac39a4974ebf6a": {
          "model_module": "@jupyter-widgets/controls",
          "model_name": "ProgressStyleModel",
          "state": {
            "_view_name": "StyleView",
            "_model_name": "ProgressStyleModel",
            "description_width": "initial",
            "_view_module": "@jupyter-widgets/base",
            "_model_module_version": "1.5.0",
            "_view_count": null,
            "_view_module_version": "1.2.0",
            "bar_color": null,
            "_model_module": "@jupyter-widgets/controls"
          }
        },
        "04038b7b736f400d88756cd493f706a1": {
          "model_module": "@jupyter-widgets/base",
          "model_name": "LayoutModel",
          "state": {
            "_view_name": "LayoutView",
            "grid_template_rows": null,
            "right": null,
            "justify_content": null,
            "_view_module": "@jupyter-widgets/base",
            "overflow": null,
            "_model_module_version": "1.2.0",
            "_view_count": null,
            "flex_flow": null,
            "width": null,
            "min_width": null,
            "border": null,
            "align_items": null,
            "bottom": null,
            "_model_module": "@jupyter-widgets/base",
            "top": null,
            "grid_column": null,
            "overflow_y": null,
            "overflow_x": null,
            "grid_auto_flow": null,
            "grid_area": null,
            "grid_template_columns": null,
            "flex": null,
            "_model_name": "LayoutModel",
            "justify_items": null,
            "grid_row": null,
            "max_height": null,
            "align_content": null,
            "visibility": null,
            "align_self": null,
            "height": null,
            "min_height": null,
            "padding": null,
            "grid_auto_rows": null,
            "grid_gap": null,
            "max_width": null,
            "order": null,
            "_view_module_version": "1.2.0",
            "grid_template_areas": null,
            "object_position": null,
            "object_fit": null,
            "grid_auto_columns": null,
            "margin": null,
            "display": null,
            "left": null
          }
        },
        "91e5c985b9ac46c1b0af5cc2731b4467": {
          "model_module": "@jupyter-widgets/controls",
          "model_name": "DescriptionStyleModel",
          "state": {
            "_view_name": "StyleView",
            "_model_name": "DescriptionStyleModel",
            "description_width": "",
            "_view_module": "@jupyter-widgets/base",
            "_model_module_version": "1.5.0",
            "_view_count": null,
            "_view_module_version": "1.2.0",
            "_model_module": "@jupyter-widgets/controls"
          }
        },
        "2d01b60d3bcf41659004618c91da4ff0": {
          "model_module": "@jupyter-widgets/base",
          "model_name": "LayoutModel",
          "state": {
            "_view_name": "LayoutView",
            "grid_template_rows": null,
            "right": null,
            "justify_content": null,
            "_view_module": "@jupyter-widgets/base",
            "overflow": null,
            "_model_module_version": "1.2.0",
            "_view_count": null,
            "flex_flow": null,
            "width": null,
            "min_width": null,
            "border": null,
            "align_items": null,
            "bottom": null,
            "_model_module": "@jupyter-widgets/base",
            "top": null,
            "grid_column": null,
            "overflow_y": null,
            "overflow_x": null,
            "grid_auto_flow": null,
            "grid_area": null,
            "grid_template_columns": null,
            "flex": null,
            "_model_name": "LayoutModel",
            "justify_items": null,
            "grid_row": null,
            "max_height": null,
            "align_content": null,
            "visibility": null,
            "align_self": null,
            "height": null,
            "min_height": null,
            "padding": null,
            "grid_auto_rows": null,
            "grid_gap": null,
            "max_width": null,
            "order": null,
            "_view_module_version": "1.2.0",
            "grid_template_areas": null,
            "object_position": null,
            "object_fit": null,
            "grid_auto_columns": null,
            "margin": null,
            "display": null,
            "left": null
          }
        },
        "abb91625039a4a658d83f30bdc22117f": {
          "model_module": "@jupyter-widgets/controls",
          "model_name": "HBoxModel",
          "state": {
            "_view_name": "HBoxView",
            "_dom_classes": [],
            "_model_name": "HBoxModel",
            "_view_module": "@jupyter-widgets/controls",
            "_model_module_version": "1.5.0",
            "_view_count": null,
            "_view_module_version": "1.5.0",
            "box_style": "",
            "layout": "IPY_MODEL_57809f951d4f4203b96cbef84c20c0c6",
            "_model_module": "@jupyter-widgets/controls",
            "children": [
              "IPY_MODEL_bffca3ef9d6d42228dd8d346a075ce5e",
              "IPY_MODEL_74ab9020c73c423c93865f95d6e77b12"
            ]
          }
        },
        "57809f951d4f4203b96cbef84c20c0c6": {
          "model_module": "@jupyter-widgets/base",
          "model_name": "LayoutModel",
          "state": {
            "_view_name": "LayoutView",
            "grid_template_rows": null,
            "right": null,
            "justify_content": null,
            "_view_module": "@jupyter-widgets/base",
            "overflow": null,
            "_model_module_version": "1.2.0",
            "_view_count": null,
            "flex_flow": null,
            "width": null,
            "min_width": null,
            "border": null,
            "align_items": null,
            "bottom": null,
            "_model_module": "@jupyter-widgets/base",
            "top": null,
            "grid_column": null,
            "overflow_y": null,
            "overflow_x": null,
            "grid_auto_flow": null,
            "grid_area": null,
            "grid_template_columns": null,
            "flex": null,
            "_model_name": "LayoutModel",
            "justify_items": null,
            "grid_row": null,
            "max_height": null,
            "align_content": null,
            "visibility": null,
            "align_self": null,
            "height": null,
            "min_height": null,
            "padding": null,
            "grid_auto_rows": null,
            "grid_gap": null,
            "max_width": null,
            "order": null,
            "_view_module_version": "1.2.0",
            "grid_template_areas": null,
            "object_position": null,
            "object_fit": null,
            "grid_auto_columns": null,
            "margin": null,
            "display": null,
            "left": null
          }
        },
        "bffca3ef9d6d42228dd8d346a075ce5e": {
          "model_module": "@jupyter-widgets/controls",
          "model_name": "FloatProgressModel",
          "state": {
            "_view_name": "ProgressView",
            "style": "IPY_MODEL_c1d75ab77d4541bda628035910259b6a",
            "_dom_classes": [],
            "description": "Downloading: 100%",
            "_model_name": "FloatProgressModel",
            "bar_style": "success",
            "max": 656,
            "_view_module": "@jupyter-widgets/controls",
            "_model_module_version": "1.5.0",
            "value": 656,
            "_view_count": null,
            "_view_module_version": "1.5.0",
            "orientation": "horizontal",
            "min": 0,
            "description_tooltip": null,
            "_model_module": "@jupyter-widgets/controls",
            "layout": "IPY_MODEL_f82e038c4a7c4c099e7503d5a640ab60"
          }
        },
        "74ab9020c73c423c93865f95d6e77b12": {
          "model_module": "@jupyter-widgets/controls",
          "model_name": "HTMLModel",
          "state": {
            "_view_name": "HTMLView",
            "style": "IPY_MODEL_45867e32f9224d83be2b8b1a6e8949d3",
            "_dom_classes": [],
            "description": "",
            "_model_name": "HTMLModel",
            "placeholder": "​",
            "_view_module": "@jupyter-widgets/controls",
            "_model_module_version": "1.5.0",
            "value": " 656/656 [02:15&lt;00:00, 4.86B/s]",
            "_view_count": null,
            "_view_module_version": "1.5.0",
            "description_tooltip": null,
            "_model_module": "@jupyter-widgets/controls",
            "layout": "IPY_MODEL_c1e08dc1410b46f58c29fe4f1c39ce1d"
          }
        },
        "c1d75ab77d4541bda628035910259b6a": {
          "model_module": "@jupyter-widgets/controls",
          "model_name": "ProgressStyleModel",
          "state": {
            "_view_name": "StyleView",
            "_model_name": "ProgressStyleModel",
            "description_width": "initial",
            "_view_module": "@jupyter-widgets/base",
            "_model_module_version": "1.5.0",
            "_view_count": null,
            "_view_module_version": "1.2.0",
            "bar_color": null,
            "_model_module": "@jupyter-widgets/controls"
          }
        },
        "f82e038c4a7c4c099e7503d5a640ab60": {
          "model_module": "@jupyter-widgets/base",
          "model_name": "LayoutModel",
          "state": {
            "_view_name": "LayoutView",
            "grid_template_rows": null,
            "right": null,
            "justify_content": null,
            "_view_module": "@jupyter-widgets/base",
            "overflow": null,
            "_model_module_version": "1.2.0",
            "_view_count": null,
            "flex_flow": null,
            "width": null,
            "min_width": null,
            "border": null,
            "align_items": null,
            "bottom": null,
            "_model_module": "@jupyter-widgets/base",
            "top": null,
            "grid_column": null,
            "overflow_y": null,
            "overflow_x": null,
            "grid_auto_flow": null,
            "grid_area": null,
            "grid_template_columns": null,
            "flex": null,
            "_model_name": "LayoutModel",
            "justify_items": null,
            "grid_row": null,
            "max_height": null,
            "align_content": null,
            "visibility": null,
            "align_self": null,
            "height": null,
            "min_height": null,
            "padding": null,
            "grid_auto_rows": null,
            "grid_gap": null,
            "max_width": null,
            "order": null,
            "_view_module_version": "1.2.0",
            "grid_template_areas": null,
            "object_position": null,
            "object_fit": null,
            "grid_auto_columns": null,
            "margin": null,
            "display": null,
            "left": null
          }
        },
        "45867e32f9224d83be2b8b1a6e8949d3": {
          "model_module": "@jupyter-widgets/controls",
          "model_name": "DescriptionStyleModel",
          "state": {
            "_view_name": "StyleView",
            "_model_name": "DescriptionStyleModel",
            "description_width": "",
            "_view_module": "@jupyter-widgets/base",
            "_model_module_version": "1.5.0",
            "_view_count": null,
            "_view_module_version": "1.2.0",
            "_model_module": "@jupyter-widgets/controls"
          }
        },
        "c1e08dc1410b46f58c29fe4f1c39ce1d": {
          "model_module": "@jupyter-widgets/base",
          "model_name": "LayoutModel",
          "state": {
            "_view_name": "LayoutView",
            "grid_template_rows": null,
            "right": null,
            "justify_content": null,
            "_view_module": "@jupyter-widgets/base",
            "overflow": null,
            "_model_module_version": "1.2.0",
            "_view_count": null,
            "flex_flow": null,
            "width": null,
            "min_width": null,
            "border": null,
            "align_items": null,
            "bottom": null,
            "_model_module": "@jupyter-widgets/base",
            "top": null,
            "grid_column": null,
            "overflow_y": null,
            "overflow_x": null,
            "grid_auto_flow": null,
            "grid_area": null,
            "grid_template_columns": null,
            "flex": null,
            "_model_name": "LayoutModel",
            "justify_items": null,
            "grid_row": null,
            "max_height": null,
            "align_content": null,
            "visibility": null,
            "align_self": null,
            "height": null,
            "min_height": null,
            "padding": null,
            "grid_auto_rows": null,
            "grid_gap": null,
            "max_width": null,
            "order": null,
            "_view_module_version": "1.2.0",
            "grid_template_areas": null,
            "object_position": null,
            "object_fit": null,
            "grid_auto_columns": null,
            "margin": null,
            "display": null,
            "left": null
          }
        },
        "3a6fe7aab0ee4975b1fe48f93bd485f2": {
          "model_module": "@jupyter-widgets/controls",
          "model_name": "HBoxModel",
          "state": {
            "_view_name": "HBoxView",
            "_dom_classes": [],
            "_model_name": "HBoxModel",
            "_view_module": "@jupyter-widgets/controls",
            "_model_module_version": "1.5.0",
            "_view_count": null,
            "_view_module_version": "1.5.0",
            "box_style": "",
            "layout": "IPY_MODEL_d3093558db524a47aae879defe3b3e4c",
            "_model_module": "@jupyter-widgets/controls",
            "children": [
              "IPY_MODEL_0bff5fbf53b34005a45968941c31e63a",
              "IPY_MODEL_f84b282c6add4534acd41304b0680d83"
            ]
          }
        },
        "d3093558db524a47aae879defe3b3e4c": {
          "model_module": "@jupyter-widgets/base",
          "model_name": "LayoutModel",
          "state": {
            "_view_name": "LayoutView",
            "grid_template_rows": null,
            "right": null,
            "justify_content": null,
            "_view_module": "@jupyter-widgets/base",
            "overflow": null,
            "_model_module_version": "1.2.0",
            "_view_count": null,
            "flex_flow": null,
            "width": null,
            "min_width": null,
            "border": null,
            "align_items": null,
            "bottom": null,
            "_model_module": "@jupyter-widgets/base",
            "top": null,
            "grid_column": null,
            "overflow_y": null,
            "overflow_x": null,
            "grid_auto_flow": null,
            "grid_area": null,
            "grid_template_columns": null,
            "flex": null,
            "_model_name": "LayoutModel",
            "justify_items": null,
            "grid_row": null,
            "max_height": null,
            "align_content": null,
            "visibility": null,
            "align_self": null,
            "height": null,
            "min_height": null,
            "padding": null,
            "grid_auto_rows": null,
            "grid_gap": null,
            "max_width": null,
            "order": null,
            "_view_module_version": "1.2.0",
            "grid_template_areas": null,
            "object_position": null,
            "object_fit": null,
            "grid_auto_columns": null,
            "margin": null,
            "display": null,
            "left": null
          }
        },
        "0bff5fbf53b34005a45968941c31e63a": {
          "model_module": "@jupyter-widgets/controls",
          "model_name": "FloatProgressModel",
          "state": {
            "_view_name": "ProgressView",
            "style": "IPY_MODEL_f9bef5b85b6b4e889713df6640e042bc",
            "_dom_classes": [],
            "description": "Downloading: 100%",
            "_model_name": "FloatProgressModel",
            "bar_style": "success",
            "max": 791656,
            "_view_module": "@jupyter-widgets/controls",
            "_model_module_version": "1.5.0",
            "value": 791656,
            "_view_count": null,
            "_view_module_version": "1.5.0",
            "orientation": "horizontal",
            "min": 0,
            "description_tooltip": null,
            "_model_module": "@jupyter-widgets/controls",
            "layout": "IPY_MODEL_8c587901aef247dd941dc0cf92a658af"
          }
        },
        "f84b282c6add4534acd41304b0680d83": {
          "model_module": "@jupyter-widgets/controls",
          "model_name": "HTMLModel",
          "state": {
            "_view_name": "HTMLView",
            "style": "IPY_MODEL_fb46df5a5b6a4960bab34b69f6393859",
            "_dom_classes": [],
            "description": "",
            "_model_name": "HTMLModel",
            "placeholder": "​",
            "_view_module": "@jupyter-widgets/controls",
            "_model_module_version": "1.5.0",
            "value": " 792k/792k [00:01&lt;00:00, 405kB/s]",
            "_view_count": null,
            "_view_module_version": "1.5.0",
            "description_tooltip": null,
            "_model_module": "@jupyter-widgets/controls",
            "layout": "IPY_MODEL_aee98f4a1e374e8ba4ba2b98278a3dcf"
          }
        },
        "f9bef5b85b6b4e889713df6640e042bc": {
          "model_module": "@jupyter-widgets/controls",
          "model_name": "ProgressStyleModel",
          "state": {
            "_view_name": "StyleView",
            "_model_name": "ProgressStyleModel",
            "description_width": "initial",
            "_view_module": "@jupyter-widgets/base",
            "_model_module_version": "1.5.0",
            "_view_count": null,
            "_view_module_version": "1.2.0",
            "bar_color": null,
            "_model_module": "@jupyter-widgets/controls"
          }
        },
        "8c587901aef247dd941dc0cf92a658af": {
          "model_module": "@jupyter-widgets/base",
          "model_name": "LayoutModel",
          "state": {
            "_view_name": "LayoutView",
            "grid_template_rows": null,
            "right": null,
            "justify_content": null,
            "_view_module": "@jupyter-widgets/base",
            "overflow": null,
            "_model_module_version": "1.2.0",
            "_view_count": null,
            "flex_flow": null,
            "width": null,
            "min_width": null,
            "border": null,
            "align_items": null,
            "bottom": null,
            "_model_module": "@jupyter-widgets/base",
            "top": null,
            "grid_column": null,
            "overflow_y": null,
            "overflow_x": null,
            "grid_auto_flow": null,
            "grid_area": null,
            "grid_template_columns": null,
            "flex": null,
            "_model_name": "LayoutModel",
            "justify_items": null,
            "grid_row": null,
            "max_height": null,
            "align_content": null,
            "visibility": null,
            "align_self": null,
            "height": null,
            "min_height": null,
            "padding": null,
            "grid_auto_rows": null,
            "grid_gap": null,
            "max_width": null,
            "order": null,
            "_view_module_version": "1.2.0",
            "grid_template_areas": null,
            "object_position": null,
            "object_fit": null,
            "grid_auto_columns": null,
            "margin": null,
            "display": null,
            "left": null
          }
        },
        "fb46df5a5b6a4960bab34b69f6393859": {
          "model_module": "@jupyter-widgets/controls",
          "model_name": "DescriptionStyleModel",
          "state": {
            "_view_name": "StyleView",
            "_model_name": "DescriptionStyleModel",
            "description_width": "",
            "_view_module": "@jupyter-widgets/base",
            "_model_module_version": "1.5.0",
            "_view_count": null,
            "_view_module_version": "1.2.0",
            "_model_module": "@jupyter-widgets/controls"
          }
        },
        "aee98f4a1e374e8ba4ba2b98278a3dcf": {
          "model_module": "@jupyter-widgets/base",
          "model_name": "LayoutModel",
          "state": {
            "_view_name": "LayoutView",
            "grid_template_rows": null,
            "right": null,
            "justify_content": null,
            "_view_module": "@jupyter-widgets/base",
            "overflow": null,
            "_model_module_version": "1.2.0",
            "_view_count": null,
            "flex_flow": null,
            "width": null,
            "min_width": null,
            "border": null,
            "align_items": null,
            "bottom": null,
            "_model_module": "@jupyter-widgets/base",
            "top": null,
            "grid_column": null,
            "overflow_y": null,
            "overflow_x": null,
            "grid_auto_flow": null,
            "grid_area": null,
            "grid_template_columns": null,
            "flex": null,
            "_model_name": "LayoutModel",
            "justify_items": null,
            "grid_row": null,
            "max_height": null,
            "align_content": null,
            "visibility": null,
            "align_self": null,
            "height": null,
            "min_height": null,
            "padding": null,
            "grid_auto_rows": null,
            "grid_gap": null,
            "max_width": null,
            "order": null,
            "_view_module_version": "1.2.0",
            "grid_template_areas": null,
            "object_position": null,
            "object_fit": null,
            "grid_auto_columns": null,
            "margin": null,
            "display": null,
            "left": null
          }
        },
        "2315cf84228f485e9fce7989960e50b3": {
          "model_module": "@jupyter-widgets/controls",
          "model_name": "HBoxModel",
          "state": {
            "_view_name": "HBoxView",
            "_dom_classes": [],
            "_model_name": "HBoxModel",
            "_view_module": "@jupyter-widgets/controls",
            "_model_module_version": "1.5.0",
            "_view_count": null,
            "_view_module_version": "1.5.0",
            "box_style": "",
            "layout": "IPY_MODEL_74a55c7e08294fed871492a5f99761a2",
            "_model_module": "@jupyter-widgets/controls",
            "children": [
              "IPY_MODEL_df798ab6603748be91872662ef7b2bb9",
              "IPY_MODEL_9ee4efb852c04457b4e7906d8d67fd62"
            ]
          }
        },
        "74a55c7e08294fed871492a5f99761a2": {
          "model_module": "@jupyter-widgets/base",
          "model_name": "LayoutModel",
          "state": {
            "_view_name": "LayoutView",
            "grid_template_rows": null,
            "right": null,
            "justify_content": null,
            "_view_module": "@jupyter-widgets/base",
            "overflow": null,
            "_model_module_version": "1.2.0",
            "_view_count": null,
            "flex_flow": null,
            "width": null,
            "min_width": null,
            "border": null,
            "align_items": null,
            "bottom": null,
            "_model_module": "@jupyter-widgets/base",
            "top": null,
            "grid_column": null,
            "overflow_y": null,
            "overflow_x": null,
            "grid_auto_flow": null,
            "grid_area": null,
            "grid_template_columns": null,
            "flex": null,
            "_model_name": "LayoutModel",
            "justify_items": null,
            "grid_row": null,
            "max_height": null,
            "align_content": null,
            "visibility": null,
            "align_self": null,
            "height": null,
            "min_height": null,
            "padding": null,
            "grid_auto_rows": null,
            "grid_gap": null,
            "max_width": null,
            "order": null,
            "_view_module_version": "1.2.0",
            "grid_template_areas": null,
            "object_position": null,
            "object_fit": null,
            "grid_auto_columns": null,
            "margin": null,
            "display": null,
            "left": null
          }
        },
        "df798ab6603748be91872662ef7b2bb9": {
          "model_module": "@jupyter-widgets/controls",
          "model_name": "FloatProgressModel",
          "state": {
            "_view_name": "ProgressView",
            "style": "IPY_MODEL_340a3ffd5bcc4ad3938c567023f14e9a",
            "_dom_classes": [],
            "description": "Downloading: 100%",
            "_model_name": "FloatProgressModel",
            "bar_style": "success",
            "max": 31,
            "_view_module": "@jupyter-widgets/controls",
            "_model_module_version": "1.5.0",
            "value": 31,
            "_view_count": null,
            "_view_module_version": "1.5.0",
            "orientation": "horizontal",
            "min": 0,
            "description_tooltip": null,
            "_model_module": "@jupyter-widgets/controls",
            "layout": "IPY_MODEL_ccd39cf3b4c448a1aae4a135cc59308e"
          }
        },
        "9ee4efb852c04457b4e7906d8d67fd62": {
          "model_module": "@jupyter-widgets/controls",
          "model_name": "HTMLModel",
          "state": {
            "_view_name": "HTMLView",
            "style": "IPY_MODEL_98a1e3086fc84f9ea19001206020008a",
            "_dom_classes": [],
            "description": "",
            "_model_name": "HTMLModel",
            "placeholder": "​",
            "_view_module": "@jupyter-widgets/controls",
            "_model_module_version": "1.5.0",
            "value": " 31.0/31.0 [00:00&lt;00:00, 40.0B/s]",
            "_view_count": null,
            "_view_module_version": "1.5.0",
            "description_tooltip": null,
            "_model_module": "@jupyter-widgets/controls",
            "layout": "IPY_MODEL_a9f5c135f08549d5858b63e7b321ef1c"
          }
        },
        "340a3ffd5bcc4ad3938c567023f14e9a": {
          "model_module": "@jupyter-widgets/controls",
          "model_name": "ProgressStyleModel",
          "state": {
            "_view_name": "StyleView",
            "_model_name": "ProgressStyleModel",
            "description_width": "initial",
            "_view_module": "@jupyter-widgets/base",
            "_model_module_version": "1.5.0",
            "_view_count": null,
            "_view_module_version": "1.2.0",
            "bar_color": null,
            "_model_module": "@jupyter-widgets/controls"
          }
        },
        "ccd39cf3b4c448a1aae4a135cc59308e": {
          "model_module": "@jupyter-widgets/base",
          "model_name": "LayoutModel",
          "state": {
            "_view_name": "LayoutView",
            "grid_template_rows": null,
            "right": null,
            "justify_content": null,
            "_view_module": "@jupyter-widgets/base",
            "overflow": null,
            "_model_module_version": "1.2.0",
            "_view_count": null,
            "flex_flow": null,
            "width": null,
            "min_width": null,
            "border": null,
            "align_items": null,
            "bottom": null,
            "_model_module": "@jupyter-widgets/base",
            "top": null,
            "grid_column": null,
            "overflow_y": null,
            "overflow_x": null,
            "grid_auto_flow": null,
            "grid_area": null,
            "grid_template_columns": null,
            "flex": null,
            "_model_name": "LayoutModel",
            "justify_items": null,
            "grid_row": null,
            "max_height": null,
            "align_content": null,
            "visibility": null,
            "align_self": null,
            "height": null,
            "min_height": null,
            "padding": null,
            "grid_auto_rows": null,
            "grid_gap": null,
            "max_width": null,
            "order": null,
            "_view_module_version": "1.2.0",
            "grid_template_areas": null,
            "object_position": null,
            "object_fit": null,
            "grid_auto_columns": null,
            "margin": null,
            "display": null,
            "left": null
          }
        },
        "98a1e3086fc84f9ea19001206020008a": {
          "model_module": "@jupyter-widgets/controls",
          "model_name": "DescriptionStyleModel",
          "state": {
            "_view_name": "StyleView",
            "_model_name": "DescriptionStyleModel",
            "description_width": "",
            "_view_module": "@jupyter-widgets/base",
            "_model_module_version": "1.5.0",
            "_view_count": null,
            "_view_module_version": "1.2.0",
            "_model_module": "@jupyter-widgets/controls"
          }
        },
        "a9f5c135f08549d5858b63e7b321ef1c": {
          "model_module": "@jupyter-widgets/base",
          "model_name": "LayoutModel",
          "state": {
            "_view_name": "LayoutView",
            "grid_template_rows": null,
            "right": null,
            "justify_content": null,
            "_view_module": "@jupyter-widgets/base",
            "overflow": null,
            "_model_module_version": "1.2.0",
            "_view_count": null,
            "flex_flow": null,
            "width": null,
            "min_width": null,
            "border": null,
            "align_items": null,
            "bottom": null,
            "_model_module": "@jupyter-widgets/base",
            "top": null,
            "grid_column": null,
            "overflow_y": null,
            "overflow_x": null,
            "grid_auto_flow": null,
            "grid_area": null,
            "grid_template_columns": null,
            "flex": null,
            "_model_name": "LayoutModel",
            "justify_items": null,
            "grid_row": null,
            "max_height": null,
            "align_content": null,
            "visibility": null,
            "align_self": null,
            "height": null,
            "min_height": null,
            "padding": null,
            "grid_auto_rows": null,
            "grid_gap": null,
            "max_width": null,
            "order": null,
            "_view_module_version": "1.2.0",
            "grid_template_areas": null,
            "object_position": null,
            "object_fit": null,
            "grid_auto_columns": null,
            "margin": null,
            "display": null,
            "left": null
          }
        },
        "678ed89884124c4a91236fe691cdbc8d": {
          "model_module": "@jupyter-widgets/controls",
          "model_name": "HBoxModel",
          "state": {
            "_view_name": "HBoxView",
            "_dom_classes": [],
            "_model_name": "HBoxModel",
            "_view_module": "@jupyter-widgets/controls",
            "_model_module_version": "1.5.0",
            "_view_count": null,
            "_view_module_version": "1.5.0",
            "box_style": "",
            "layout": "IPY_MODEL_2d4a12c16eea4905b8ab85e3081a40cb",
            "_model_module": "@jupyter-widgets/controls",
            "children": [
              "IPY_MODEL_4a4bd03972904395874186cabd485a20",
              "IPY_MODEL_d4642b98547b43fe9ea8ee82d677f407"
            ]
          }
        },
        "2d4a12c16eea4905b8ab85e3081a40cb": {
          "model_module": "@jupyter-widgets/base",
          "model_name": "LayoutModel",
          "state": {
            "_view_name": "LayoutView",
            "grid_template_rows": null,
            "right": null,
            "justify_content": null,
            "_view_module": "@jupyter-widgets/base",
            "overflow": null,
            "_model_module_version": "1.2.0",
            "_view_count": null,
            "flex_flow": null,
            "width": null,
            "min_width": null,
            "border": null,
            "align_items": null,
            "bottom": null,
            "_model_module": "@jupyter-widgets/base",
            "top": null,
            "grid_column": null,
            "overflow_y": null,
            "overflow_x": null,
            "grid_auto_flow": null,
            "grid_area": null,
            "grid_template_columns": null,
            "flex": null,
            "_model_name": "LayoutModel",
            "justify_items": null,
            "grid_row": null,
            "max_height": null,
            "align_content": null,
            "visibility": null,
            "align_self": null,
            "height": null,
            "min_height": null,
            "padding": null,
            "grid_auto_rows": null,
            "grid_gap": null,
            "max_width": null,
            "order": null,
            "_view_module_version": "1.2.0",
            "grid_template_areas": null,
            "object_position": null,
            "object_fit": null,
            "grid_auto_columns": null,
            "margin": null,
            "display": null,
            "left": null
          }
        },
        "4a4bd03972904395874186cabd485a20": {
          "model_module": "@jupyter-widgets/controls",
          "model_name": "FloatProgressModel",
          "state": {
            "_view_name": "ProgressView",
            "style": "IPY_MODEL_d710a8c8ce8a43e894dc09d3797e1921",
            "_dom_classes": [],
            "description": "Downloading: 100%",
            "_model_name": "FloatProgressModel",
            "bar_style": "success",
            "max": 65,
            "_view_module": "@jupyter-widgets/controls",
            "_model_module_version": "1.5.0",
            "value": 65,
            "_view_count": null,
            "_view_module_version": "1.5.0",
            "orientation": "horizontal",
            "min": 0,
            "description_tooltip": null,
            "_model_module": "@jupyter-widgets/controls",
            "layout": "IPY_MODEL_df2632548ee4403288279a65fc6ca9e6"
          }
        },
        "d4642b98547b43fe9ea8ee82d677f407": {
          "model_module": "@jupyter-widgets/controls",
          "model_name": "HTMLModel",
          "state": {
            "_view_name": "HTMLView",
            "style": "IPY_MODEL_92a017ecbebd49f5acd0159cb707b780",
            "_dom_classes": [],
            "description": "",
            "_model_name": "HTMLModel",
            "placeholder": "​",
            "_view_module": "@jupyter-widgets/controls",
            "_model_module_version": "1.5.0",
            "value": " 65.0/65.0 [02:12&lt;00:00, 2.03s/B]",
            "_view_count": null,
            "_view_module_version": "1.5.0",
            "description_tooltip": null,
            "_model_module": "@jupyter-widgets/controls",
            "layout": "IPY_MODEL_5e7ffffd96e7400e85ccbc3b6364171a"
          }
        },
        "d710a8c8ce8a43e894dc09d3797e1921": {
          "model_module": "@jupyter-widgets/controls",
          "model_name": "ProgressStyleModel",
          "state": {
            "_view_name": "StyleView",
            "_model_name": "ProgressStyleModel",
            "description_width": "initial",
            "_view_module": "@jupyter-widgets/base",
            "_model_module_version": "1.5.0",
            "_view_count": null,
            "_view_module_version": "1.2.0",
            "bar_color": null,
            "_model_module": "@jupyter-widgets/controls"
          }
        },
        "df2632548ee4403288279a65fc6ca9e6": {
          "model_module": "@jupyter-widgets/base",
          "model_name": "LayoutModel",
          "state": {
            "_view_name": "LayoutView",
            "grid_template_rows": null,
            "right": null,
            "justify_content": null,
            "_view_module": "@jupyter-widgets/base",
            "overflow": null,
            "_model_module_version": "1.2.0",
            "_view_count": null,
            "flex_flow": null,
            "width": null,
            "min_width": null,
            "border": null,
            "align_items": null,
            "bottom": null,
            "_model_module": "@jupyter-widgets/base",
            "top": null,
            "grid_column": null,
            "overflow_y": null,
            "overflow_x": null,
            "grid_auto_flow": null,
            "grid_area": null,
            "grid_template_columns": null,
            "flex": null,
            "_model_name": "LayoutModel",
            "justify_items": null,
            "grid_row": null,
            "max_height": null,
            "align_content": null,
            "visibility": null,
            "align_self": null,
            "height": null,
            "min_height": null,
            "padding": null,
            "grid_auto_rows": null,
            "grid_gap": null,
            "max_width": null,
            "order": null,
            "_view_module_version": "1.2.0",
            "grid_template_areas": null,
            "object_position": null,
            "object_fit": null,
            "grid_auto_columns": null,
            "margin": null,
            "display": null,
            "left": null
          }
        },
        "92a017ecbebd49f5acd0159cb707b780": {
          "model_module": "@jupyter-widgets/controls",
          "model_name": "DescriptionStyleModel",
          "state": {
            "_view_name": "StyleView",
            "_model_name": "DescriptionStyleModel",
            "description_width": "",
            "_view_module": "@jupyter-widgets/base",
            "_model_module_version": "1.5.0",
            "_view_count": null,
            "_view_module_version": "1.2.0",
            "_model_module": "@jupyter-widgets/controls"
          }
        },
        "5e7ffffd96e7400e85ccbc3b6364171a": {
          "model_module": "@jupyter-widgets/base",
          "model_name": "LayoutModel",
          "state": {
            "_view_name": "LayoutView",
            "grid_template_rows": null,
            "right": null,
            "justify_content": null,
            "_view_module": "@jupyter-widgets/base",
            "overflow": null,
            "_model_module_version": "1.2.0",
            "_view_count": null,
            "flex_flow": null,
            "width": null,
            "min_width": null,
            "border": null,
            "align_items": null,
            "bottom": null,
            "_model_module": "@jupyter-widgets/base",
            "top": null,
            "grid_column": null,
            "overflow_y": null,
            "overflow_x": null,
            "grid_auto_flow": null,
            "grid_area": null,
            "grid_template_columns": null,
            "flex": null,
            "_model_name": "LayoutModel",
            "justify_items": null,
            "grid_row": null,
            "max_height": null,
            "align_content": null,
            "visibility": null,
            "align_self": null,
            "height": null,
            "min_height": null,
            "padding": null,
            "grid_auto_rows": null,
            "grid_gap": null,
            "max_width": null,
            "order": null,
            "_view_module_version": "1.2.0",
            "grid_template_areas": null,
            "object_position": null,
            "object_fit": null,
            "grid_auto_columns": null,
            "margin": null,
            "display": null,
            "left": null
          }
        },
        "17d66515e2564d659a57f66387e49448": {
          "model_module": "@jupyter-widgets/controls",
          "model_name": "HBoxModel",
          "state": {
            "_view_name": "HBoxView",
            "_dom_classes": [],
            "_model_name": "HBoxModel",
            "_view_module": "@jupyter-widgets/controls",
            "_model_module_version": "1.5.0",
            "_view_count": null,
            "_view_module_version": "1.5.0",
            "box_style": "",
            "layout": "IPY_MODEL_6ae2df0c022b4265be2201b7dfa0eee2",
            "_model_module": "@jupyter-widgets/controls",
            "children": [
              "IPY_MODEL_061e434f60c544c883396fd03ef6f7a9",
              "IPY_MODEL_3a973c95ec304d1eb7697f31d20bebfb"
            ]
          }
        },
        "6ae2df0c022b4265be2201b7dfa0eee2": {
          "model_module": "@jupyter-widgets/base",
          "model_name": "LayoutModel",
          "state": {
            "_view_name": "LayoutView",
            "grid_template_rows": null,
            "right": null,
            "justify_content": null,
            "_view_module": "@jupyter-widgets/base",
            "overflow": null,
            "_model_module_version": "1.2.0",
            "_view_count": null,
            "flex_flow": null,
            "width": null,
            "min_width": null,
            "border": null,
            "align_items": null,
            "bottom": null,
            "_model_module": "@jupyter-widgets/base",
            "top": null,
            "grid_column": null,
            "overflow_y": null,
            "overflow_x": null,
            "grid_auto_flow": null,
            "grid_area": null,
            "grid_template_columns": null,
            "flex": null,
            "_model_name": "LayoutModel",
            "justify_items": null,
            "grid_row": null,
            "max_height": null,
            "align_content": null,
            "visibility": null,
            "align_self": null,
            "height": null,
            "min_height": null,
            "padding": null,
            "grid_auto_rows": null,
            "grid_gap": null,
            "max_width": null,
            "order": null,
            "_view_module_version": "1.2.0",
            "grid_template_areas": null,
            "object_position": null,
            "object_fit": null,
            "grid_auto_columns": null,
            "margin": null,
            "display": null,
            "left": null
          }
        },
        "061e434f60c544c883396fd03ef6f7a9": {
          "model_module": "@jupyter-widgets/controls",
          "model_name": "FloatProgressModel",
          "state": {
            "_view_name": "ProgressView",
            "style": "IPY_MODEL_526cf30c79394af193a1f720215440cb",
            "_dom_classes": [],
            "description": "Downloading: 100%",
            "_model_name": "FloatProgressModel",
            "bar_style": "success",
            "max": 90,
            "_view_module": "@jupyter-widgets/controls",
            "_model_module_version": "1.5.0",
            "value": 90,
            "_view_count": null,
            "_view_module_version": "1.5.0",
            "orientation": "horizontal",
            "min": 0,
            "description_tooltip": null,
            "_model_module": "@jupyter-widgets/controls",
            "layout": "IPY_MODEL_bcb9c113cd73410ba8f7fbf0d3ead3de"
          }
        },
        "3a973c95ec304d1eb7697f31d20bebfb": {
          "model_module": "@jupyter-widgets/controls",
          "model_name": "HTMLModel",
          "state": {
            "_view_name": "HTMLView",
            "style": "IPY_MODEL_4e6155c67fc149e88283640ea2dba875",
            "_dom_classes": [],
            "description": "",
            "_model_name": "HTMLModel",
            "placeholder": "​",
            "_view_module": "@jupyter-widgets/controls",
            "_model_module_version": "1.5.0",
            "value": " 90.0/90.0 [00:14&lt;00:00, 6.07B/s]",
            "_view_count": null,
            "_view_module_version": "1.5.0",
            "description_tooltip": null,
            "_model_module": "@jupyter-widgets/controls",
            "layout": "IPY_MODEL_8e9ae1eb67454fd2a1999569ef91812d"
          }
        },
        "526cf30c79394af193a1f720215440cb": {
          "model_module": "@jupyter-widgets/controls",
          "model_name": "ProgressStyleModel",
          "state": {
            "_view_name": "StyleView",
            "_model_name": "ProgressStyleModel",
            "description_width": "initial",
            "_view_module": "@jupyter-widgets/base",
            "_model_module_version": "1.5.0",
            "_view_count": null,
            "_view_module_version": "1.2.0",
            "bar_color": null,
            "_model_module": "@jupyter-widgets/controls"
          }
        },
        "bcb9c113cd73410ba8f7fbf0d3ead3de": {
          "model_module": "@jupyter-widgets/base",
          "model_name": "LayoutModel",
          "state": {
            "_view_name": "LayoutView",
            "grid_template_rows": null,
            "right": null,
            "justify_content": null,
            "_view_module": "@jupyter-widgets/base",
            "overflow": null,
            "_model_module_version": "1.2.0",
            "_view_count": null,
            "flex_flow": null,
            "width": null,
            "min_width": null,
            "border": null,
            "align_items": null,
            "bottom": null,
            "_model_module": "@jupyter-widgets/base",
            "top": null,
            "grid_column": null,
            "overflow_y": null,
            "overflow_x": null,
            "grid_auto_flow": null,
            "grid_area": null,
            "grid_template_columns": null,
            "flex": null,
            "_model_name": "LayoutModel",
            "justify_items": null,
            "grid_row": null,
            "max_height": null,
            "align_content": null,
            "visibility": null,
            "align_self": null,
            "height": null,
            "min_height": null,
            "padding": null,
            "grid_auto_rows": null,
            "grid_gap": null,
            "max_width": null,
            "order": null,
            "_view_module_version": "1.2.0",
            "grid_template_areas": null,
            "object_position": null,
            "object_fit": null,
            "grid_auto_columns": null,
            "margin": null,
            "display": null,
            "left": null
          }
        },
        "4e6155c67fc149e88283640ea2dba875": {
          "model_module": "@jupyter-widgets/controls",
          "model_name": "DescriptionStyleModel",
          "state": {
            "_view_name": "StyleView",
            "_model_name": "DescriptionStyleModel",
            "description_width": "",
            "_view_module": "@jupyter-widgets/base",
            "_model_module_version": "1.5.0",
            "_view_count": null,
            "_view_module_version": "1.2.0",
            "_model_module": "@jupyter-widgets/controls"
          }
        },
        "8e9ae1eb67454fd2a1999569ef91812d": {
          "model_module": "@jupyter-widgets/base",
          "model_name": "LayoutModel",
          "state": {
            "_view_name": "LayoutView",
            "grid_template_rows": null,
            "right": null,
            "justify_content": null,
            "_view_module": "@jupyter-widgets/base",
            "overflow": null,
            "_model_module_version": "1.2.0",
            "_view_count": null,
            "flex_flow": null,
            "width": null,
            "min_width": null,
            "border": null,
            "align_items": null,
            "bottom": null,
            "_model_module": "@jupyter-widgets/base",
            "top": null,
            "grid_column": null,
            "overflow_y": null,
            "overflow_x": null,
            "grid_auto_flow": null,
            "grid_area": null,
            "grid_template_columns": null,
            "flex": null,
            "_model_name": "LayoutModel",
            "justify_items": null,
            "grid_row": null,
            "max_height": null,
            "align_content": null,
            "visibility": null,
            "align_self": null,
            "height": null,
            "min_height": null,
            "padding": null,
            "grid_auto_rows": null,
            "grid_gap": null,
            "max_width": null,
            "order": null,
            "_view_module_version": "1.2.0",
            "grid_template_areas": null,
            "object_position": null,
            "object_fit": null,
            "grid_auto_columns": null,
            "margin": null,
            "display": null,
            "left": null
          }
        },
        "682386f494254c49aa3d5a0c8f5d69c4": {
          "model_module": "@jupyter-widgets/controls",
          "model_name": "HBoxModel",
          "state": {
            "_view_name": "HBoxView",
            "_dom_classes": [],
            "_model_name": "HBoxModel",
            "_view_module": "@jupyter-widgets/controls",
            "_model_module_version": "1.5.0",
            "_view_count": null,
            "_view_module_version": "1.5.0",
            "box_style": "",
            "layout": "IPY_MODEL_f8f0ee47ca75471f8f3683ade49828d4",
            "_model_module": "@jupyter-widgets/controls",
            "children": [
              "IPY_MODEL_55d770e71f5e4fe4a23166c6730e766a",
              "IPY_MODEL_5ba1703dc1dc4332ac3f8c2bea47dae2"
            ]
          }
        },
        "f8f0ee47ca75471f8f3683ade49828d4": {
          "model_module": "@jupyter-widgets/base",
          "model_name": "LayoutModel",
          "state": {
            "_view_name": "LayoutView",
            "grid_template_rows": null,
            "right": null,
            "justify_content": null,
            "_view_module": "@jupyter-widgets/base",
            "overflow": null,
            "_model_module_version": "1.2.0",
            "_view_count": null,
            "flex_flow": null,
            "width": null,
            "min_width": null,
            "border": null,
            "align_items": null,
            "bottom": null,
            "_model_module": "@jupyter-widgets/base",
            "top": null,
            "grid_column": null,
            "overflow_y": null,
            "overflow_x": null,
            "grid_auto_flow": null,
            "grid_area": null,
            "grid_template_columns": null,
            "flex": null,
            "_model_name": "LayoutModel",
            "justify_items": null,
            "grid_row": null,
            "max_height": null,
            "align_content": null,
            "visibility": null,
            "align_self": null,
            "height": null,
            "min_height": null,
            "padding": null,
            "grid_auto_rows": null,
            "grid_gap": null,
            "max_width": null,
            "order": null,
            "_view_module_version": "1.2.0",
            "grid_template_areas": null,
            "object_position": null,
            "object_fit": null,
            "grid_auto_columns": null,
            "margin": null,
            "display": null,
            "left": null
          }
        },
        "55d770e71f5e4fe4a23166c6730e766a": {
          "model_module": "@jupyter-widgets/controls",
          "model_name": "FloatProgressModel",
          "state": {
            "_view_name": "ProgressView",
            "style": "IPY_MODEL_672e7f1d77d74ddbb718de64f8a145f6",
            "_dom_classes": [],
            "description": "Downloading: 100%",
            "_model_name": "FloatProgressModel",
            "bar_style": "success",
            "max": 242013376,
            "_view_module": "@jupyter-widgets/controls",
            "_model_module_version": "1.5.0",
            "value": 242013376,
            "_view_count": null,
            "_view_module_version": "1.5.0",
            "orientation": "horizontal",
            "min": 0,
            "description_tooltip": null,
            "_model_module": "@jupyter-widgets/controls",
            "layout": "IPY_MODEL_65385b1c40f442f995d5fe64d605d696"
          }
        },
        "5ba1703dc1dc4332ac3f8c2bea47dae2": {
          "model_module": "@jupyter-widgets/controls",
          "model_name": "HTMLModel",
          "state": {
            "_view_name": "HTMLView",
            "style": "IPY_MODEL_066aaaa1c6114374a0123ada0e4f92a0",
            "_dom_classes": [],
            "description": "",
            "_model_name": "HTMLModel",
            "placeholder": "​",
            "_view_module": "@jupyter-widgets/controls",
            "_model_module_version": "1.5.0",
            "value": " 242M/242M [00:13&lt;00:00, 17.9MB/s]",
            "_view_count": null,
            "_view_module_version": "1.5.0",
            "description_tooltip": null,
            "_model_module": "@jupyter-widgets/controls",
            "layout": "IPY_MODEL_0516a4d0370d401f84141d1eb67fedb5"
          }
        },
        "672e7f1d77d74ddbb718de64f8a145f6": {
          "model_module": "@jupyter-widgets/controls",
          "model_name": "ProgressStyleModel",
          "state": {
            "_view_name": "StyleView",
            "_model_name": "ProgressStyleModel",
            "description_width": "initial",
            "_view_module": "@jupyter-widgets/base",
            "_model_module_version": "1.5.0",
            "_view_count": null,
            "_view_module_version": "1.2.0",
            "bar_color": null,
            "_model_module": "@jupyter-widgets/controls"
          }
        },
        "65385b1c40f442f995d5fe64d605d696": {
          "model_module": "@jupyter-widgets/base",
          "model_name": "LayoutModel",
          "state": {
            "_view_name": "LayoutView",
            "grid_template_rows": null,
            "right": null,
            "justify_content": null,
            "_view_module": "@jupyter-widgets/base",
            "overflow": null,
            "_model_module_version": "1.2.0",
            "_view_count": null,
            "flex_flow": null,
            "width": null,
            "min_width": null,
            "border": null,
            "align_items": null,
            "bottom": null,
            "_model_module": "@jupyter-widgets/base",
            "top": null,
            "grid_column": null,
            "overflow_y": null,
            "overflow_x": null,
            "grid_auto_flow": null,
            "grid_area": null,
            "grid_template_columns": null,
            "flex": null,
            "_model_name": "LayoutModel",
            "justify_items": null,
            "grid_row": null,
            "max_height": null,
            "align_content": null,
            "visibility": null,
            "align_self": null,
            "height": null,
            "min_height": null,
            "padding": null,
            "grid_auto_rows": null,
            "grid_gap": null,
            "max_width": null,
            "order": null,
            "_view_module_version": "1.2.0",
            "grid_template_areas": null,
            "object_position": null,
            "object_fit": null,
            "grid_auto_columns": null,
            "margin": null,
            "display": null,
            "left": null
          }
        },
        "066aaaa1c6114374a0123ada0e4f92a0": {
          "model_module": "@jupyter-widgets/controls",
          "model_name": "DescriptionStyleModel",
          "state": {
            "_view_name": "StyleView",
            "_model_name": "DescriptionStyleModel",
            "description_width": "",
            "_view_module": "@jupyter-widgets/base",
            "_model_module_version": "1.5.0",
            "_view_count": null,
            "_view_module_version": "1.2.0",
            "_model_module": "@jupyter-widgets/controls"
          }
        },
        "0516a4d0370d401f84141d1eb67fedb5": {
          "model_module": "@jupyter-widgets/base",
          "model_name": "LayoutModel",
          "state": {
            "_view_name": "LayoutView",
            "grid_template_rows": null,
            "right": null,
            "justify_content": null,
            "_view_module": "@jupyter-widgets/base",
            "overflow": null,
            "_model_module_version": "1.2.0",
            "_view_count": null,
            "flex_flow": null,
            "width": null,
            "min_width": null,
            "border": null,
            "align_items": null,
            "bottom": null,
            "_model_module": "@jupyter-widgets/base",
            "top": null,
            "grid_column": null,
            "overflow_y": null,
            "overflow_x": null,
            "grid_auto_flow": null,
            "grid_area": null,
            "grid_template_columns": null,
            "flex": null,
            "_model_name": "LayoutModel",
            "justify_items": null,
            "grid_row": null,
            "max_height": null,
            "align_content": null,
            "visibility": null,
            "align_self": null,
            "height": null,
            "min_height": null,
            "padding": null,
            "grid_auto_rows": null,
            "grid_gap": null,
            "max_width": null,
            "order": null,
            "_view_module_version": "1.2.0",
            "grid_template_areas": null,
            "object_position": null,
            "object_fit": null,
            "grid_auto_columns": null,
            "margin": null,
            "display": null,
            "left": null
          }
        }
      }
    }
  },
  "cells": [
    {
      "cell_type": "markdown",
      "metadata": {
        "id": "view-in-github",
        "colab_type": "text"
      },
      "source": [
        "<a href=\"https://colab.research.google.com/github/hamletbatista/seonderground/blob/master/SEOUnderground.ipynb\" target=\"_parent\"><img src=\"https://colab.research.google.com/assets/colab-badge.svg\" alt=\"Open In Colab\"/></a>"
      ]
    },
    {
      "cell_type": "code",
      "metadata": {
        "id": "CrV8cop7K-dK"
      },
      "source": [
        ""
      ],
      "execution_count": null,
      "outputs": []
    },
    {
      "cell_type": "markdown",
      "metadata": {
        "id": "CJAP-kE6LBrQ"
      },
      "source": [
        "#Creando una Sección de FAQs y si Marcado Estructurado en 30 Minutos\n",
        "\n",
        "##Agenda\n",
        "\n",
        "Vamos a ver aplicaciones prácticas de generación de texto para SEO:\n",
        "\n",
        "1. Preparación de entorno con Google Colab\n",
        "2. Sacando texto para sumarizar y traducir\n",
        "3. Usando sumarización con T5 y BART\n",
        "4. Usando traducciones con T5\n",
        "5. Traduciendo con Google Translate\n",
        "6. Casos problemáticos en Español: Generación de Preguntas y  Respuestas Frequentes\n",
        "7. Generación de Marcado Estructurado\n",
        "7. Un poco de teoría de cómo todo esto funciona tan bien\n",
        "8. Donde aprender más\n"
      ]
    },
    {
      "cell_type": "code",
      "metadata": {
        "id": "nQJ8j-yWLVTR"
      },
      "source": [
        ""
      ],
      "execution_count": null,
      "outputs": []
    },
    {
      "cell_type": "markdown",
      "metadata": {
        "id": "3Q6aWLtoOSwr"
      },
      "source": [
        "## Preparación de entorno con Google Colab"
      ]
    },
    {
      "cell_type": "code",
      "metadata": {
        "id": "BERK4ku9OVbx"
      },
      "source": [
        "%%capture\n",
        "!pip install requests-html transformers jinja2"
      ],
      "execution_count": 1,
      "outputs": []
    },
    {
      "cell_type": "markdown",
      "metadata": {
        "id": "ZKhEhXMyMo_g"
      },
      "source": [
        "##Sacando texto para sumarizar y traducir\n",
        "\n",
        "Puedes cambiar la dirección de la pagina en el formulario debajo"
      ]
    },
    {
      "cell_type": "code",
      "metadata": {
        "id": "63kojMNCNA0z"
      },
      "source": [
        "url = \"https://www.elespectador.com/entretenimiento/gente/elaine-palacio-de-puerto-boyaca-a-las-pasarelas-de-nueva-york/\" #@param {type:\"string\"}\n",
        "selector = \"p\" #@param {type:\"string\"}\n",
        "\n"
      ],
      "execution_count": 2,
      "outputs": []
    },
    {
      "cell_type": "code",
      "metadata": {
        "id": "JjIOXcY-N_9T"
      },
      "source": [
        "# Sacado de https://www.searchenginejournal.com/generate-quality-faqs-faqpage-schemas-with-python/380004/\n",
        "\n",
        "from requests_html import HTMLSession\n",
        "sesión = HTMLSession()\n",
        "\n",
        "with sesión.get(url) as r:\n",
        "\n",
        "    párrafo = r.html.find(selector, first=False)\n",
        "\n",
        "    texto = \" \".join([ p.text for p in párrafo])\n"
      ],
      "execution_count": 3,
      "outputs": []
    },
    {
      "cell_type": "code",
      "metadata": {
        "id": "6ostEZmPOoXw"
      },
      "source": [
        ""
      ],
      "execution_count": 3,
      "outputs": []
    },
    {
      "cell_type": "markdown",
      "metadata": {
        "id": "DF0A6x5AP52I"
      },
      "source": [
        "Veamos el texto que extraímos"
      ]
    },
    {
      "cell_type": "code",
      "metadata": {
        "id": "KppZqBSKQl06",
        "outputId": "b906b5a6-4d78-4803-b2c5-896b5ee35a0c",
        "colab": {
          "base_uri": "https://localhost:8080/",
          "height": 222
        }
      },
      "source": [
        "texto"
      ],
      "execution_count": 4,
      "outputs": [
        {
          "output_type": "execute_result",
          "data": {
            "application/vnd.google.colaboratory.intrinsic+json": {
              "type": "string"
            },
            "text/plain": [
              "\" La modelo colombiana de 18 años apareció en la edición especial de septiembre de la revista “Vogue” Italia. Tiene contratos con marcas como Victoria’s Secret, Reebok y Burberry. “Mi reinita, te lo dije. Tienes 18 años y mira dónde estás”, le dijo María Flor Rentería a su nieta Elaine Palacio Mosquera cuando la vio en la portada de Vogue Italia. Ella la impulsó para que se metiera de modelo. La abuela cree que su nieta es la Naomi Campbell colombiana. “Fue quien me apoyó pagando las mensualidades en la academia de modelaje. Tuve que aprender sobre qué era ser una modelo”, cuenta. Elaine Palacio fue elegida como una de los cien personajes que aparecieron en la portada de la revista Vogue Italia en la edición especial de septiembre. La publicación decidió hacer un centenar de portadas diferentes para ese mes, el más importante del año, porque las editoriales reciben pautas de grandes empresas para mostrar las tendencias de otoño-invierno. “Vogue” escogió a famosas como Cindy Crawford, Bella Hadid y Emily Ratajkowski, hasta activistas y modelos afro y transgénero para contar sus historias y dejar en evidencia el momento de transformaciones que vive la industria: diversidad y esperanza en el futuro. “Al inicio de una temporada que es en muchos aspectos decisiva, creemos que es hora de hablar en voz alta sobre la belleza y la esperanza. Por primera vez, filmamos e imprimimos cien portadas. Cada una está dedicada a un protagonista diferente: por edad, apariencia física, color de piel”, dijo en el editorial Emanuele Farneti, editor de Vogue Italia. Im very proud to be part of this Amazing proyect. Im very thankful @vogueitalia❤🙏 Big Thanks to my Agency @womenmanagementny🎉❤🎉❤ to believe in me love you guys @sel07 @mig__79 @anthonybourgois Josee..Muchas Gracias ❤❤ for the cover of @vogueitalia September 2020 100 covers, 100 people, 100 stories, 1 Elaine. #VogueItalia100 Photographer: @Mark_Borthwick Stylist: @mr_carlos_nazario Creative Director: @FerdinandoVerderi Editor: @efarneti Hair: @jawaraw Makeup: @susiesobol_makeup Casting: @pg_dmcasting @samuel_ellis Producer: @alexispf A post shared by ELAINE (@elainelorelin) on Sep 16, 2020 at 9:12am PDT Elaine Palacio es una modelo joven que nació en Puerto Boyacá, municipio al noroccidente de Boyacá que limita con Antioquia. Tiene una risa que contagia y cuando habla acentúa sus historias con las manos. Aplaude en los momentos claves cuando cuenta sus anécdotas y habla con desparpajo sin perder el glamour y su postura recta. Antes de modelo fue deportista. Empezó en el patinaje y luego quiso ser atleta, inspirada en Caterine Ibargüen, por lo que se fue a vivir a Medellín para conseguir su sueño. En la capital de Antioquia asistió a Colombiamoda, la semana de la moda nacional más importante. Ahí un amigo fotógrafo le hizo unos retratos. El modelaje se le atravesó cuando tenía 16 años. Aunque de las modelos se espera que dispongan todo su ser al servicio de la indumentaria, como lo narra Patricia Soley-Beltrán en ¡Divina! Modelos, poder y mentiras, Palacio cree que su encanto está en su personalidad. “Me di cuenta de que la moda es diversidad, cultura, arte y belleza. Detrás de las fotografías hay historias que me llenan el corazón. Saber de los diseñadores, sus prendas y la relación con la modelo es bellísimo”. i'm black, I'm Afro✊🏿💥 Can't be more Honored to be part of this story @vogueitalia. Very thankful for this oportunity, and blessed to work with this Amazing Team! Muchas Gracias 💥💕. Photo by @renellaice in @tylersphotos’ s Black Nonsense” for Vogue Italia. team credits: @womenmanagementy @sel07 Styling @_raymondgee Hair: @nikkinelms Make up: @marcelogutierrez Production +set Desing @nycfilmlocations 💥💥💥 A post shared by ELAINE (@elainelorelin) on Sep 17, 2020 at 11:53am PDT Las fotos que le tomó el amigo en Colombiamoda llegaron a Nueva York y una agencia la llevó a México. Esa fue la primera vez que salió del país. “Mi infancia en el pueblo fue de alegría, fue lo mejor. Soy del barrio Nuevo Brisas, donde bailan y celebran todo. Incluso, cuando alguien gana un chance. Me hablaba con todos los vecinos. Mis papás me enseñaron valores y a tener siempre los pies en la tierra”. En México estuvo cuatro meses y se devolvió a Colombia para sacar los papeles de la visa e irse a Nueva York. “Llegué sin un peso, pero dije aquí voy a poder tener más ganancias. Tampoco sabía hablar inglés”. Elaine Palacio cuenta que fue un tiempo difícil, porque la agencia que la manejaba la presionaba con el peso, uno de los estereotipos más cuestionados en la industria. “Me decían gorda, pero yo sabía que estaba bien. No me estaba queriendo, así que decidí cambiar de agencia y todo cambió a mi favor. El problema no era yo, eran ellos. Mientras que las marcas me decían: ‘Te quiero, te quiero’”. Recuerda que la agencia no le daba suficiente dinero para sus necesidades, el idioma no le ayudaba y tenía que salir con cuatro horas de antelación a los castings por si se perdía. Incluso, se tuvo que colar en el metro varias veces. “Uno bien vestido y elegante y saltándose el metro. Yo soy muy calle”, dice entre risas, “no me podía varar”. Creció en un hogar humilde. Su mamá, Sandra Milena Mosquera, está estudiando para ser profesora; su papá, Luis Alberto Palacio, es obrero, y su hermano Ederson, futbolista. Mientras estuvo en su casa no le faltó lo básico, lo que sí le ocurrió en Nueva York. “Los de la agencia me tenían que dar US$100 a la semana y solo me daban US$40 porque estaba ‘gorda’; era como un castigo. No decía nada porque era una niña y no quería preocupar a mi familia”. En uno de esos momentos difíciles la modelo encontró una aplicación que “regalaba” comida a las modelos. “Un sábado me fui al restaurante y le pedí ayuda al encargado del local para que me ordenara una hamburguesa con papas fritas porque yo no sabía inglés. También me trajeron una copa de vino. Me comí la mitad y pedí que me empacaran el resto. Luego me trajeron la cuenta. ¡Lo único gratis era el vino! No sabía qué hacer, me puse a llorar y le expliqué al señor, que hablaba español, que me habían dicho que la comida era gratis. Menos mal me dejó ir, porque si me ponía a lavar los platos habría terminado a la madrugada y al otro día tenía una audición”. Elaine Palacio sintió que el objetivo de convertirse en una modelo reconocida se había truncado. Pensó en volver a Colombia. Sin embargo, un día, mientras caminaba por las calles de Nueva York, la encargada de elegir las modelos de la marca de lencería Victoria’s Secret la fichó. “Fue una salvación. Tengo un contrato con ellos y me llaman cuando necesitan alguna campaña”. Como su carrera despegó en el exterior, Elaine no ha trabajado en la industria nacional, pero dice que le gustaría apoyar a las marcas emergentes. Ha desfilado las prendas de Alexander Wang, Christopher John Rogers, Rebecca Minkoff, Burberry y Reebok. También quiere ser actriz y cantante de reguetón, salsa cubana o hacer mezclas, como Rosalía. Está creando una fundación para ayudar mediante la cultura y el deporte a los jóvenes de Puerto Boyacá. “Necesitamos más apoyo del Gobierno. Más escuelas y universidades no solo en las ciudades, también en los pueblos, porque los abandonan. En mi pueblo conocí muchos jóvenes y adultos mayores que no tenían recursos. Quiero ayudar en algo. Se roban el dinero y uno se pregunta por qué. No quiero eso para las nuevas generaciones”. La portada especial no fue la única que hizo para la revista italiana, pues la eligieron para una nueva edición que le rinde homenaje al movimiento Black Lives Matter, que resurgió tras la muerte de George Floyd a manos de un policía en Minneapolis. “Me sentí muy orgullosa de representar a la comunidad afrocolombiana en la portada de Vogue Italia. Fue muy duro lo que le ocurrió a Floyd. También he sufrido racismo, pero no le pongo atención, no me acomplejo por lo que me dicen las personas. En la moda sí veo que eligen más a personas blancas”. En Colombia sintió que perdió oportunidades por su color de piel. Elaine Palacio invita a los jóvenes a que tengan sueños, pero que también piensen en cómo van a lograrlos. “En el camino vamos a encontrar obstáculos y personas que nos quieren hacer daño. Sin embargo, debemos seguir luchando. Como dice la gente: ‘Cuando más oscura está la noche más cerca está el amanecer’. Lo más importante es lo que uno quiere lograr”. Really happy to be part of this beautiful team, @victoriasecretandpink_ Thank God for my work group and the director @mrs_k_chow 💫💫 I am very happy for this opportunity, thank you.\\U0001f9da🏿\\u200d♀️🇨🇴❤ @vspink #pink #victoriasecret A post shared by ELAINE (@elainelorelin) on Dec 30, 2019 at 10:04am PST  Gente- 28 Sep 2020 - 11:25 p.\\xa0m. Recibe nuestro boletín de noticias Al hacer clic en “Enviar” usted está de acuerdo en recibir actualizaciones y ofertas especiales para los productos y servicios de El Espectador, así como también acepta nuestra Política de tratamiento de datos. \""
            ]
          },
          "metadata": {
            "tags": []
          },
          "execution_count": 4
        }
      ]
    },
    {
      "cell_type": "markdown",
      "metadata": {
        "id": "ToZ540CgRBPV"
      },
      "source": [
        "Se ve bien! 🤓"
      ]
    },
    {
      "cell_type": "markdown",
      "metadata": {
        "id": "1rWuRBpVMsto"
      },
      "source": [
        "##Usando sumarización con BART"
      ]
    },
    {
      "cell_type": "code",
      "metadata": {
        "id": "bsHFXFd6Te4O"
      },
      "source": [
        "from transformers import pipeline"
      ],
      "execution_count": 7,
      "outputs": []
    },
    {
      "cell_type": "code",
      "metadata": {
        "id": "aQIsIWrlf6dp"
      },
      "source": [
        "# USando bart con pytorch\n",
        "sumarizador_bart = pipeline(\"summarization\")"
      ],
      "execution_count": null,
      "outputs": []
    },
    {
      "cell_type": "code",
      "metadata": {
        "id": "v6wFgW1nTqq0",
        "outputId": "3a86e6f5-5f69-4fe2-d61f-86cf7390824e",
        "colab": {
          "base_uri": "https://localhost:8080/",
          "height": 361
        }
      },
      "source": [
        "resumen = sumarizador_bart(texto, min_length=50, max_length=250)"
      ],
      "execution_count": 10,
      "outputs": [
        {
          "output_type": "stream",
          "text": [
            "Token indices sequence length is longer than the specified maximum sequence length for this model (3175 > 1024). Running this sequence through the model will result in indexing errors\n"
          ],
          "name": "stderr"
        },
        {
          "output_type": "error",
          "ename": "IndexError",
          "evalue": "ignored",
          "traceback": [
            "\u001b[0;31m---------------------------------------------------------------------------\u001b[0m",
            "\u001b[0;31mIndexError\u001b[0m                                Traceback (most recent call last)",
            "\u001b[0;32m<ipython-input-10-1b5f1da65de4>\u001b[0m in \u001b[0;36m<module>\u001b[0;34m()\u001b[0m\n\u001b[0;32m----> 1\u001b[0;31m \u001b[0mresumen\u001b[0m \u001b[0;34m=\u001b[0m \u001b[0msumarizador_bart\u001b[0m\u001b[0;34m(\u001b[0m\u001b[0mtexto\u001b[0m\u001b[0;34m,\u001b[0m \u001b[0mmin_length\u001b[0m\u001b[0;34m=\u001b[0m\u001b[0;36m50\u001b[0m\u001b[0;34m,\u001b[0m \u001b[0mmax_length\u001b[0m\u001b[0;34m=\u001b[0m\u001b[0;36m250\u001b[0m\u001b[0;34m)\u001b[0m\u001b[0;34m\u001b[0m\u001b[0;34m\u001b[0m\u001b[0m\n\u001b[0m",
            "\u001b[0;32m/usr/local/lib/python3.6/dist-packages/transformers/pipelines.py\u001b[0m in \u001b[0;36m__call__\u001b[0;34m(self, return_tensors, return_text, clean_up_tokenization_spaces, *documents, **generate_kwargs)\u001b[0m\n\u001b[1;32m   1960\u001b[0m                 \u001b[0minputs\u001b[0m\u001b[0;34m[\u001b[0m\u001b[0;34m\"input_ids\"\u001b[0m\u001b[0;34m]\u001b[0m\u001b[0;34m,\u001b[0m\u001b[0;34m\u001b[0m\u001b[0;34m\u001b[0m\u001b[0m\n\u001b[1;32m   1961\u001b[0m                 \u001b[0mattention_mask\u001b[0m\u001b[0;34m=\u001b[0m\u001b[0minputs\u001b[0m\u001b[0;34m[\u001b[0m\u001b[0;34m\"attention_mask\"\u001b[0m\u001b[0;34m]\u001b[0m\u001b[0;34m,\u001b[0m\u001b[0;34m\u001b[0m\u001b[0;34m\u001b[0m\u001b[0m\n\u001b[0;32m-> 1962\u001b[0;31m                 \u001b[0;34m**\u001b[0m\u001b[0mgenerate_kwargs\u001b[0m\u001b[0;34m,\u001b[0m\u001b[0;34m\u001b[0m\u001b[0;34m\u001b[0m\u001b[0m\n\u001b[0m\u001b[1;32m   1963\u001b[0m             )\n\u001b[1;32m   1964\u001b[0m \u001b[0;34m\u001b[0m\u001b[0m\n",
            "\u001b[0;32m/usr/local/lib/python3.6/dist-packages/torch/autograd/grad_mode.py\u001b[0m in \u001b[0;36mdecorate_context\u001b[0;34m(*args, **kwargs)\u001b[0m\n\u001b[1;32m     13\u001b[0m         \u001b[0;32mdef\u001b[0m \u001b[0mdecorate_context\u001b[0m\u001b[0;34m(\u001b[0m\u001b[0;34m*\u001b[0m\u001b[0margs\u001b[0m\u001b[0;34m,\u001b[0m \u001b[0;34m**\u001b[0m\u001b[0mkwargs\u001b[0m\u001b[0;34m)\u001b[0m\u001b[0;34m:\u001b[0m\u001b[0;34m\u001b[0m\u001b[0;34m\u001b[0m\u001b[0m\n\u001b[1;32m     14\u001b[0m             \u001b[0;32mwith\u001b[0m \u001b[0mself\u001b[0m\u001b[0;34m:\u001b[0m\u001b[0;34m\u001b[0m\u001b[0;34m\u001b[0m\u001b[0m\n\u001b[0;32m---> 15\u001b[0;31m                 \u001b[0;32mreturn\u001b[0m \u001b[0mfunc\u001b[0m\u001b[0;34m(\u001b[0m\u001b[0;34m*\u001b[0m\u001b[0margs\u001b[0m\u001b[0;34m,\u001b[0m \u001b[0;34m**\u001b[0m\u001b[0mkwargs\u001b[0m\u001b[0;34m)\u001b[0m\u001b[0;34m\u001b[0m\u001b[0;34m\u001b[0m\u001b[0m\n\u001b[0m\u001b[1;32m     16\u001b[0m         \u001b[0;32mreturn\u001b[0m \u001b[0mdecorate_context\u001b[0m\u001b[0;34m\u001b[0m\u001b[0;34m\u001b[0m\u001b[0m\n\u001b[1;32m     17\u001b[0m \u001b[0;34m\u001b[0m\u001b[0m\n",
            "\u001b[0;32m/usr/local/lib/python3.6/dist-packages/transformers/generation_utils.py\u001b[0m in \u001b[0;36mgenerate\u001b[0;34m(self, input_ids, max_length, min_length, do_sample, early_stopping, num_beams, temperature, top_k, top_p, repetition_penalty, bad_words_ids, bos_token_id, pad_token_id, eos_token_id, length_penalty, no_repeat_ngram_size, num_return_sequences, attention_mask, decoder_start_token_id, use_cache, **model_kwargs)\u001b[0m\n\u001b[1;32m    400\u001b[0m             \u001b[0;31m# get encoder and store encoder outputs\u001b[0m\u001b[0;34m\u001b[0m\u001b[0;34m\u001b[0m\u001b[0;34m\u001b[0m\u001b[0m\n\u001b[1;32m    401\u001b[0m             \u001b[0mencoder\u001b[0m \u001b[0;34m=\u001b[0m \u001b[0mself\u001b[0m\u001b[0;34m.\u001b[0m\u001b[0mget_encoder\u001b[0m\u001b[0;34m(\u001b[0m\u001b[0;34m)\u001b[0m\u001b[0;34m\u001b[0m\u001b[0;34m\u001b[0m\u001b[0m\n\u001b[0;32m--> 402\u001b[0;31m             \u001b[0mencoder_outputs\u001b[0m\u001b[0;34m:\u001b[0m \u001b[0mModelOutput\u001b[0m \u001b[0;34m=\u001b[0m \u001b[0mencoder\u001b[0m\u001b[0;34m(\u001b[0m\u001b[0minput_ids\u001b[0m\u001b[0;34m,\u001b[0m \u001b[0mattention_mask\u001b[0m\u001b[0;34m=\u001b[0m\u001b[0mattention_mask\u001b[0m\u001b[0;34m,\u001b[0m \u001b[0mreturn_dict\u001b[0m\u001b[0;34m=\u001b[0m\u001b[0;32mTrue\u001b[0m\u001b[0;34m)\u001b[0m\u001b[0;34m\u001b[0m\u001b[0;34m\u001b[0m\u001b[0m\n\u001b[0m\u001b[1;32m    403\u001b[0m \u001b[0;34m\u001b[0m\u001b[0m\n\u001b[1;32m    404\u001b[0m         \u001b[0;31m# Expand input ids if num_beams > 1 or num_return_sequences > 1\u001b[0m\u001b[0;34m\u001b[0m\u001b[0;34m\u001b[0m\u001b[0;34m\u001b[0m\u001b[0m\n",
            "\u001b[0;32m/usr/local/lib/python3.6/dist-packages/torch/nn/modules/module.py\u001b[0m in \u001b[0;36m_call_impl\u001b[0;34m(self, *input, **kwargs)\u001b[0m\n\u001b[1;32m    720\u001b[0m             \u001b[0mresult\u001b[0m \u001b[0;34m=\u001b[0m \u001b[0mself\u001b[0m\u001b[0;34m.\u001b[0m\u001b[0m_slow_forward\u001b[0m\u001b[0;34m(\u001b[0m\u001b[0;34m*\u001b[0m\u001b[0minput\u001b[0m\u001b[0;34m,\u001b[0m \u001b[0;34m**\u001b[0m\u001b[0mkwargs\u001b[0m\u001b[0;34m)\u001b[0m\u001b[0;34m\u001b[0m\u001b[0;34m\u001b[0m\u001b[0m\n\u001b[1;32m    721\u001b[0m         \u001b[0;32melse\u001b[0m\u001b[0;34m:\u001b[0m\u001b[0;34m\u001b[0m\u001b[0;34m\u001b[0m\u001b[0m\n\u001b[0;32m--> 722\u001b[0;31m             \u001b[0mresult\u001b[0m \u001b[0;34m=\u001b[0m \u001b[0mself\u001b[0m\u001b[0;34m.\u001b[0m\u001b[0mforward\u001b[0m\u001b[0;34m(\u001b[0m\u001b[0;34m*\u001b[0m\u001b[0minput\u001b[0m\u001b[0;34m,\u001b[0m \u001b[0;34m**\u001b[0m\u001b[0mkwargs\u001b[0m\u001b[0;34m)\u001b[0m\u001b[0;34m\u001b[0m\u001b[0;34m\u001b[0m\u001b[0m\n\u001b[0m\u001b[1;32m    723\u001b[0m         for hook in itertools.chain(\n\u001b[1;32m    724\u001b[0m                 \u001b[0m_global_forward_hooks\u001b[0m\u001b[0;34m.\u001b[0m\u001b[0mvalues\u001b[0m\u001b[0;34m(\u001b[0m\u001b[0;34m)\u001b[0m\u001b[0;34m,\u001b[0m\u001b[0;34m\u001b[0m\u001b[0;34m\u001b[0m\u001b[0m\n",
            "\u001b[0;32m/usr/local/lib/python3.6/dist-packages/transformers/modeling_bart.py\u001b[0m in \u001b[0;36mforward\u001b[0;34m(self, input_ids, attention_mask, output_attentions, output_hidden_states, return_dict)\u001b[0m\n\u001b[1;32m    333\u001b[0m \u001b[0;34m\u001b[0m\u001b[0m\n\u001b[1;32m    334\u001b[0m         \u001b[0minputs_embeds\u001b[0m \u001b[0;34m=\u001b[0m \u001b[0mself\u001b[0m\u001b[0;34m.\u001b[0m\u001b[0membed_tokens\u001b[0m\u001b[0;34m(\u001b[0m\u001b[0minput_ids\u001b[0m\u001b[0;34m)\u001b[0m \u001b[0;34m*\u001b[0m \u001b[0mself\u001b[0m\u001b[0;34m.\u001b[0m\u001b[0membed_scale\u001b[0m\u001b[0;34m\u001b[0m\u001b[0;34m\u001b[0m\u001b[0m\n\u001b[0;32m--> 335\u001b[0;31m         \u001b[0membed_pos\u001b[0m \u001b[0;34m=\u001b[0m \u001b[0mself\u001b[0m\u001b[0;34m.\u001b[0m\u001b[0membed_positions\u001b[0m\u001b[0;34m(\u001b[0m\u001b[0minput_ids\u001b[0m\u001b[0;34m)\u001b[0m\u001b[0;34m\u001b[0m\u001b[0;34m\u001b[0m\u001b[0m\n\u001b[0m\u001b[1;32m    336\u001b[0m         \u001b[0mx\u001b[0m \u001b[0;34m=\u001b[0m \u001b[0minputs_embeds\u001b[0m \u001b[0;34m+\u001b[0m \u001b[0membed_pos\u001b[0m\u001b[0;34m\u001b[0m\u001b[0;34m\u001b[0m\u001b[0m\n\u001b[1;32m    337\u001b[0m         \u001b[0mx\u001b[0m \u001b[0;34m=\u001b[0m \u001b[0mself\u001b[0m\u001b[0;34m.\u001b[0m\u001b[0mlayernorm_embedding\u001b[0m\u001b[0;34m(\u001b[0m\u001b[0mx\u001b[0m\u001b[0;34m)\u001b[0m\u001b[0;34m\u001b[0m\u001b[0;34m\u001b[0m\u001b[0m\n",
            "\u001b[0;32m/usr/local/lib/python3.6/dist-packages/torch/nn/modules/module.py\u001b[0m in \u001b[0;36m_call_impl\u001b[0;34m(self, *input, **kwargs)\u001b[0m\n\u001b[1;32m    720\u001b[0m             \u001b[0mresult\u001b[0m \u001b[0;34m=\u001b[0m \u001b[0mself\u001b[0m\u001b[0;34m.\u001b[0m\u001b[0m_slow_forward\u001b[0m\u001b[0;34m(\u001b[0m\u001b[0;34m*\u001b[0m\u001b[0minput\u001b[0m\u001b[0;34m,\u001b[0m \u001b[0;34m**\u001b[0m\u001b[0mkwargs\u001b[0m\u001b[0;34m)\u001b[0m\u001b[0;34m\u001b[0m\u001b[0;34m\u001b[0m\u001b[0m\n\u001b[1;32m    721\u001b[0m         \u001b[0;32melse\u001b[0m\u001b[0;34m:\u001b[0m\u001b[0;34m\u001b[0m\u001b[0;34m\u001b[0m\u001b[0m\n\u001b[0;32m--> 722\u001b[0;31m             \u001b[0mresult\u001b[0m \u001b[0;34m=\u001b[0m \u001b[0mself\u001b[0m\u001b[0;34m.\u001b[0m\u001b[0mforward\u001b[0m\u001b[0;34m(\u001b[0m\u001b[0;34m*\u001b[0m\u001b[0minput\u001b[0m\u001b[0;34m,\u001b[0m \u001b[0;34m**\u001b[0m\u001b[0mkwargs\u001b[0m\u001b[0;34m)\u001b[0m\u001b[0;34m\u001b[0m\u001b[0;34m\u001b[0m\u001b[0m\n\u001b[0m\u001b[1;32m    723\u001b[0m         for hook in itertools.chain(\n\u001b[1;32m    724\u001b[0m                 \u001b[0m_global_forward_hooks\u001b[0m\u001b[0;34m.\u001b[0m\u001b[0mvalues\u001b[0m\u001b[0;34m(\u001b[0m\u001b[0;34m)\u001b[0m\u001b[0;34m,\u001b[0m\u001b[0;34m\u001b[0m\u001b[0;34m\u001b[0m\u001b[0m\n",
            "\u001b[0;32m/usr/local/lib/python3.6/dist-packages/transformers/modeling_bart.py\u001b[0m in \u001b[0;36mforward\u001b[0;34m(self, input_ids, use_cache)\u001b[0m\n\u001b[1;32m    820\u001b[0m             \u001b[0;31m# starts at 0, ends at 1-seq_len\u001b[0m\u001b[0;34m\u001b[0m\u001b[0;34m\u001b[0m\u001b[0;34m\u001b[0m\u001b[0m\n\u001b[1;32m    821\u001b[0m             \u001b[0mpositions\u001b[0m \u001b[0;34m=\u001b[0m \u001b[0mtorch\u001b[0m\u001b[0;34m.\u001b[0m\u001b[0marange\u001b[0m\u001b[0;34m(\u001b[0m\u001b[0mseq_len\u001b[0m\u001b[0;34m,\u001b[0m \u001b[0mdtype\u001b[0m\u001b[0;34m=\u001b[0m\u001b[0mtorch\u001b[0m\u001b[0;34m.\u001b[0m\u001b[0mlong\u001b[0m\u001b[0;34m,\u001b[0m \u001b[0mdevice\u001b[0m\u001b[0;34m=\u001b[0m\u001b[0mself\u001b[0m\u001b[0;34m.\u001b[0m\u001b[0mweight\u001b[0m\u001b[0;34m.\u001b[0m\u001b[0mdevice\u001b[0m\u001b[0;34m)\u001b[0m\u001b[0;34m\u001b[0m\u001b[0;34m\u001b[0m\u001b[0m\n\u001b[0;32m--> 822\u001b[0;31m         \u001b[0;32mreturn\u001b[0m \u001b[0msuper\u001b[0m\u001b[0;34m(\u001b[0m\u001b[0;34m)\u001b[0m\u001b[0;34m.\u001b[0m\u001b[0mforward\u001b[0m\u001b[0;34m(\u001b[0m\u001b[0mpositions\u001b[0m \u001b[0;34m+\u001b[0m \u001b[0mself\u001b[0m\u001b[0;34m.\u001b[0m\u001b[0moffset\u001b[0m\u001b[0;34m)\u001b[0m\u001b[0;34m\u001b[0m\u001b[0;34m\u001b[0m\u001b[0m\n\u001b[0m\u001b[1;32m    823\u001b[0m \u001b[0;34m\u001b[0m\u001b[0m\n\u001b[1;32m    824\u001b[0m \u001b[0;34m\u001b[0m\u001b[0m\n",
            "\u001b[0;32m/usr/local/lib/python3.6/dist-packages/torch/nn/modules/sparse.py\u001b[0m in \u001b[0;36mforward\u001b[0;34m(self, input)\u001b[0m\n\u001b[1;32m    124\u001b[0m         return F.embedding(\n\u001b[1;32m    125\u001b[0m             \u001b[0minput\u001b[0m\u001b[0;34m,\u001b[0m \u001b[0mself\u001b[0m\u001b[0;34m.\u001b[0m\u001b[0mweight\u001b[0m\u001b[0;34m,\u001b[0m \u001b[0mself\u001b[0m\u001b[0;34m.\u001b[0m\u001b[0mpadding_idx\u001b[0m\u001b[0;34m,\u001b[0m \u001b[0mself\u001b[0m\u001b[0;34m.\u001b[0m\u001b[0mmax_norm\u001b[0m\u001b[0;34m,\u001b[0m\u001b[0;34m\u001b[0m\u001b[0;34m\u001b[0m\u001b[0m\n\u001b[0;32m--> 126\u001b[0;31m             self.norm_type, self.scale_grad_by_freq, self.sparse)\n\u001b[0m\u001b[1;32m    127\u001b[0m \u001b[0;34m\u001b[0m\u001b[0m\n\u001b[1;32m    128\u001b[0m     \u001b[0;32mdef\u001b[0m \u001b[0mextra_repr\u001b[0m\u001b[0;34m(\u001b[0m\u001b[0mself\u001b[0m\u001b[0;34m)\u001b[0m \u001b[0;34m->\u001b[0m \u001b[0mstr\u001b[0m\u001b[0;34m:\u001b[0m\u001b[0;34m\u001b[0m\u001b[0;34m\u001b[0m\u001b[0m\n",
            "\u001b[0;32m/usr/local/lib/python3.6/dist-packages/torch/nn/functional.py\u001b[0m in \u001b[0;36membedding\u001b[0;34m(input, weight, padding_idx, max_norm, norm_type, scale_grad_by_freq, sparse)\u001b[0m\n\u001b[1;32m   1812\u001b[0m         \u001b[0;31m# remove once script supports set_grad_enabled\u001b[0m\u001b[0;34m\u001b[0m\u001b[0;34m\u001b[0m\u001b[0;34m\u001b[0m\u001b[0m\n\u001b[1;32m   1813\u001b[0m         \u001b[0m_no_grad_embedding_renorm_\u001b[0m\u001b[0;34m(\u001b[0m\u001b[0mweight\u001b[0m\u001b[0;34m,\u001b[0m \u001b[0minput\u001b[0m\u001b[0;34m,\u001b[0m \u001b[0mmax_norm\u001b[0m\u001b[0;34m,\u001b[0m \u001b[0mnorm_type\u001b[0m\u001b[0;34m)\u001b[0m\u001b[0;34m\u001b[0m\u001b[0;34m\u001b[0m\u001b[0m\n\u001b[0;32m-> 1814\u001b[0;31m     \u001b[0;32mreturn\u001b[0m \u001b[0mtorch\u001b[0m\u001b[0;34m.\u001b[0m\u001b[0membedding\u001b[0m\u001b[0;34m(\u001b[0m\u001b[0mweight\u001b[0m\u001b[0;34m,\u001b[0m \u001b[0minput\u001b[0m\u001b[0;34m,\u001b[0m \u001b[0mpadding_idx\u001b[0m\u001b[0;34m,\u001b[0m \u001b[0mscale_grad_by_freq\u001b[0m\u001b[0;34m,\u001b[0m \u001b[0msparse\u001b[0m\u001b[0;34m)\u001b[0m\u001b[0;34m\u001b[0m\u001b[0;34m\u001b[0m\u001b[0m\n\u001b[0m\u001b[1;32m   1815\u001b[0m \u001b[0;34m\u001b[0m\u001b[0m\n\u001b[1;32m   1816\u001b[0m \u001b[0;34m\u001b[0m\u001b[0m\n",
            "\u001b[0;31mIndexError\u001b[0m: index out of range in self"
          ]
        }
      ]
    },
    {
      "cell_type": "markdown",
      "metadata": {
        "id": "JXiENBbLUlVg"
      },
      "source": [
        "Vamos a truncar el texto para que funcione"
      ]
    },
    {
      "cell_type": "code",
      "metadata": {
        "id": "2_az_tnyTsIn"
      },
      "source": [
        "resumen = sumarizador_bart(texto[:1024], min_length=50, max_length=250)"
      ],
      "execution_count": 11,
      "outputs": []
    },
    {
      "cell_type": "code",
      "metadata": {
        "id": "nnlb9lHCUaX5",
        "outputId": "f64eefbf-f4b9-4b68-9310-48ebfc82f044",
        "colab": {
          "base_uri": "https://localhost:8080/",
          "height": 52
        }
      },
      "source": [
        "resumen[0][\"summary_text\"]"
      ],
      "execution_count": 14,
      "outputs": [
        {
          "output_type": "execute_result",
          "data": {
            "application/vnd.google.colaboratory.intrinsic+json": {
              "type": "string"
            },
            "text/plain": [
              "' Elaine Palacio, 18, apareció in edición especial de septiembre of Vogue Italia . Tiene contratos con marcas como Victoria’s Secret, Reebok y Burberry . “Vogue” escogió a famosas como Cindy Crawford, Bella Hadid y Emily Ratajk .'"
            ]
          },
          "metadata": {
            "tags": []
          },
          "execution_count": 14
        }
      ]
    },
    {
      "cell_type": "code",
      "metadata": {
        "id": "TYLwSSk_UbHu"
      },
      "source": [
        ""
      ],
      "execution_count": null,
      "outputs": []
    },
    {
      "cell_type": "markdown",
      "metadata": {
        "id": "DTXB2hmrMxJE"
      },
      "source": [
        "##Usando sumarización con T5"
      ]
    },
    {
      "cell_type": "code",
      "metadata": {
        "id": "Dt9H9OSJbZly",
        "outputId": "f1fde8ff-39b2-4e5b-db7d-df33a9305ba1",
        "colab": {
          "base_uri": "https://localhost:8080/",
          "height": 54
        }
      },
      "source": [
        "sumarizador_t5 = pipeline(\"summarization\", model=\"t5-base\", tokenizer=\"t5-base\")\n",
        "\n",
        "resumen_base = sumarizador_t5(texto, min_length=50, max_length=250)"
      ],
      "execution_count": 16,
      "outputs": [
        {
          "output_type": "stream",
          "text": [
            "Token indices sequence length is longer than the specified maximum sequence length for this model (3764 > 512). Running this sequence through the model will result in indexing errors\n"
          ],
          "name": "stderr"
        }
      ]
    },
    {
      "cell_type": "code",
      "metadata": {
        "id": "7GoATHpSbso6",
        "outputId": "0d9baf62-4e59-430f-f79d-7bdfdbc01fd7",
        "colab": {
          "base_uri": "https://localhost:8080/",
          "height": 52
        }
      },
      "source": [
        "resumen_base[0][\"summary_text\"]"
      ],
      "execution_count": 17,
      "outputs": [
        {
          "output_type": "execute_result",
          "data": {
            "application/vnd.google.colaboratory.intrinsic+json": {
              "type": "string"
            },
            "text/plain": [
              "\"i'm black, I'm Afro Can't be more Honored to be part of this amazing story, thank you . #vogueitalia100 covers, 100 people, 100 stories, 1 Elaine .\""
            ]
          },
          "metadata": {
            "tags": []
          },
          "execution_count": 17
        }
      ]
    },
    {
      "cell_type": "code",
      "metadata": {
        "id": "sad1YoChbfZ8",
        "outputId": "53a392c3-9a5f-4012-8f0e-919d1d9ed3f6",
        "colab": {
          "base_uri": "https://localhost:8080/",
          "height": 250,
          "referenced_widgets": [
            "8a8f0181d9444ca2b62a269ff82b8e1b",
            "8633d6e7fc2745f2b4b8a11994e23211",
            "2b6c8a0c952f4054ac920fd7528af18f",
            "a520dba85656432cb83e042705d4264a",
            "ef7e8561ccda4727910f933b25c5a3d5",
            "b951137b00244f4f87bc9f296d692c54",
            "38f6161035d941c29588204a340b558d",
            "e5523c5cd5b449cf86e131a421d60197",
            "0a64a8737c1b40e69992189f3924cc51",
            "9c622e57f7da477dae72ee2deea7ee9c",
            "bdaa1e035cfc47a5ba120f342f2591e5",
            "8f9c6da989c8478e86ed9cd3e9e86f03",
            "b66cbdfd8107420e9cb639c1f78bb4dc",
            "d94945ef0115436789f39fa368a0e1d3",
            "0b7cfe0a448947baba9b92e47f2f3383",
            "0de41666273d4295bc7bc608edf12dcc",
            "5e3cdb40b6f544adac66baf8d769606d",
            "28a73e4b29604cea93145ab1cc7524d3",
            "ab21e84935594be8bd0da3cf2f0b3aef",
            "683f593089cb4055aff91b9dd38548d1",
            "a2ada9fdf8c64849bd72592b5ae7875c",
            "3374de46e9d44734917f4ea217ff09cf",
            "d7b4ae3f448948048513d020fe7b70ef",
            "c5e6440ff94040bf88a87f3385c01fbd",
            "b9ff0918d00e48d59f9d4eea950179d5",
            "824d15157170428ea8f31fce2bf6b6c2",
            "07e4d6e88667429fb1382a1e04b14725",
            "14aefd56a09a470f92eceed2384c18c1",
            "49099771c8454a68a6ac39a4974ebf6a",
            "04038b7b736f400d88756cd493f706a1",
            "91e5c985b9ac46c1b0af5cc2731b4467",
            "2d01b60d3bcf41659004618c91da4ff0"
          ]
        }
      },
      "source": [
        "sumarizador_t5 = pipeline(\"summarization\", model=\"t5-large\", tokenizer=\"t5-large\")\n",
        "\n",
        "resumen_grande = sumarizador_t5(texto, min_length=50, max_length=250)"
      ],
      "execution_count": 8,
      "outputs": [
        {
          "output_type": "display_data",
          "data": {
            "application/vnd.jupyter.widget-view+json": {
              "model_id": "8a8f0181d9444ca2b62a269ff82b8e1b",
              "version_minor": 0,
              "version_major": 2
            },
            "text/plain": [
              "HBox(children=(FloatProgress(value=0.0, description='Downloading', max=1200.0, style=ProgressStyle(description…"
            ]
          },
          "metadata": {
            "tags": []
          }
        },
        {
          "output_type": "stream",
          "text": [
            "\n"
          ],
          "name": "stdout"
        },
        {
          "output_type": "display_data",
          "data": {
            "application/vnd.jupyter.widget-view+json": {
              "model_id": "0a64a8737c1b40e69992189f3924cc51",
              "version_minor": 0,
              "version_major": 2
            },
            "text/plain": [
              "HBox(children=(FloatProgress(value=0.0, description='Downloading', max=791656.0, style=ProgressStyle(descripti…"
            ]
          },
          "metadata": {
            "tags": []
          }
        },
        {
          "output_type": "stream",
          "text": [
            "\n"
          ],
          "name": "stdout"
        },
        {
          "output_type": "display_data",
          "data": {
            "application/vnd.jupyter.widget-view+json": {
              "model_id": "5e3cdb40b6f544adac66baf8d769606d",
              "version_minor": 0,
              "version_major": 2
            },
            "text/plain": [
              "HBox(children=(FloatProgress(value=0.0, description='Downloading', max=230.0, style=ProgressStyle(description_…"
            ]
          },
          "metadata": {
            "tags": []
          }
        },
        {
          "output_type": "stream",
          "text": [
            "\n"
          ],
          "name": "stdout"
        },
        {
          "output_type": "display_data",
          "data": {
            "application/vnd.jupyter.widget-view+json": {
              "model_id": "b9ff0918d00e48d59f9d4eea950179d5",
              "version_minor": 0,
              "version_major": 2
            },
            "text/plain": [
              "HBox(children=(FloatProgress(value=0.0, description='Downloading', max=2950825948.0, style=ProgressStyle(descr…"
            ]
          },
          "metadata": {
            "tags": []
          }
        },
        {
          "output_type": "stream",
          "text": [
            "\n"
          ],
          "name": "stdout"
        },
        {
          "output_type": "stream",
          "text": [
            "Token indices sequence length is longer than the specified maximum sequence length for this model (3764 > 512). Running this sequence through the model will result in indexing errors\n"
          ],
          "name": "stderr"
        }
      ]
    },
    {
      "cell_type": "code",
      "metadata": {
        "id": "H3nvfPbSclEQ",
        "outputId": "7af9056b-8ffe-4213-fefd-cb9037da5840",
        "colab": {
          "base_uri": "https://localhost:8080/",
          "height": 52
        }
      },
      "source": [
        "resumen_grande[0][\"summary_text\"]"
      ],
      "execution_count": 9,
      "outputs": [
        {
          "output_type": "execute_result",
          "data": {
            "application/vnd.google.colaboratory.intrinsic+json": {
              "type": "string"
            },
            "text/plain": [
              "'Elaine Palacio Mosquera, de 18 aos, es una modelo afro-colombiana que elegió en la edición especial de septiembre de la revista “Vogue” Italia. “Me reinita, te lo dije”, dijo Mara Flor Rentera a su nieta Elaine palacio en Divina!'"
            ]
          },
          "metadata": {
            "tags": []
          },
          "execution_count": 9
        }
      ]
    },
    {
      "cell_type": "code",
      "metadata": {
        "id": "JW1A4UYSgsYu"
      },
      "source": [
        ""
      ],
      "execution_count": null,
      "outputs": []
    },
    {
      "cell_type": "markdown",
      "metadata": {
        "id": "XrOt4HFJkRNS"
      },
      "source": [
        "## Haciendo Traducciones con T5\n",
        "\n",
        "Vamos a usar este modelo que traduce al Portugues https://huggingface.co/mrm8488/t5-small-finetuned-translation-es-to-pt"
      ]
    },
    {
      "cell_type": "code",
      "metadata": {
        "id": "HTKIFFMrkXkI"
      },
      "source": [
        "#mrm8488/t5-small-finetuned-translation-es-to-pt\n",
        "\n",
        "es_to_pt_traducción = pipeline(\"translation_en_to_de\", model=\"mrm8488/t5-small-finetuned-translation-es-to-pt\", \n",
        "                            tokenizer=\"mrm8488/t5-small-finetuned-translation-es-to-pt\")\n"
      ],
      "execution_count": 19,
      "outputs": []
    },
    {
      "cell_type": "code",
      "metadata": {
        "id": "nkHfLvWnkYUF",
        "outputId": "5c7030cc-fd8f-4f93-92f9-0e2e014d6fe0",
        "colab": {
          "base_uri": "https://localhost:8080/",
          "height": 71
        }
      },
      "source": [
        "traducción = es_to_pt_traducción(texto, min_length=50, max_length=250)"
      ],
      "execution_count": 21,
      "outputs": [
        {
          "output_type": "stream",
          "text": [
            "Token indices sequence length is longer than the specified maximum sequence length for this model (3767 > 512). Running this sequence through the model will result in indexing errors\n",
            "Your input_length: 3767 is bigger than 0.9 * max_length: 250. You might consider increasing your max_length manually, e.g. translator('...', max_length=400)\n"
          ],
          "name": "stderr"
        }
      ]
    },
    {
      "cell_type": "code",
      "metadata": {
        "id": "piEfiLUYnu8d",
        "outputId": "b786b11b-6e83-40c3-aff9-a74b81c6d693",
        "colab": {
          "base_uri": "https://localhost:8080/",
          "height": 69
        }
      },
      "source": [
        "traducción[0][\"translation_text\"]"
      ],
      "execution_count": 24,
      "outputs": [
        {
          "output_type": "execute_result",
          "data": {
            "application/vnd.google.colaboratory.intrinsic+json": {
              "type": "string"
            },
            "text/plain": [
              "\"'' a modelo de 18 anos especial da revista '' '' . têm contratos com marcas como a Victoria’s Secret , reebok e a burberry .  ''  '' eu ainda ,  '' eu ainda , eu aconteceu em vogueitalia . ''\""
            ]
          },
          "metadata": {
            "tags": []
          },
          "execution_count": 24
        }
      ]
    },
    {
      "cell_type": "code",
      "metadata": {
        "id": "2Z8pWrm1wm9g"
      },
      "source": [
        ""
      ],
      "execution_count": null,
      "outputs": []
    },
    {
      "cell_type": "code",
      "metadata": {
        "id": "BvISNvHdwnLs"
      },
      "source": [
        ""
      ],
      "execution_count": null,
      "outputs": []
    },
    {
      "cell_type": "markdown",
      "metadata": {
        "id": "RnBO-FpjM0xT"
      },
      "source": [
        "##Traduciendo con Google Translate\n",
        "\n",
        "https://cloud.google.com/translate/docs/basic/quickstart"
      ]
    },
    {
      "cell_type": "code",
      "metadata": {
        "id": "hMsXcSUq_gzW"
      },
      "source": [
        "%%capture\n",
        "!pip install googletrans"
      ],
      "execution_count": 5,
      "outputs": []
    },
    {
      "cell_type": "code",
      "metadata": {
        "id": "FbGqMBAI_g-e"
      },
      "source": [
        "from googletrans import Translator"
      ],
      "execution_count": 6,
      "outputs": []
    },
    {
      "cell_type": "code",
      "metadata": {
        "id": "sVqPc4ND_g55"
      },
      "source": [
        "translator = Translator()"
      ],
      "execution_count": 7,
      "outputs": []
    },
    {
      "cell_type": "code",
      "metadata": {
        "id": "kLfgyvNdBNIc"
      },
      "source": [
        "result = translator.translate(texto, dest='pt')\n"
      ],
      "execution_count": 20,
      "outputs": []
    },
    {
      "cell_type": "code",
      "metadata": {
        "id": "rKrJNWkwAC97",
        "outputId": "9d822233-bb40-4c74-d37b-2fe8e39014bd",
        "colab": {
          "base_uri": "https://localhost:8080/",
          "height": 122
        }
      },
      "source": [
        "print(result.src)\n",
        "print(result.dest)\n",
        "print(result.origin)\n",
        "print(result.text)\n",
        "print(result.pronunciation)"
      ],
      "execution_count": 21,
      "outputs": [
        {
          "output_type": "stream",
          "text": [
            "es\n",
            "pt\n",
            " La modelo colombiana de 18 años apareció en la edición especial de septiembre de la revista “Vogue” Italia. Tiene contratos con marcas como Victoria’s Secret, Reebok y Burberry. “Mi reinita, te lo dije. Tienes 18 años y mira dónde estás”, le dijo María Flor Rentería a su nieta Elaine Palacio Mosquera cuando la vio en la portada de Vogue Italia. Ella la impulsó para que se metiera de modelo. La abuela cree que su nieta es la Naomi Campbell colombiana. “Fue quien me apoyó pagando las mensualidades en la academia de modelaje. Tuve que aprender sobre qué era ser una modelo”, cuenta. Elaine Palacio fue elegida como una de los cien personajes que aparecieron en la portada de la revista Vogue Italia en la edición especial de septiembre. La publicación decidió hacer un centenar de portadas diferentes para ese mes, el más importante del año, porque las editoriales reciben pautas de grandes empresas para mostrar las tendencias de otoño-invierno. “Vogue” escogió a famosas como Cindy Crawford, Bella Hadid y Emily Ratajkowski, hasta activistas y modelos afro y transgénero para contar sus historias y dejar en evidencia el momento de transformaciones que vive la industria: diversidad y esperanza en el futuro. “Al inicio de una temporada que es en muchos aspectos decisiva, creemos que es hora de hablar en voz alta sobre la belleza y la esperanza. Por primera vez, filmamos e imprimimos cien portadas. Cada una está dedicada a un protagonista diferente: por edad, apariencia física, color de piel”, dijo en el editorial Emanuele Farneti, editor de Vogue Italia. Im very proud to be part of this Amazing proyect. Im very thankful @vogueitalia❤🙏 Big Thanks to my Agency @womenmanagementny🎉❤🎉❤ to believe in me love you guys @sel07 @mig__79 @anthonybourgois Josee..Muchas Gracias ❤❤ for the cover of @vogueitalia September 2020 100 covers, 100 people, 100 stories, 1 Elaine. #VogueItalia100 Photographer: @Mark_Borthwick Stylist: @mr_carlos_nazario Creative Director: @FerdinandoVerderi Editor: @efarneti Hair: @jawaraw Makeup: @susiesobol_makeup Casting: @pg_dmcasting @samuel_ellis Producer: @alexispf A post shared by ELAINE (@elainelorelin) on Sep 16, 2020 at 9:12am PDT Elaine Palacio es una modelo joven que nació en Puerto Boyacá, municipio al noroccidente de Boyacá que limita con Antioquia. Tiene una risa que contagia y cuando habla acentúa sus historias con las manos. Aplaude en los momentos claves cuando cuenta sus anécdotas y habla con desparpajo sin perder el glamour y su postura recta. Antes de modelo fue deportista. Empezó en el patinaje y luego quiso ser atleta, inspirada en Caterine Ibargüen, por lo que se fue a vivir a Medellín para conseguir su sueño. En la capital de Antioquia asistió a Colombiamoda, la semana de la moda nacional más importante. Ahí un amigo fotógrafo le hizo unos retratos. El modelaje se le atravesó cuando tenía 16 años. Aunque de las modelos se espera que dispongan todo su ser al servicio de la indumentaria, como lo narra Patricia Soley-Beltrán en ¡Divina! Modelos, poder y mentiras, Palacio cree que su encanto está en su personalidad. “Me di cuenta de que la moda es diversidad, cultura, arte y belleza. Detrás de las fotografías hay historias que me llenan el corazón. Saber de los diseñadores, sus prendas y la relación con la modelo es bellísimo”. i'm black, I'm Afro✊🏿💥 Can't be more Honored to be part of this story @vogueitalia. Very thankful for this oportunity, and blessed to work with this Amazing Team! Muchas Gracias 💥💕. Photo by @renellaice in @tylersphotos’ s Black Nonsense” for Vogue Italia. team credits: @womenmanagementy @sel07 Styling @_raymondgee Hair: @nikkinelms Make up: @marcelogutierrez Production +set Desing @nycfilmlocations 💥💥💥 A post shared by ELAINE (@elainelorelin) on Sep 17, 2020 at 11:53am PDT Las fotos que le tomó el amigo en Colombiamoda llegaron a Nueva York y una agencia la llevó a México. Esa fue la primera vez que salió del país. “Mi infancia en el pueblo fue de alegría, fue lo mejor. Soy del barrio Nuevo Brisas, donde bailan y celebran todo. Incluso, cuando alguien gana un chance. Me hablaba con todos los vecinos. Mis papás me enseñaron valores y a tener siempre los pies en la tierra”. En México estuvo cuatro meses y se devolvió a Colombia para sacar los papeles de la visa e irse a Nueva York. “Llegué sin un peso, pero dije aquí voy a poder tener más ganancias. Tampoco sabía hablar inglés”. Elaine Palacio cuenta que fue un tiempo difícil, porque la agencia que la manejaba la presionaba con el peso, uno de los estereotipos más cuestionados en la industria. “Me decían gorda, pero yo sabía que estaba bien. No me estaba queriendo, así que decidí cambiar de agencia y todo cambió a mi favor. El problema no era yo, eran ellos. Mientras que las marcas me decían: ‘Te quiero, te quiero’”. Recuerda que la agencia no le daba suficiente dinero para sus necesidades, el idioma no le ayudaba y tenía que salir con cuatro horas de antelación a los castings por si se perdía. Incluso, se tuvo que colar en el metro varias veces. “Uno bien vestido y elegante y saltándose el metro. Yo soy muy calle”, dice entre risas, “no me podía varar”. Creció en un hogar humilde. Su mamá, Sandra Milena Mosquera, está estudiando para ser profesora; su papá, Luis Alberto Palacio, es obrero, y su hermano Ederson, futbolista. Mientras estuvo en su casa no le faltó lo básico, lo que sí le ocurrió en Nueva York. “Los de la agencia me tenían que dar US$100 a la semana y solo me daban US$40 porque estaba ‘gorda’; era como un castigo. No decía nada porque era una niña y no quería preocupar a mi familia”. En uno de esos momentos difíciles la modelo encontró una aplicación que “regalaba” comida a las modelos. “Un sábado me fui al restaurante y le pedí ayuda al encargado del local para que me ordenara una hamburguesa con papas fritas porque yo no sabía inglés. También me trajeron una copa de vino. Me comí la mitad y pedí que me empacaran el resto. Luego me trajeron la cuenta. ¡Lo único gratis era el vino! No sabía qué hacer, me puse a llorar y le expliqué al señor, que hablaba español, que me habían dicho que la comida era gratis. Menos mal me dejó ir, porque si me ponía a lavar los platos habría terminado a la madrugada y al otro día tenía una audición”. Elaine Palacio sintió que el objetivo de convertirse en una modelo reconocida se había truncado. Pensó en volver a Colombia. Sin embargo, un día, mientras caminaba por las calles de Nueva York, la encargada de elegir las modelos de la marca de lencería Victoria’s Secret la fichó. “Fue una salvación. Tengo un contrato con ellos y me llaman cuando necesitan alguna campaña”. Como su carrera despegó en el exterior, Elaine no ha trabajado en la industria nacional, pero dice que le gustaría apoyar a las marcas emergentes. Ha desfilado las prendas de Alexander Wang, Christopher John Rogers, Rebecca Minkoff, Burberry y Reebok. También quiere ser actriz y cantante de reguetón, salsa cubana o hacer mezclas, como Rosalía. Está creando una fundación para ayudar mediante la cultura y el deporte a los jóvenes de Puerto Boyacá. “Necesitamos más apoyo del Gobierno. Más escuelas y universidades no solo en las ciudades, también en los pueblos, porque los abandonan. En mi pueblo conocí muchos jóvenes y adultos mayores que no tenían recursos. Quiero ayudar en algo. Se roban el dinero y uno se pregunta por qué. No quiero eso para las nuevas generaciones”. La portada especial no fue la única que hizo para la revista italiana, pues la eligieron para una nueva edición que le rinde homenaje al movimiento Black Lives Matter, que resurgió tras la muerte de George Floyd a manos de un policía en Minneapolis. “Me sentí muy orgullosa de representar a la comunidad afrocolombiana en la portada de Vogue Italia. Fue muy duro lo que le ocurrió a Floyd. También he sufrido racismo, pero no le pongo atención, no me acomplejo por lo que me dicen las personas. En la moda sí veo que eligen más a personas blancas”. En Colombia sintió que perdió oportunidades por su color de piel. Elaine Palacio invita a los jóvenes a que tengan sueños, pero que también piensen en cómo van a lograrlos. “En el camino vamos a encontrar obstáculos y personas que nos quieren hacer daño. Sin embargo, debemos seguir luchando. Como dice la gente: ‘Cuando más oscura está la noche más cerca está el amanecer’. Lo más importante es lo que uno quiere lograr”. Really happy to be part of this beautiful team, @victoriasecretandpink_ Thank God for my work group and the director @mrs_k_chow 💫💫 I am very happy for this opportunity, thank you.🧚🏿‍♀️🇨🇴❤ @vspink #pink #victoriasecret A post shared by ELAINE (@elainelorelin) on Dec 30, 2019 at 10:04am PST  Gente- 28 Sep 2020 - 11:25 p. m. Recibe nuestro boletín de noticias Al hacer clic en “Enviar” usted está de acuerdo en recibir actualizaciones y ofertas especiales para los productos y servicios de El Espectador, así como también acepta nuestra Política de tratamiento de datos. \n",
            "A modelo colombiana de 18 anos apareceu na edição especial de setembro da revista “Vogue” Itália. Ele tem contratos com marcas como Victoria’s Secret, Reebok e Burberry. \"Minha pequena toutinegra, eu disse a você. Você tem 18 anos e veja onde está ”, disse María Flor Renteria à neta Elaine Palacio Mosquera quando a viu na capa da Vogue Italia. Ela a empurrou para a modelagem. A avó acredita que sua neta é a colombiana Naomi Campbell. “Foi ele quem me apoiou com o pagamento das mensalidades da academia de modelos. Tive que aprender o que era ser modelo ”, diz ela. Elaine Palacio foi escolhida como uma das 100 personagens a aparecer na capa da revista Vogue Italia na edição especial de setembro. A publicação decidiu fazer cem capas diferentes para aquele mês, o mais importante do ano, porque as editoras recebem orientações de grandes empresas para mostrar as tendências outono-inverno. A “Vogue” escolheu celebridades como Cindy Crawford, Bella Hadid e Emily Ratajkowski, além de ativistas e modelos afro e transgêneros para contar suas histórias e destacar o momento de transformação que a indústria está passando: diversidade e esperança para o futuro. “No início de uma temporada que em muitos aspectos é decisiva, acreditamos que é hora de falar em voz alta sobre beleza e esperança. Pela primeira vez, filmamos e imprimimos cem capas. Cada um é dedicado a um protagonista diferente: por idade, aparência física, cor da pele \", disse Emanuele Farneti, editora da Vogue Itália, no editorial. Estou muito orgulhoso de fazer parte deste projeto incrível. Estou muito grato a @ vogueitalia❤🙏 Muito obrigado à minha agência @ womenmanagementny🎉❤🎉❤ por acreditar em mim, amo vocês @ sel07 @ mig__79 @anthonybourgois Josee..Muchas Gracias ❤❤ pela capa da @vogueitalia setembro 2020 100 capas, 100 pessoas, 100 histórias, 1 Elaine. - 2020 às 9h12 PDT Elaine Palacio é uma jovem modelo que nasceu em Puerto Boyacá, município do noroeste de Boyacá que faz fronteira com Antioquia. Ele tem uma risada contagiante e quando fala acentua suas histórias com as mãos. Bata palmas em momentos-chave quando você conta suas anedotas e fala com ousadia sem perder seu glamour e sua postura ereta. Antes de modelar, ele era um atleta. Começou na patinação e depois quis ser atleta, inspirada em Caterine Ibargüen, então foi morar em Medellín para realizar seu sonho. Na capital Antioquia participou da Colombiamoda, a mais importante semana de moda nacional. Lá um amigo fotógrafo fez alguns retratos dele. Modelagem passou por sua mente quando ele tinha 16 anos. Embora se espere que as modelos coloquem todo o seu ser a serviço da roupa, como narra Patricia Soley-Beltrán em ¡Divina! Modelos, poder e mentiras, Palacio acredita que seu charme está em sua personalidade. “Percebi que moda é diversidade, cultura, arte e beleza. Por trás das fotos, há histórias que enchem meu coração. Saber dos estilistas, das roupas e da relação com a modelo é lindo ”. eu sou negro, sou afro✊🏿💥 Não posso estar mais honrado de fazer parte dessa história @vogueitalia. Muito grato por esta oportunidade, e abençoado por trabalhar com esta Equipe Incrível! Muito obrigado 💥💕. Foto de @renellaice em Black Nonsense de @tylersphotos ”para a Vogue Italia. créditos da equipe: @womenmanagementy @ sel07 Styling @_raymondgee Cabelo: @nikkinelms Maquiagem: @marcelogutierrez Produção + set Desing @nycfilmlocations 💥💥💥 Uma postagem compartilhada por ELAINE (@elainelorelin) em 17 de setembro de 2020 às 11h53 PDT As fotos que O amigo a levou em Colombiamoda, eles chegaram em Nova York e uma agência a levou para o México. Essa foi a primeira vez que ele saiu do país. “Minha infância na cidade foi de alegria, foi a melhor. Sou do bairro Nuevo Brisas, onde dançam e festejam de tudo. Mesmo quando alguém ganha uma chance. Conversei com todos os vizinhos. Meus pais me ensinaram valores e a ter sempre os pés no chão ”. Ele ficou no México por quatro meses e voltou à Colômbia para obter os papéis do visto e ir para Nova York. “Cheguei sem peso, mas disse aqui que poderei ter mais lucro. Ele também não sabia falar inglês. \" Elaine Palacio diz que foi um momento difícil, pois a agência que a administrava a pressionava com peso, um dos estereótipos mais questionados do setor. “Eles me chamavam de gordo, mas eu sabia que estava tudo bem. Ele não estava me amando, então decidi mudar de agência e tudo mudou a meu favor. O problema não era eu, eram eles. Enquanto as marcas me diziam: 'Eu te amo, eu te amo' ”. Lembre-se que a agência não deu dinheiro suficiente para suas necessidades, a linguagem não o ajudou e ele teve que sair quatro horas antes dos castings, caso se perdesse. Ele até teve que entrar no metrô várias vezes. “Um bem vestido e elegante e pulando o metrô. Sou muito street ”, diz entre risos,“ não poderia ficar preso ”. Ele cresceu em um lar humilde. Sua mãe, Sandra Milena Mosquera, está estudando para ser professora; seu pai, Luis Alberto Palacio, é trabalhador, e seu irmão Ederson, jogador de futebol. Enquanto estava em casa, não faltou o básico, o que ele fez em Nova York. “Os da agência tinham que me dar US $ 100 por semana e só me deram US $ 40 porque eu era‘ gorda ’; era como um castigo. Não falei nada porque era menina e não queria preocupar minha família ”. Em um desses momentos difíceis, a modelo encontrou um aplicativo que \"deu\" comida às modelos. “Um sábado fui ao restaurante e pedi ajuda ao gerente do restaurante para pedir um hambúrguer com batata frita porque não sabia inglês. Eles também me trouxeram uma taça de vinho. Comi metade e pedi para embalar o resto. Então eles me trouxeram a conta. A única coisa de graça era o vinho! Não sabia o que fazer, comecei a chorar e expliquei ao homem, que falava espanhol, que me disseram que a comida era de graça. Felizmente ele me soltou, porque se eu começasse a lavar a louça teria terminado de madrugada e no dia seguinte faria um teste. \" Elaine Palacio sentiu que o objetivo de se tornar uma modelo reconhecida havia sido truncado. Ele pensou em voltar para a Colômbia. Porém, um dia, enquanto caminhava pelas ruas de Nova York, o responsável pela escolha dos modelos da marca de lingerie Victoria's Secret a contratou. “Foi uma salvação. Tenho contrato com eles e eles me ligam quando precisam de uma campanha ”. Com a carreira decolando no exterior, Elaine não trabalhou na indústria nacional, mas diz que gostaria de apoiar marcas emergentes. Ele andou com as roupas de Alexander Wang, Christopher John Rogers, Rebecca Minkoff, Burberry e Reebok. Ela também quer ser atriz e cantora de reggaeton, salsa cubana ou mixagem, como Rosalía. Ele está criando uma fundação para ajudar os jovens de Puerto Boyacá por meio da cultura e do esporte. “Precisamos de mais apoio do Governo. Mais escolas e universidades não só nas cidades, mas também nas cidades, porque estão abandonadas. Na minha cidade conheci muitos jovens e idosos que não tinham recursos. Eu quero ajudar em algo. O dinheiro é roubado e você se pergunta por quê. Não quero isso para as novas gerações ”. A capa especial não foi a única que fez para a revista italiana, pois foi escolhida para uma nova edição que homenageia o movimento Black Lives Matter, que ressurgiu após a morte de George Floyd pelas mãos de um policial em Minneapolis. “Tive muito orgulho de representar a comunidade afro-colombiana na capa da Vogue Italia. Foi muito difícil o que aconteceu com Floyd. Eu também sofri de racismo, mas não presto atenção a isso, não tenho vergonha do que as pessoas me dizem. Na moda, vejo que eles escolhem mais brancos ”. Na Colômbia, ele sentiu que perdeu oportunidades por causa da cor de sua pele. Elaine Palacio convida os jovens a sonhar, mas também a pensar em como vão realizá-los. “Ao longo do caminho vamos encontrar obstáculos e pessoas que querem nos prejudicar. No entanto, devemos continuar lutando. Como as pessoas dizem: \"Quanto mais escura a noite, mais perto está o amanhecer.\" O mais importante é o que você quer alcançar ”. Muito feliz por fazer parte desta bela equipe, @victoriasecretandpink_ Agradeço a Deus pelo meu grupo de trabalho e pelo diretor @mrs_k_chow 💫💫 Estou muito feliz por esta oportunidade, obrigado.🧚🏿‍♀️🇨🇴❤ @vspink #pink #victoriasecret A postagem compartilhada por ELAINE (@elainelorelin) em 30 de dezembro de 2019 às 10h04 PST Pessoas - 28 de setembro de 2020 - 11h25 p. m. Receba nossa newsletter Ao clicar em \"Enviar\" você concorda em receber atualizações e ofertas especiais de produtos e serviços El Espectador, bem como aceita nossa Política de Processamento de Dados.\n",
            "[[], []]\n"
          ],
          "name": "stdout"
        }
      ]
    },
    {
      "cell_type": "code",
      "metadata": {
        "id": "J02yt_fM_gwM"
      },
      "source": [
        "result = translator.translate(texto, dest=\"en\")"
      ],
      "execution_count": 22,
      "outputs": []
    },
    {
      "cell_type": "code",
      "metadata": {
        "id": "mqSROxovBRxM",
        "outputId": "5f988877-762d-4918-c2fb-47f124e5dc54",
        "colab": {
          "base_uri": "https://localhost:8080/",
          "height": 122
        }
      },
      "source": [
        "print(result.src)\n",
        "print(result.dest)\n",
        "print(result.origin)\n",
        "print(result.text)\n",
        "print(result.pronunciation)"
      ],
      "execution_count": 23,
      "outputs": [
        {
          "output_type": "stream",
          "text": [
            "es\n",
            "en\n",
            " La modelo colombiana de 18 años apareció en la edición especial de septiembre de la revista “Vogue” Italia. Tiene contratos con marcas como Victoria’s Secret, Reebok y Burberry. “Mi reinita, te lo dije. Tienes 18 años y mira dónde estás”, le dijo María Flor Rentería a su nieta Elaine Palacio Mosquera cuando la vio en la portada de Vogue Italia. Ella la impulsó para que se metiera de modelo. La abuela cree que su nieta es la Naomi Campbell colombiana. “Fue quien me apoyó pagando las mensualidades en la academia de modelaje. Tuve que aprender sobre qué era ser una modelo”, cuenta. Elaine Palacio fue elegida como una de los cien personajes que aparecieron en la portada de la revista Vogue Italia en la edición especial de septiembre. La publicación decidió hacer un centenar de portadas diferentes para ese mes, el más importante del año, porque las editoriales reciben pautas de grandes empresas para mostrar las tendencias de otoño-invierno. “Vogue” escogió a famosas como Cindy Crawford, Bella Hadid y Emily Ratajkowski, hasta activistas y modelos afro y transgénero para contar sus historias y dejar en evidencia el momento de transformaciones que vive la industria: diversidad y esperanza en el futuro. “Al inicio de una temporada que es en muchos aspectos decisiva, creemos que es hora de hablar en voz alta sobre la belleza y la esperanza. Por primera vez, filmamos e imprimimos cien portadas. Cada una está dedicada a un protagonista diferente: por edad, apariencia física, color de piel”, dijo en el editorial Emanuele Farneti, editor de Vogue Italia. Im very proud to be part of this Amazing proyect. Im very thankful @vogueitalia❤🙏 Big Thanks to my Agency @womenmanagementny🎉❤🎉❤ to believe in me love you guys @sel07 @mig__79 @anthonybourgois Josee..Muchas Gracias ❤❤ for the cover of @vogueitalia September 2020 100 covers, 100 people, 100 stories, 1 Elaine. #VogueItalia100 Photographer: @Mark_Borthwick Stylist: @mr_carlos_nazario Creative Director: @FerdinandoVerderi Editor: @efarneti Hair: @jawaraw Makeup: @susiesobol_makeup Casting: @pg_dmcasting @samuel_ellis Producer: @alexispf A post shared by ELAINE (@elainelorelin) on Sep 16, 2020 at 9:12am PDT Elaine Palacio es una modelo joven que nació en Puerto Boyacá, municipio al noroccidente de Boyacá que limita con Antioquia. Tiene una risa que contagia y cuando habla acentúa sus historias con las manos. Aplaude en los momentos claves cuando cuenta sus anécdotas y habla con desparpajo sin perder el glamour y su postura recta. Antes de modelo fue deportista. Empezó en el patinaje y luego quiso ser atleta, inspirada en Caterine Ibargüen, por lo que se fue a vivir a Medellín para conseguir su sueño. En la capital de Antioquia asistió a Colombiamoda, la semana de la moda nacional más importante. Ahí un amigo fotógrafo le hizo unos retratos. El modelaje se le atravesó cuando tenía 16 años. Aunque de las modelos se espera que dispongan todo su ser al servicio de la indumentaria, como lo narra Patricia Soley-Beltrán en ¡Divina! Modelos, poder y mentiras, Palacio cree que su encanto está en su personalidad. “Me di cuenta de que la moda es diversidad, cultura, arte y belleza. Detrás de las fotografías hay historias que me llenan el corazón. Saber de los diseñadores, sus prendas y la relación con la modelo es bellísimo”. i'm black, I'm Afro✊🏿💥 Can't be more Honored to be part of this story @vogueitalia. Very thankful for this oportunity, and blessed to work with this Amazing Team! Muchas Gracias 💥💕. Photo by @renellaice in @tylersphotos’ s Black Nonsense” for Vogue Italia. team credits: @womenmanagementy @sel07 Styling @_raymondgee Hair: @nikkinelms Make up: @marcelogutierrez Production +set Desing @nycfilmlocations 💥💥💥 A post shared by ELAINE (@elainelorelin) on Sep 17, 2020 at 11:53am PDT Las fotos que le tomó el amigo en Colombiamoda llegaron a Nueva York y una agencia la llevó a México. Esa fue la primera vez que salió del país. “Mi infancia en el pueblo fue de alegría, fue lo mejor. Soy del barrio Nuevo Brisas, donde bailan y celebran todo. Incluso, cuando alguien gana un chance. Me hablaba con todos los vecinos. Mis papás me enseñaron valores y a tener siempre los pies en la tierra”. En México estuvo cuatro meses y se devolvió a Colombia para sacar los papeles de la visa e irse a Nueva York. “Llegué sin un peso, pero dije aquí voy a poder tener más ganancias. Tampoco sabía hablar inglés”. Elaine Palacio cuenta que fue un tiempo difícil, porque la agencia que la manejaba la presionaba con el peso, uno de los estereotipos más cuestionados en la industria. “Me decían gorda, pero yo sabía que estaba bien. No me estaba queriendo, así que decidí cambiar de agencia y todo cambió a mi favor. El problema no era yo, eran ellos. Mientras que las marcas me decían: ‘Te quiero, te quiero’”. Recuerda que la agencia no le daba suficiente dinero para sus necesidades, el idioma no le ayudaba y tenía que salir con cuatro horas de antelación a los castings por si se perdía. Incluso, se tuvo que colar en el metro varias veces. “Uno bien vestido y elegante y saltándose el metro. Yo soy muy calle”, dice entre risas, “no me podía varar”. Creció en un hogar humilde. Su mamá, Sandra Milena Mosquera, está estudiando para ser profesora; su papá, Luis Alberto Palacio, es obrero, y su hermano Ederson, futbolista. Mientras estuvo en su casa no le faltó lo básico, lo que sí le ocurrió en Nueva York. “Los de la agencia me tenían que dar US$100 a la semana y solo me daban US$40 porque estaba ‘gorda’; era como un castigo. No decía nada porque era una niña y no quería preocupar a mi familia”. En uno de esos momentos difíciles la modelo encontró una aplicación que “regalaba” comida a las modelos. “Un sábado me fui al restaurante y le pedí ayuda al encargado del local para que me ordenara una hamburguesa con papas fritas porque yo no sabía inglés. También me trajeron una copa de vino. Me comí la mitad y pedí que me empacaran el resto. Luego me trajeron la cuenta. ¡Lo único gratis era el vino! No sabía qué hacer, me puse a llorar y le expliqué al señor, que hablaba español, que me habían dicho que la comida era gratis. Menos mal me dejó ir, porque si me ponía a lavar los platos habría terminado a la madrugada y al otro día tenía una audición”. Elaine Palacio sintió que el objetivo de convertirse en una modelo reconocida se había truncado. Pensó en volver a Colombia. Sin embargo, un día, mientras caminaba por las calles de Nueva York, la encargada de elegir las modelos de la marca de lencería Victoria’s Secret la fichó. “Fue una salvación. Tengo un contrato con ellos y me llaman cuando necesitan alguna campaña”. Como su carrera despegó en el exterior, Elaine no ha trabajado en la industria nacional, pero dice que le gustaría apoyar a las marcas emergentes. Ha desfilado las prendas de Alexander Wang, Christopher John Rogers, Rebecca Minkoff, Burberry y Reebok. También quiere ser actriz y cantante de reguetón, salsa cubana o hacer mezclas, como Rosalía. Está creando una fundación para ayudar mediante la cultura y el deporte a los jóvenes de Puerto Boyacá. “Necesitamos más apoyo del Gobierno. Más escuelas y universidades no solo en las ciudades, también en los pueblos, porque los abandonan. En mi pueblo conocí muchos jóvenes y adultos mayores que no tenían recursos. Quiero ayudar en algo. Se roban el dinero y uno se pregunta por qué. No quiero eso para las nuevas generaciones”. La portada especial no fue la única que hizo para la revista italiana, pues la eligieron para una nueva edición que le rinde homenaje al movimiento Black Lives Matter, que resurgió tras la muerte de George Floyd a manos de un policía en Minneapolis. “Me sentí muy orgullosa de representar a la comunidad afrocolombiana en la portada de Vogue Italia. Fue muy duro lo que le ocurrió a Floyd. También he sufrido racismo, pero no le pongo atención, no me acomplejo por lo que me dicen las personas. En la moda sí veo que eligen más a personas blancas”. En Colombia sintió que perdió oportunidades por su color de piel. Elaine Palacio invita a los jóvenes a que tengan sueños, pero que también piensen en cómo van a lograrlos. “En el camino vamos a encontrar obstáculos y personas que nos quieren hacer daño. Sin embargo, debemos seguir luchando. Como dice la gente: ‘Cuando más oscura está la noche más cerca está el amanecer’. Lo más importante es lo que uno quiere lograr”. Really happy to be part of this beautiful team, @victoriasecretandpink_ Thank God for my work group and the director @mrs_k_chow 💫💫 I am very happy for this opportunity, thank you.🧚🏿‍♀️🇨🇴❤ @vspink #pink #victoriasecret A post shared by ELAINE (@elainelorelin) on Dec 30, 2019 at 10:04am PST  Gente- 28 Sep 2020 - 11:25 p. m. Recibe nuestro boletín de noticias Al hacer clic en “Enviar” usted está de acuerdo en recibir actualizaciones y ofertas especiales para los productos y servicios de El Espectador, así como también acepta nuestra Política de tratamiento de datos. \n",
            "The 18-year-old Colombian model appeared in the special September issue of “Vogue” Italia magazine. He has contracts with brands such as Victoria’s Secret, Reebok and Burberry. \"My little warbler, I told you. You are 18 years old and look where you are, ”María Flor Renteria told her granddaughter Elaine Palacio Mosquera when she saw her on the cover of Vogue Italia. She encouraged her to become a model. The grandmother believes that her granddaughter is the Colombian Naomi Campbell. “He was the one who supported me by paying the monthly payments at the modeling academy. I had to learn what it was like to be a model, ”she says. Elaine Palacio was chosen as one of the 100 characters to appear on the cover of Vogue Italia magazine in the September special issue. The publication decided to do a hundred different covers for that month, the most important of the year, because publishers receive guidelines from large companies to show autumn-winter trends. “Vogue” chose celebrities such as Cindy Crawford, Bella Hadid and Emily Ratajkowski, as well as activists and Afro and transgender models to tell their stories and highlight the moment of transformation that the industry is experiencing: diversity and hope for the future. “At the beginning of a season that is in many ways decisive, we believe that it is time to speak out loud about beauty and hope. For the first time, we shot and printed a hundred covers. Each one is dedicated to a different protagonist: by age, physical appearance, skin color, \"said Emanuele Farneti, editor of Vogue Italia, in the editorial. Im very proud to be part of this Amazing project. Im very thankful @ vogueitalia❤🙏 Big Thanks to my Agency @ womenmanagementny🎉❤🎉❤ to believe in me love you guys @ sel07 @ mig__79 @anthonybourgois Josee..Muchas Gracias ❤❤ for the cover of @vogueitalia September 2020 100 covers, 100 people, 100 stories, 1 Elaine. # VogueItalia100 Photographer: @Mark_Borthwick Stylist: @mr_carlos_nazario Creative Director: @FerdinandoVerderi Editor: @efarneti Hair: @jawaraw Makeup: @susiesobol_makeup Casting: @pg_dmcasting @samuel_ellis Producer: @alexlainA postline 16, @ ELINEA postline shared by @ ELINEPF A postline on) 2020 at 9:12 am PDT Elaine Palacio is a young model who was born in Puerto Boyacá, a northwestern municipality of Boyacá that borders Antioquia. He has a contagious laugh and when he speaks he accentuates his stories with his hands. Clap your hands at key moments when you tell your stories and speak boldly without losing your glamor and straight posture. Before modeling he was an athlete. She started in skating and later she wanted to be an athlete, inspired by Caterine Ibargüen, so she went to live in Medellín to achieve her dream. In the capital of Antioquia he attended Colombiamoda, the most important national fashion week. There a photographer friend made some portraits of him. Modeling crossed her when she was 16 years old. Although the models are expected to put their entire being at the service of clothing, as Patricia Soley-Beltrán narrates in ¡Divina! Models, power and lies, Palacio believes that her charm is in her personality. “I realized that fashion is diversity, culture, art and beauty. Behind the photographs there are stories that fill my heart. Knowing about the designers, their clothes and the relationship with the model is beautiful ”. i'm black, I'm Afro✊🏿💥 Can't be more Honored to be part of this story @vogueitalia. Very thankful for this opportunity, and blessed to work with this Amazing Team! Thank you very much 💥💕. Photo by @renellaice in @tylersphotos' s Black Nonsense ”for Vogue Italia. team credits: @womenmanagementy @ sel07 Styling @_raymondgee Hair: @nikkinelms Make up: @marcelogutierrez Production + set Desing @nycfilmlocations 💥💥💥 A post shared by ELAINE (@elainelorelin) on Sep 17, 2020 at 11:53 am PDT The photos that The friend took her in Colombiamoda, they arrived in New York and an agency took her to Mexico. That was the first time he left the country. “My childhood in the town was of joy, it was the best. I'm from the Nuevo Brisas neighborhood, where they dance and celebrate everything. Even when someone wins a chance. I talked to all the neighbors. My parents taught me values ​​and to always have my feet on the ground ”. He stayed in Mexico for four months and returned to Colombia to get the visa papers and go to New York. “I arrived without a peso, but I said here I will be able to have more profits. He didn't know how to speak English either. \" Elaine Palacio says it was a difficult time, because the agency that managed her pressured her with weight, one of the most questioned stereotypes in the industry. “They called me fat, but I knew it was okay. He was not loving me, so I decided to change agency and everything changed in my favor. The problem wasn't me, it was them. While the brands told me: 'I love you, I love you' \". Remember that the agency did not give him enough money for his needs, the language did not help him and he had to leave four hours before the castings in case he got lost. He even had to sneak into the subway several times. “One well dressed and elegant and skipping the subway. I am very street ”, he says between laughs,“ I could not be stranded ”. He grew up in a humble home. His mother, Sandra Milena Mosquera, is studying to be a teacher; his father, Luis Alberto Palacio, is a worker, and his brother Ederson, a soccer player. While he was at home, he did not lack the basics, which he did in New York. \"The people from the agency had to give me US $ 100 a week and they only gave me US $ 40 because I was 'fat'; it was like a punishment. I didn't say anything because I was a girl and I didn't want to worry my family ”. In one of those difficult moments, the model found an application that \"gave\" food to the models. “One Saturday I went to the restaurant and asked the manager of the restaurant for help to order a hamburger with fries because I did not know English. They also brought me a glass of wine. I ate half and asked for the rest to be packed. Then they brought me the bill. The only thing free was the wine! I didn't know what to do, I started to cry and explained to the man, who spoke Spanish, that they had told me that the food was free. Luckily he let me go, because if I started washing the dishes I would have finished at dawn and the next day I had an audition. \" Elaine Palacio felt that the goal of becoming a recognized model had been truncated. He thought of going back to Colombia. However, one day, while she was walking through the streets of New York, the one in charge of choosing the models of the lingerie brand Victoria’s Secret signed her. “It was a salvation. I have a contract with them and they call me when they need a campaign ”. As her career took off abroad, Elaine has not worked in the domestic industry, but says she would like to support emerging brands. He has walked the garments of Alexander Wang, Christopher John Rogers, Rebecca Minkoff, Burberry and Reebok. She also wants to be an actress and singer of reggaeton, Cuban salsa or mixing, like Rosalía. He is creating a foundation to help the youth of Puerto Boyacá through culture and sports. “We need more support from the Government. More schools and universities not only in the cities, but also in the towns, because they are abandoned. In my town I met many young people and older adults who had no resources. I want to help with something. The money is stolen and you wonder why. I don't want that for the new generations ”. The special cover was not the only one he made for the Italian magazine, as it was chosen for a new edition that pays tribute to the Black Lives Matter movement, which resurfaced after the death of George Floyd at the hands of a policeman in Minneapolis. “I was very proud to represent the Afro-Colombian community on the cover of Vogue Italia. It was very hard what happened to Floyd. I have also suffered from racism, but I do not pay attention to it, I am not self-conscious about what people tell me. In fashion I do see that they choose more white people ”. In Colombia, he felt that he lost opportunities because of his skin color. Elaine Palacio invites young people to have dreams, but also to think about how they will achieve them. “Along the way we are going to encounter obstacles and people who want to harm us. However, we must keep fighting. As people say: \"The darker the night is, the closer the dawn is.\" The most important thing is what you want to achieve ”. Really happy to be part of this beautiful team, @victoriasecretandpink_ Thank God for my work group and the director @mrs_k_chow 💫💫 I am very happy for this opportunity, thank you.🧚🏿‍♀️🇨🇴❤ @vspink #pink #victoriasecret A post shared by ELAINE (@elainelorelin) on Dec 30, 2019 at 10:04 am PST People- 28 Sep 2020 - 11:25 p. m. Receive our newsletter By clicking \"Send\" you agree to receive updates and special offers for El Espectador products and services, as well as accept our Data Treatment Policy.\n",
            "[[]]\n"
          ],
          "name": "stdout"
        }
      ]
    },
    {
      "cell_type": "code",
      "metadata": {
        "id": "dq3iS5nSBSjA"
      },
      "source": [
        ""
      ],
      "execution_count": null,
      "outputs": []
    },
    {
      "cell_type": "markdown",
      "metadata": {
        "id": "qZm7yDnPL_Vt"
      },
      "source": [
        "Vamos a generar FAQs con texto traducido"
      ]
    },
    {
      "cell_type": "code",
      "metadata": {
        "id": "-HsiU38mMEDR",
        "outputId": "4269e7dc-4f34-4377-f0f5-b16fae36d36d",
        "colab": {
          "base_uri": "https://localhost:8080/",
          "height": 222
        }
      },
      "source": [
        "result.text"
      ],
      "execution_count": 24,
      "outputs": [
        {
          "output_type": "execute_result",
          "data": {
            "application/vnd.google.colaboratory.intrinsic+json": {
              "type": "string"
            },
            "text/plain": [
              "'The 18-year-old Colombian model appeared in the special September issue of “Vogue” Italia magazine. He has contracts with brands such as Victoria’s Secret, Reebok and Burberry. \"My little warbler, I told you. You are 18 years old and look where you are, ”María Flor Renteria told her granddaughter Elaine Palacio Mosquera when she saw her on the cover of Vogue Italia. She encouraged her to become a model. The grandmother believes that her granddaughter is the Colombian Naomi Campbell. “He was the one who supported me by paying the monthly payments at the modeling academy. I had to learn what it was like to be a model, ”she says. Elaine Palacio was chosen as one of the 100 characters to appear on the cover of Vogue Italia magazine in the September special issue. The publication decided to do a hundred different covers for that month, the most important of the year, because publishers receive guidelines from large companies to show autumn-winter trends. “Vogue” chose celebrities such as Cindy Crawford, Bella Hadid and Emily Ratajkowski, as well as activists and Afro and transgender models to tell their stories and highlight the moment of transformation that the industry is experiencing: diversity and hope for the future. “At the beginning of a season that is in many ways decisive, we believe that it is time to speak out loud about beauty and hope. For the first time, we shot and printed a hundred covers. Each one is dedicated to a different protagonist: by age, physical appearance, skin color, \"said Emanuele Farneti, editor of Vogue Italia, in the editorial. Im very proud to be part of this Amazing project. Im very thankful @ vogueitalia❤🙏 Big Thanks to my Agency @ womenmanagementny🎉❤🎉❤ to believe in me love you guys @ sel07 @ mig__79 @anthonybourgois Josee..Muchas Gracias ❤❤ for the cover of @vogueitalia September 2020 100 covers, 100 people, 100 stories, 1 Elaine. # VogueItalia100 Photographer: @Mark_Borthwick Stylist: @mr_carlos_nazario Creative Director: @FerdinandoVerderi Editor: @efarneti Hair: @jawaraw Makeup: @susiesobol_makeup Casting: @pg_dmcasting @samuel_ellis Producer: @alexlainA postline 16, @ ELINEA postline shared by @ ELINEPF A postline on) 2020 at 9:12 am PDT Elaine Palacio is a young model who was born in Puerto Boyacá, a northwestern municipality of Boyacá that borders Antioquia. He has a contagious laugh and when he speaks he accentuates his stories with his hands. Clap your hands at key moments when you tell your stories and speak boldly without losing your glamor and straight posture. Before modeling he was an athlete. She started in skating and later she wanted to be an athlete, inspired by Caterine Ibargüen, so she went to live in Medellín to achieve her dream. In the capital of Antioquia he attended Colombiamoda, the most important national fashion week. There a photographer friend made some portraits of him. Modeling crossed her when she was 16 years old. Although the models are expected to put their entire being at the service of clothing, as Patricia Soley-Beltrán narrates in ¡Divina! Models, power and lies, Palacio believes that her charm is in her personality. “I realized that fashion is diversity, culture, art and beauty. Behind the photographs there are stories that fill my heart. Knowing about the designers, their clothes and the relationship with the model is beautiful ”. i\\'m black, I\\'m Afro✊🏿💥 Can\\'t be more Honored to be part of this story @vogueitalia. Very thankful for this opportunity, and blessed to work with this Amazing Team! Thank you very much 💥💕. Photo by @renellaice in @tylersphotos\\' s Black Nonsense ”for Vogue Italia. team credits: @womenmanagementy @ sel07 Styling @_raymondgee Hair: @nikkinelms Make up: @marcelogutierrez Production + set Desing @nycfilmlocations 💥💥💥 A post shared by ELAINE (@elainelorelin) on Sep 17, 2020 at 11:53 am PDT The photos that The friend took her in Colombiamoda, they arrived in New York and an agency took her to Mexico. That was the first time he left the country. “My childhood in the town was of joy, it was the best. I\\'m from the Nuevo Brisas neighborhood, where they dance and celebrate everything. Even when someone wins a chance. I talked to all the neighbors. My parents taught me values \\u200b\\u200band to always have my feet on the ground ”. He stayed in Mexico for four months and returned to Colombia to get the visa papers and go to New York. “I arrived without a peso, but I said here I will be able to have more profits. He didn\\'t know how to speak English either. \" Elaine Palacio says it was a difficult time, because the agency that managed her pressured her with weight, one of the most questioned stereotypes in the industry. “They called me fat, but I knew it was okay. He was not loving me, so I decided to change agency and everything changed in my favor. The problem wasn\\'t me, it was them. While the brands told me: \\'I love you, I love you\\' \". Remember that the agency did not give him enough money for his needs, the language did not help him and he had to leave four hours before the castings in case he got lost. He even had to sneak into the subway several times. “One well dressed and elegant and skipping the subway. I am very street ”, he says between laughs,“ I could not be stranded ”. He grew up in a humble home. His mother, Sandra Milena Mosquera, is studying to be a teacher; his father, Luis Alberto Palacio, is a worker, and his brother Ederson, a soccer player. While he was at home, he did not lack the basics, which he did in New York. \"The people from the agency had to give me US $ 100 a week and they only gave me US $ 40 because I was \\'fat\\'; it was like a punishment. I didn\\'t say anything because I was a girl and I didn\\'t want to worry my family ”. In one of those difficult moments, the model found an application that \"gave\" food to the models. “One Saturday I went to the restaurant and asked the manager of the restaurant for help to order a hamburger with fries because I did not know English. They also brought me a glass of wine. I ate half and asked for the rest to be packed. Then they brought me the bill. The only thing free was the wine! I didn\\'t know what to do, I started to cry and explained to the man, who spoke Spanish, that they had told me that the food was free. Luckily he let me go, because if I started washing the dishes I would have finished at dawn and the next day I had an audition. \" Elaine Palacio felt that the goal of becoming a recognized model had been truncated. He thought of going back to Colombia. However, one day, while she was walking through the streets of New York, the one in charge of choosing the models of the lingerie brand Victoria’s Secret signed her. “It was a salvation. I have a contract with them and they call me when they need a campaign ”. As her career took off abroad, Elaine has not worked in the domestic industry, but says she would like to support emerging brands. He has walked the garments of Alexander Wang, Christopher John Rogers, Rebecca Minkoff, Burberry and Reebok. She also wants to be an actress and singer of reggaeton, Cuban salsa or mixing, like Rosalía. He is creating a foundation to help the youth of Puerto Boyacá through culture and sports. “We need more support from the Government. More schools and universities not only in the cities, but also in the towns, because they are abandoned. In my town I met many young people and older adults who had no resources. I want to help with something. The money is stolen and you wonder why. I don\\'t want that for the new generations ”. The special cover was not the only one he made for the Italian magazine, as it was chosen for a new edition that pays tribute to the Black Lives Matter movement, which resurfaced after the death of George Floyd at the hands of a policeman in Minneapolis. “I was very proud to represent the Afro-Colombian community on the cover of Vogue Italia. It was very hard what happened to Floyd. I have also suffered from racism, but I do not pay attention to it, I am not self-conscious about what people tell me. In fashion I do see that they choose more white people ”. In Colombia, he felt that he lost opportunities because of his skin color. Elaine Palacio invites young people to have dreams, but also to think about how they will achieve them. “Along the way we are going to encounter obstacles and people who want to harm us. However, we must keep fighting. As people say: \"The darker the night is, the closer the dawn is.\" The most important thing is what you want to achieve ”. Really happy to be part of this beautiful team, @victoriasecretandpink_ Thank God for my work group and the director @mrs_k_chow 💫💫 I am very happy for this opportunity, thank you.\\U0001f9da🏿\\u200d♀️🇨🇴❤ @vspink #pink #victoriasecret A post shared by ELAINE (@elainelorelin) on Dec 30, 2019 at 10:04 am PST People- 28 Sep 2020 - 11:25 p. m. Receive our newsletter By clicking \"Send\" you agree to receive updates and special offers for El Espectador products and services, as well as accept our Data Treatment Policy.'"
            ]
          },
          "metadata": {
            "tags": []
          },
          "execution_count": 24
        }
      ]
    },
    {
      "cell_type": "code",
      "metadata": {
        "id": "jJGG3dD0MJW6",
        "outputId": "9e25c1a0-a71e-42bd-ec7e-130708d603f8",
        "colab": {
          "base_uri": "https://localhost:8080/",
          "height": 190
        }
      },
      "source": [
        "!python -m nltk.downloader punkt\n",
        "!git clone https://github.com/patil-suraj/question_generation.git"
      ],
      "execution_count": 13,
      "outputs": [
        {
          "output_type": "stream",
          "text": [
            "/usr/lib/python3.6/runpy.py:125: RuntimeWarning: 'nltk.downloader' found in sys.modules after import of package 'nltk', but prior to execution of 'nltk.downloader'; this may result in unpredictable behaviour\n",
            "  warn(RuntimeWarning(msg))\n",
            "[nltk_data] Downloading package punkt to /root/nltk_data...\n",
            "[nltk_data]   Unzipping tokenizers/punkt.zip.\n",
            "Cloning into 'question_generation'...\n",
            "remote: Enumerating objects: 173, done.\u001b[K\n",
            "remote: Total 173 (delta 0), reused 0 (delta 0), pack-reused 173\u001b[K\n",
            "Receiving objects: 100% (173/173), 264.42 KiB | 848.00 KiB/s, done.\n",
            "Resolving deltas: 100% (90/90), done.\n"
          ],
          "name": "stdout"
        }
      ]
    },
    {
      "cell_type": "code",
      "metadata": {
        "id": "aAo7YCa1Mopi",
        "outputId": "a001c80c-b272-4758-fcf4-38200ab14083",
        "colab": {
          "base_uri": "https://localhost:8080/",
          "height": 34
        }
      },
      "source": [
        "%cd question_generation\n"
      ],
      "execution_count": 14,
      "outputs": [
        {
          "output_type": "stream",
          "text": [
            "/content/question_generation\n"
          ],
          "name": "stdout"
        }
      ]
    },
    {
      "cell_type": "markdown",
      "metadata": {
        "id": "Ak7733NNNQhG"
      },
      "source": [
        "## Corrección temporal"
      ]
    },
    {
      "cell_type": "code",
      "metadata": {
        "id": "Q6ofLifRMu7Q",
        "outputId": "6e502a0e-3f97-4eef-bd8d-3e2d2852813e",
        "colab": {
          "base_uri": "https://localhost:8080/",
          "height": 34
        }
      },
      "source": [
        "# temporary solution\n",
        "#https://github.com/patil-suraj/question_generation/issues/22\n",
        "\n",
        "%%writefile /content/question_generation/pipelines.py \n",
        "\n",
        "import itertools\n",
        "import logging\n",
        "from typing import Optional, Dict, Union\n",
        "\n",
        "from nltk import sent_tokenize\n",
        "\n",
        "import torch\n",
        "from transformers import(\n",
        "    AutoModelForSeq2SeqLM, \n",
        "    AutoTokenizer,\n",
        "    PreTrainedModel,\n",
        "    PreTrainedTokenizer,\n",
        ")\n",
        "\n",
        "logger = logging.getLogger(__name__)\n",
        "\n",
        "class QGPipeline:\n",
        "    \"\"\"Poor man's QG pipeline\"\"\"\n",
        "    def __init__(\n",
        "        self,\n",
        "        model: PreTrainedModel,\n",
        "        tokenizer: PreTrainedTokenizer,\n",
        "        ans_model: PreTrainedModel,\n",
        "        ans_tokenizer: PreTrainedTokenizer,\n",
        "        qg_format: str,\n",
        "        use_cuda: bool\n",
        "    ):\n",
        "        self.model = model\n",
        "        self.tokenizer = tokenizer\n",
        "\n",
        "        self.ans_model = ans_model\n",
        "        self.ans_tokenizer = ans_tokenizer\n",
        "\n",
        "        self.qg_format = qg_format\n",
        "\n",
        "        self.device = \"cuda\" if torch.cuda.is_available() and use_cuda else \"cpu\"\n",
        "        self.model.to(self.device)\n",
        "\n",
        "        if self.ans_model is not self.model:\n",
        "            self.ans_model.to(self.device)\n",
        "\n",
        "        assert self.model.__class__.__name__ in [\"T5ForConditionalGeneration\", \"BartForConditionalGeneration\"]\n",
        "        \n",
        "        if \"T5ForConditionalGeneration\" in self.model.__class__.__name__:\n",
        "            self.model_type = \"t5\"\n",
        "        else:\n",
        "            self.model_type = \"bart\"\n",
        "\n",
        "    def __call__(self, inputs: str):\n",
        "        inputs = \" \".join(inputs.split())\n",
        "        sents, answers = self._extract_answers(inputs)\n",
        "        flat_answers = list(itertools.chain(*answers))\n",
        "        \n",
        "        if len(flat_answers) == 0:\n",
        "          return []\n",
        "\n",
        "        if self.qg_format == \"prepend\":\n",
        "            qg_examples = self._prepare_inputs_for_qg_from_answers_prepend(inputs, answers)\n",
        "        else:\n",
        "            qg_examples = self._prepare_inputs_for_qg_from_answers_hl(sents, answers)\n",
        "        \n",
        "        qg_inputs = [example['source_text'] for example in qg_examples]\n",
        "        questions = self._generate_questions(qg_inputs)\n",
        "        output = [{'answer': example['answer'], 'question': que} for example, que in zip(qg_examples, questions)]\n",
        "        return output\n",
        "    \n",
        "    def _generate_questions(self, inputs):\n",
        "        inputs = self._tokenize(inputs, padding=True, truncation=True)\n",
        "        \n",
        "        outs = self.model.generate(\n",
        "            input_ids=inputs['input_ids'].to(self.device), \n",
        "            attention_mask=inputs['attention_mask'].to(self.device), \n",
        "            max_length=32,\n",
        "            num_beams=4,\n",
        "        )\n",
        "        \n",
        "        questions = [self.tokenizer.decode(ids, skip_special_tokens=True) for ids in outs]\n",
        "        return questions\n",
        "    \n",
        "    def _extract_answers(self, context):\n",
        "        sents, inputs = self._prepare_inputs_for_ans_extraction(context)\n",
        "        inputs = self._tokenize(inputs, padding=True, truncation=True)\n",
        "\n",
        "        outs = self.ans_model.generate(\n",
        "            input_ids=inputs['input_ids'].to(self.device), \n",
        "            attention_mask=inputs['attention_mask'].to(self.device), \n",
        "            max_length=32,\n",
        "        )\n",
        "        \n",
        "        dec = [self.ans_tokenizer.decode(ids, skip_special_tokens=False) for ids in outs]\n",
        "        answers = [item.split('<sep>') for item in dec]\n",
        "        answers = [i[:-1] for i in answers]\n",
        "        \n",
        "        return sents, answers\n",
        "    \n",
        "    def _tokenize(self,\n",
        "        inputs,\n",
        "        padding=True,\n",
        "        truncation=True,\n",
        "        add_special_tokens=True,\n",
        "        max_length=512\n",
        "    ):\n",
        "        inputs = self.tokenizer.batch_encode_plus(\n",
        "            inputs, \n",
        "            max_length=max_length,\n",
        "            add_special_tokens=add_special_tokens,\n",
        "            truncation=truncation,\n",
        "            padding=\"max_length\" if padding else False,\n",
        "            pad_to_max_length=padding,\n",
        "            return_tensors=\"pt\"\n",
        "        )\n",
        "        return inputs\n",
        "    \n",
        "    def _prepare_inputs_for_ans_extraction(self, text):\n",
        "        sents = sent_tokenize(text)\n",
        "\n",
        "        inputs = []\n",
        "        for i in range(len(sents)):\n",
        "            source_text = \"extract answers:\"\n",
        "            for j, sent in enumerate(sents):\n",
        "                if i == j:\n",
        "                    sent = \"<hl> %s <hl>\" % sent\n",
        "                source_text = \"%s %s\" % (source_text, sent)\n",
        "                source_text = source_text.strip()\n",
        "            \n",
        "            if self.model_type == \"t5\":\n",
        "                source_text = source_text + \" </s>\"\n",
        "            inputs.append(source_text)\n",
        "\n",
        "        return sents, inputs\n",
        "    \n",
        "    def _prepare_inputs_for_qg_from_answers_hl(self, sents, answers):\n",
        "        inputs = []\n",
        "        for i, answer in enumerate(answers):\n",
        "            if len(answer) == 0: continue\n",
        "            sent = sents[i]\n",
        "            for answer_text in answer:\n",
        "                sents_copy = sents[:]\n",
        "                \n",
        "                answer_text = answer_text.strip()\n",
        "                \n",
        "                #ans_start_idx = sent.index(answer_text)\n",
        "                #bypass missmatched Q/As. See https://github.com/patil-suraj/question_generation/issues/22\n",
        "                if answer_text in sent: \n",
        "                  ans_start_idx = sent.index(answer_text) \n",
        "                else: \n",
        "                  continue\n",
        "                \n",
        "                sent = f\"{sent[:ans_start_idx]} <hl> {answer_text} <hl> {sent[ans_start_idx + len(answer_text): ]}\"\n",
        "                sents_copy[i] = sent\n",
        "                \n",
        "                source_text = \" \".join(sents_copy)\n",
        "                source_text = f\"generate question: {source_text}\" \n",
        "                if self.model_type == \"t5\":\n",
        "                    source_text = source_text + \" </s>\"\n",
        "                \n",
        "                inputs.append({\"answer\": answer_text, \"source_text\": source_text})\n",
        "        \n",
        "        return inputs\n",
        "    \n",
        "    def _prepare_inputs_for_qg_from_answers_prepend(self, context, answers):\n",
        "        flat_answers = list(itertools.chain(*answers))\n",
        "        examples = []\n",
        "        for answer in flat_answers:\n",
        "            source_text = f\"answer: {answer} context: {context}\"\n",
        "            if self.model_type == \"t5\":\n",
        "                source_text = source_text + \" </s>\"\n",
        "            \n",
        "            examples.append({\"answer\": answer, \"source_text\": source_text})\n",
        "        return examples\n",
        "\n",
        "    \n",
        "class MultiTaskQAQGPipeline(QGPipeline):\n",
        "    def __init__(self, **kwargs):\n",
        "        super().__init__(**kwargs)\n",
        "    \n",
        "    def __call__(self, inputs: Union[Dict, str]):\n",
        "        if type(inputs) is str:\n",
        "            # do qg\n",
        "            return super().__call__(inputs)\n",
        "        else:\n",
        "            # do qa\n",
        "            return self._extract_answer(inputs[\"question\"], inputs[\"context\"])\n",
        "    \n",
        "    def _prepare_inputs_for_qa(self, question, context):\n",
        "        source_text = f\"question: {question}  context: {context}\"\n",
        "        if self.model_type == \"t5\":\n",
        "            source_text = source_text + \" </s>\"\n",
        "        return  source_text\n",
        "    \n",
        "    def _extract_answer(self, question, context):\n",
        "        source_text = self._prepare_inputs_for_qa(question, context)\n",
        "        inputs = self._tokenize([source_text], padding=False)\n",
        "    \n",
        "        outs = self.model.generate(\n",
        "            input_ids=inputs['input_ids'].to(self.device), \n",
        "            attention_mask=inputs['attention_mask'].to(self.device), \n",
        "            max_length=16,\n",
        "        )\n",
        "\n",
        "        answer = self.tokenizer.decode(outs[0], skip_special_tokens=True)\n",
        "        return answer\n",
        "\n",
        "\n",
        "class E2EQGPipeline:\n",
        "    def __init__(\n",
        "        self,\n",
        "        model: PreTrainedModel,\n",
        "        tokenizer: PreTrainedTokenizer,\n",
        "        use_cuda: bool\n",
        "    ) :\n",
        "\n",
        "        self.model = model\n",
        "        self.tokenizer = tokenizer\n",
        "\n",
        "        self.device = \"cuda\" if torch.cuda.is_available() and use_cuda else \"cpu\"\n",
        "        self.model.to(self.device)\n",
        "\n",
        "        assert self.model.__class__.__name__ in [\"T5ForConditionalGeneration\", \"BartForConditionalGeneration\"]\n",
        "        \n",
        "        if \"T5ForConditionalGeneration\" in self.model.__class__.__name__:\n",
        "            self.model_type = \"t5\"\n",
        "        else:\n",
        "            self.model_type = \"bart\"\n",
        "        \n",
        "        self.default_generate_kwargs = {\n",
        "            \"max_length\": 256,\n",
        "            \"num_beams\": 4,\n",
        "            \"length_penalty\": 1.5,\n",
        "            \"no_repeat_ngram_size\": 3,\n",
        "            \"early_stopping\": True,\n",
        "        }\n",
        "    \n",
        "    def __call__(self, context: str, **generate_kwargs):\n",
        "        inputs = self._prepare_inputs_for_e2e_qg(context)\n",
        "\n",
        "        # TODO: when overrding default_generate_kwargs all other arguments need to be passsed\n",
        "        # find a better way to do this\n",
        "        if not generate_kwargs:\n",
        "            generate_kwargs = self.default_generate_kwargs\n",
        "        \n",
        "        input_length = inputs[\"input_ids\"].shape[-1]\n",
        "        \n",
        "        # max_length = generate_kwargs.get(\"max_length\", 256)\n",
        "        # if input_length < max_length:\n",
        "        #     logger.warning(\n",
        "        #         \"Your max_length is set to {}, but you input_length is only {}. You might consider decreasing max_length manually, e.g. summarizer('...', max_length=50)\".format(\n",
        "        #             max_length, input_length\n",
        "        #         )\n",
        "        #     )\n",
        "\n",
        "        outs = self.model.generate(\n",
        "            input_ids=inputs['input_ids'].to(self.device), \n",
        "            attention_mask=inputs['attention_mask'].to(self.device),\n",
        "            **generate_kwargs\n",
        "        )\n",
        "\n",
        "        prediction = self.tokenizer.decode(outs[0], skip_special_tokens=True)\n",
        "        questions = prediction.split(\"<sep>\")\n",
        "        questions = [question.strip() for question in questions[:-1]]\n",
        "        return questions\n",
        "    \n",
        "    def _prepare_inputs_for_e2e_qg(self, context):\n",
        "        source_text = f\"generate questions: {context}\"\n",
        "        if self.model_type == \"t5\":\n",
        "            source_text = source_text + \" </s>\"\n",
        "        \n",
        "        inputs = self._tokenize([source_text], padding=False)\n",
        "        return inputs\n",
        "    \n",
        "    def _tokenize(\n",
        "        self,\n",
        "        inputs,\n",
        "        padding=True,\n",
        "        truncation=True,\n",
        "        add_special_tokens=True,\n",
        "        max_length=512\n",
        "    ):\n",
        "        inputs = self.tokenizer.batch_encode_plus(\n",
        "            inputs, \n",
        "            max_length=max_length,\n",
        "            add_special_tokens=add_special_tokens,\n",
        "            truncation=truncation,\n",
        "            padding=\"max_length\" if padding else False,\n",
        "            pad_to_max_length=padding,\n",
        "            return_tensors=\"pt\"\n",
        "        )\n",
        "        return inputs\n",
        "\n",
        "\n",
        "SUPPORTED_TASKS = {\n",
        "    \"question-generation\": {\n",
        "        \"impl\": QGPipeline,\n",
        "        \"default\": {\n",
        "            \"model\": \"valhalla/t5-small-qg-hl\",\n",
        "            \"ans_model\": \"valhalla/t5-small-qa-qg-hl\",\n",
        "        }\n",
        "    },\n",
        "    \"multitask-qa-qg\": {\n",
        "        \"impl\": MultiTaskQAQGPipeline,\n",
        "        \"default\": {\n",
        "            \"model\": \"valhalla/t5-small-qa-qg-hl\",\n",
        "        }\n",
        "    },\n",
        "    \"e2e-qg\": {\n",
        "        \"impl\": E2EQGPipeline,\n",
        "        \"default\": {\n",
        "            \"model\": \"valhalla/t5-small-e2e-qg\",\n",
        "        }\n",
        "    }\n",
        "}\n",
        "\n",
        "def pipeline(\n",
        "    task: str,\n",
        "    model: Optional = None,\n",
        "    tokenizer: Optional[Union[str, PreTrainedTokenizer]] = None,\n",
        "    qg_format: Optional[str] = \"highlight\",\n",
        "    ans_model: Optional = None,\n",
        "    ans_tokenizer: Optional[Union[str, PreTrainedTokenizer]] = None,\n",
        "    use_cuda: Optional[bool] = True,\n",
        "    **kwargs,\n",
        "):\n",
        "    # Retrieve the task\n",
        "    if task not in SUPPORTED_TASKS:\n",
        "        raise KeyError(\"Unknown task {}, available tasks are {}\".format(task, list(SUPPORTED_TASKS.keys())))\n",
        "\n",
        "    targeted_task = SUPPORTED_TASKS[task]\n",
        "    task_class = targeted_task[\"impl\"]\n",
        "\n",
        "    # Use default model/config/tokenizer for the task if no model is provided\n",
        "    if model is None:\n",
        "        model = targeted_task[\"default\"][\"model\"]\n",
        "    \n",
        "    # Try to infer tokenizer from model or config name (if provided as str)\n",
        "    if tokenizer is None:\n",
        "        if isinstance(model, str):\n",
        "            tokenizer = model\n",
        "        else:\n",
        "            # Impossible to guest what is the right tokenizer here\n",
        "            raise Exception(\n",
        "                \"Impossible to guess which tokenizer to use. \"\n",
        "                \"Please provided a PretrainedTokenizer class or a path/identifier to a pretrained tokenizer.\"\n",
        "            )\n",
        "    \n",
        "    # Instantiate tokenizer if needed\n",
        "    if isinstance(tokenizer, (str, tuple)):\n",
        "        if isinstance(tokenizer, tuple):\n",
        "            # For tuple we have (tokenizer name, {kwargs})\n",
        "            tokenizer = AutoTokenizer.from_pretrained(tokenizer[0], **tokenizer[1])\n",
        "        else:\n",
        "            tokenizer = AutoTokenizer.from_pretrained(tokenizer)\n",
        "    \n",
        "    # Instantiate model if needed\n",
        "    if isinstance(model, str):\n",
        "        model = AutoModelForSeq2SeqLM.from_pretrained(model)\n",
        "    \n",
        "    if task == \"question-generation\":\n",
        "        if ans_model is None:\n",
        "            # load default ans model\n",
        "            ans_model = targeted_task[\"default\"][\"ans_model\"]\n",
        "            ans_tokenizer = AutoTokenizer.from_pretrained(ans_model)\n",
        "            ans_model = AutoModelForSeq2SeqLM.from_pretrained(ans_model)\n",
        "        else:\n",
        "            # Try to infer tokenizer from model or config name (if provided as str)\n",
        "            if ans_tokenizer is None:\n",
        "                if isinstance(ans_model, str):\n",
        "                    ans_tokenizer = ans_model\n",
        "                else:\n",
        "                    # Impossible to guest what is the right tokenizer here\n",
        "                    raise Exception(\n",
        "                        \"Impossible to guess which tokenizer to use. \"\n",
        "                        \"Please provided a PretrainedTokenizer class or a path/identifier to a pretrained tokenizer.\"\n",
        "                    )\n",
        "            \n",
        "            # Instantiate tokenizer if needed\n",
        "            if isinstance(ans_tokenizer, (str, tuple)):\n",
        "                if isinstance(ans_tokenizer, tuple):\n",
        "                    # For tuple we have (tokenizer name, {kwargs})\n",
        "                    ans_tokenizer = AutoTokenizer.from_pretrained(ans_tokenizer[0], **ans_tokenizer[1])\n",
        "                else:\n",
        "                    ans_tokenizer = AutoTokenizer.from_pretrained(ans_tokenizer)\n",
        "\n",
        "            if isinstance(ans_model, str):\n",
        "                ans_model = AutoModelForSeq2SeqLM.from_pretrained(ans_model)\n",
        "    \n",
        "    if task == \"e2e-qg\":\n",
        "        return task_class(model=model, tokenizer=tokenizer, use_cuda=use_cuda)\n",
        "    elif task == \"question-generation\":\n",
        "        return task_class(model=model, tokenizer=tokenizer, ans_model=ans_model, ans_tokenizer=ans_tokenizer, qg_format=qg_format, use_cuda=use_cuda)\n",
        "    else:\n",
        "        return task_class(model=model, tokenizer=tokenizer, ans_model=model, ans_tokenizer=tokenizer, qg_format=qg_format, use_cuda=use_cuda)\n",
        "\n"
      ],
      "execution_count": 15,
      "outputs": [
        {
          "output_type": "stream",
          "text": [
            "Overwriting /content/question_generation/pipelines.py\n"
          ],
          "name": "stdout"
        }
      ]
    },
    {
      "cell_type": "markdown",
      "metadata": {
        "id": "Shb8PoTNNaX1"
      },
      "source": [
        "## Generación de Preguntas y Respuetas Frecuentes"
      ]
    },
    {
      "cell_type": "code",
      "metadata": {
        "id": "fOjjgmb_MvQP"
      },
      "source": [
        "from pipelines import pipeline\n"
      ],
      "execution_count": 16,
      "outputs": []
    },
    {
      "cell_type": "code",
      "metadata": {
        "id": "39-UHhyMM4is",
        "outputId": "0fc441ee-2eef-4622-9dd9-391736b5f274",
        "colab": {
          "base_uri": "https://localhost:8080/",
          "height": 311,
          "referenced_widgets": [
            "abb91625039a4a658d83f30bdc22117f",
            "57809f951d4f4203b96cbef84c20c0c6",
            "bffca3ef9d6d42228dd8d346a075ce5e",
            "74ab9020c73c423c93865f95d6e77b12",
            "c1d75ab77d4541bda628035910259b6a",
            "f82e038c4a7c4c099e7503d5a640ab60",
            "45867e32f9224d83be2b8b1a6e8949d3",
            "c1e08dc1410b46f58c29fe4f1c39ce1d",
            "3a6fe7aab0ee4975b1fe48f93bd485f2",
            "d3093558db524a47aae879defe3b3e4c",
            "0bff5fbf53b34005a45968941c31e63a",
            "f84b282c6add4534acd41304b0680d83",
            "f9bef5b85b6b4e889713df6640e042bc",
            "8c587901aef247dd941dc0cf92a658af",
            "fb46df5a5b6a4960bab34b69f6393859",
            "aee98f4a1e374e8ba4ba2b98278a3dcf",
            "2315cf84228f485e9fce7989960e50b3",
            "74a55c7e08294fed871492a5f99761a2",
            "df798ab6603748be91872662ef7b2bb9",
            "9ee4efb852c04457b4e7906d8d67fd62",
            "340a3ffd5bcc4ad3938c567023f14e9a",
            "ccd39cf3b4c448a1aae4a135cc59308e",
            "98a1e3086fc84f9ea19001206020008a",
            "a9f5c135f08549d5858b63e7b321ef1c",
            "678ed89884124c4a91236fe691cdbc8d",
            "2d4a12c16eea4905b8ab85e3081a40cb",
            "4a4bd03972904395874186cabd485a20",
            "d4642b98547b43fe9ea8ee82d677f407",
            "d710a8c8ce8a43e894dc09d3797e1921",
            "df2632548ee4403288279a65fc6ca9e6",
            "92a017ecbebd49f5acd0159cb707b780",
            "5e7ffffd96e7400e85ccbc3b6364171a",
            "17d66515e2564d659a57f66387e49448",
            "6ae2df0c022b4265be2201b7dfa0eee2",
            "061e434f60c544c883396fd03ef6f7a9",
            "3a973c95ec304d1eb7697f31d20bebfb",
            "526cf30c79394af193a1f720215440cb",
            "bcb9c113cd73410ba8f7fbf0d3ead3de",
            "4e6155c67fc149e88283640ea2dba875",
            "8e9ae1eb67454fd2a1999569ef91812d",
            "682386f494254c49aa3d5a0c8f5d69c4",
            "f8f0ee47ca75471f8f3683ade49828d4",
            "55d770e71f5e4fe4a23166c6730e766a",
            "5ba1703dc1dc4332ac3f8c2bea47dae2",
            "672e7f1d77d74ddbb718de64f8a145f6",
            "65385b1c40f442f995d5fe64d605d696",
            "066aaaa1c6114374a0123ada0e4f92a0",
            "0516a4d0370d401f84141d1eb67fedb5"
          ]
        }
      },
      "source": [
        "nlp = pipeline(\"multitask-qa-qg\")"
      ],
      "execution_count": 17,
      "outputs": [
        {
          "output_type": "display_data",
          "data": {
            "application/vnd.jupyter.widget-view+json": {
              "model_id": "abb91625039a4a658d83f30bdc22117f",
              "version_minor": 0,
              "version_major": 2
            },
            "text/plain": [
              "HBox(children=(FloatProgress(value=0.0, description='Downloading', max=656.0, style=ProgressStyle(description_…"
            ]
          },
          "metadata": {
            "tags": []
          }
        },
        {
          "output_type": "stream",
          "text": [
            "\n"
          ],
          "name": "stdout"
        },
        {
          "output_type": "display_data",
          "data": {
            "application/vnd.jupyter.widget-view+json": {
              "model_id": "3a6fe7aab0ee4975b1fe48f93bd485f2",
              "version_minor": 0,
              "version_major": 2
            },
            "text/plain": [
              "HBox(children=(FloatProgress(value=0.0, description='Downloading', max=791656.0, style=ProgressStyle(descripti…"
            ]
          },
          "metadata": {
            "tags": []
          }
        },
        {
          "output_type": "stream",
          "text": [
            "\n"
          ],
          "name": "stdout"
        },
        {
          "output_type": "display_data",
          "data": {
            "application/vnd.jupyter.widget-view+json": {
              "model_id": "2315cf84228f485e9fce7989960e50b3",
              "version_minor": 0,
              "version_major": 2
            },
            "text/plain": [
              "HBox(children=(FloatProgress(value=0.0, description='Downloading', max=31.0, style=ProgressStyle(description_w…"
            ]
          },
          "metadata": {
            "tags": []
          }
        },
        {
          "output_type": "stream",
          "text": [
            "\n"
          ],
          "name": "stdout"
        },
        {
          "output_type": "display_data",
          "data": {
            "application/vnd.jupyter.widget-view+json": {
              "model_id": "678ed89884124c4a91236fe691cdbc8d",
              "version_minor": 0,
              "version_major": 2
            },
            "text/plain": [
              "HBox(children=(FloatProgress(value=0.0, description='Downloading', max=65.0, style=ProgressStyle(description_w…"
            ]
          },
          "metadata": {
            "tags": []
          }
        },
        {
          "output_type": "stream",
          "text": [
            "\n"
          ],
          "name": "stdout"
        },
        {
          "output_type": "display_data",
          "data": {
            "application/vnd.jupyter.widget-view+json": {
              "model_id": "17d66515e2564d659a57f66387e49448",
              "version_minor": 0,
              "version_major": 2
            },
            "text/plain": [
              "HBox(children=(FloatProgress(value=0.0, description='Downloading', max=90.0, style=ProgressStyle(description_w…"
            ]
          },
          "metadata": {
            "tags": []
          }
        },
        {
          "output_type": "stream",
          "text": [
            "\n"
          ],
          "name": "stdout"
        },
        {
          "output_type": "display_data",
          "data": {
            "application/vnd.jupyter.widget-view+json": {
              "model_id": "682386f494254c49aa3d5a0c8f5d69c4",
              "version_minor": 0,
              "version_major": 2
            },
            "text/plain": [
              "HBox(children=(FloatProgress(value=0.0, description='Downloading', max=242013376.0, style=ProgressStyle(descri…"
            ]
          },
          "metadata": {
            "tags": []
          }
        },
        {
          "output_type": "stream",
          "text": [
            "\n"
          ],
          "name": "stdout"
        }
      ]
    },
    {
      "cell_type": "code",
      "metadata": {
        "id": "-pPriwCXNG_O"
      },
      "source": [
        "faqs = nlp(result.text)"
      ],
      "execution_count": 25,
      "outputs": []
    },
    {
      "cell_type": "code",
      "metadata": {
        "id": "06GKwtiwNpup",
        "outputId": "a7c28723-6f34-4950-c577-638281bedd1a",
        "colab": {
          "base_uri": "https://localhost:8080/",
          "height": 581
        }
      },
      "source": [
        "faqs"
      ],
      "execution_count": 26,
      "outputs": [
        {
          "output_type": "execute_result",
          "data": {
            "text/plain": [
              "[{'answer': 'September',\n",
              "  'question': 'When did the Colombian model appear on Vogue Italia magazine?'},\n",
              " {'answer': 'Victoria’s Secret, Reebok and Burberry',\n",
              "  'question': 'What brands does the Colombian model have contracts with?'},\n",
              " {'answer': 'My little warbler',\n",
              "  'question': 'What was the name of the model who appeared on the cover of Vogue Italia?'},\n",
              " {'answer': '18',\n",
              "  'question': 'How old are you when she saw Elaine Palacio Mosquera on the cover of Vogue Italia?'},\n",
              " {'answer': 'Naomi Campbell',\n",
              "  'question': 'Who is the grandmother of Elaine Palacio Mosquera?'},\n",
              " {'answer': 'paying the monthly payments at the modeling academy',\n",
              "  'question': 'What did Naomi Campbell support her?'},\n",
              " {'answer': 'learn what it was like to be a model',\n",
              "  'question': 'What did Naomi Campbell do when she saw Elaine Palacio Mosquera on the cover of Vogue Italia?'},\n",
              " {'answer': 'Elaine Palacio',\n",
              "  'question': 'Who was chosen as one of the 100 characters to appear on the cover of Vogue Italia?'},\n",
              " {'answer': 'autumn-winter trends',\n",
              "  'question': 'What do publishers receive guidelines from large companies to show?'},\n",
              " {'answer': 'Cindy Crawford, Bella Hadid and Emily Ratajkowski',\n",
              "  'question': 'Who did Vogue chose to highlight the moment of transformation that the industry is experiencing?'},\n",
              " {'answer': 'it is time to speak out loud about beauty and hope',\n",
              "  'question': 'What does Vogue believe at the beginning of a season that is decisive?'},\n",
              " {'answer': 'a hundred',\n",
              "  'question': 'How many covers did Vogue print for the first time?'},\n",
              " {'answer': 'Emanuele Farneti',\n",
              "  'question': 'Who was the editor of Vogue Italia?'},\n",
              " {'answer': 'Amazing',\n",
              "  'question': 'What project did Emanuele Farneti participate in?'},\n",
              " {'answer': '100',\n",
              "  'question': 'How many covers did Vogue Italia cover in September 2020?'},\n",
              " {'answer': '100',\n",
              "  'question': 'How many covers did Vogue Italia cover in September 2020?'}]"
            ]
          },
          "metadata": {
            "tags": []
          },
          "execution_count": 26
        }
      ]
    },
    {
      "cell_type": "markdown",
      "metadata": {
        "id": "7AordI3NN18i"
      },
      "source": [
        "Vamos a traducir de Ingles a Español"
      ]
    },
    {
      "cell_type": "code",
      "metadata": {
        "id": "Y4KOwxACNr0T"
      },
      "source": [
        "faqs_traducidas = list()"
      ],
      "execution_count": 27,
      "outputs": []
    },
    {
      "cell_type": "code",
      "metadata": {
        "id": "SoUVYm8wOSJA"
      },
      "source": [
        "for faq in faqs:\n",
        "  pregunta = translator.translate(faq[\"question\"], dest=\"es\")\n",
        "  respuesta = translator.translate(faq[\"answer\"], dest=\"es\")\n",
        "\n",
        "  faqs_traducidas.append({\"pregunta\": pregunta.text, \"respuesta\": respuesta.text})"
      ],
      "execution_count": 28,
      "outputs": []
    },
    {
      "cell_type": "code",
      "metadata": {
        "id": "CGnddYDIPD_Y",
        "outputId": "069e8861-a6be-4af4-e4ce-5ab23894df46",
        "colab": {
          "base_uri": "https://localhost:8080/",
          "height": 561
        }
      },
      "source": [
        "faqs_traducidas\n"
      ],
      "execution_count": 29,
      "outputs": [
        {
          "output_type": "execute_result",
          "data": {
            "text/plain": [
              "[{'pregunta': '¿Cuándo apareció la modelo colombiana en la revista Vogue Italia?',\n",
              "  'respuesta': 'septiembre'},\n",
              " {'pregunta': '¿Con qué marcas tiene contratos el modelo colombiano?',\n",
              "  'respuesta': \"Victoria's Secret, Reebok y Burberry\"},\n",
              " {'pregunta': '¿Cómo se llamaba la modelo que apareció en la portada de Vogue Italia?',\n",
              "  'respuesta': 'Mi pequeña curruca'},\n",
              " {'pregunta': '¿Qué edad tienes cuando vio a Elaine Palacio Mosquera en la portada de Vogue Italia?',\n",
              "  'respuesta': '18'},\n",
              " {'pregunta': '¿Quién es la abuela de Elaine Palacio Mosquera?',\n",
              "  'respuesta': 'Naomi Campbell'},\n",
              " {'pregunta': '¿Qué la apoyó Naomi Campbell?',\n",
              "  'respuesta': 'pagando los pagos mensuales en la academia de modelaje'},\n",
              " {'pregunta': '¿Qué hizo Naomi Campbell cuando vio a Elaine Palacio Mosquera en la portada de Vogue Italia?',\n",
              "  'respuesta': 'aprender lo que era ser modelo'},\n",
              " {'pregunta': '¿Quién fue elegido como uno de los 100 personajes que aparecerán en la portada de Vogue Italia?',\n",
              "  'respuesta': 'Elaine Palacio'},\n",
              " {'pregunta': '¿Qué directrices reciben los editores de las grandes empresas para mostrar?',\n",
              "  'respuesta': 'tendencias otoño-invierno'},\n",
              " {'pregunta': '¿A quién eligió Vogue para destacar el momento de transformación que vive la industria?',\n",
              "  'respuesta': 'Cindy Crawford, Bella Hadid y Emily Ratajkowski'},\n",
              " {'pregunta': '¿Qué cree Vogue al inicio de una temporada que es decisiva?',\n",
              "  'respuesta': 'es hora de hablar en voz alta sobre la belleza y la esperanza'},\n",
              " {'pregunta': '¿Cuántas portadas imprimió Vogue por primera vez?',\n",
              "  'respuesta': 'un centenar'},\n",
              " {'pregunta': '¿Quién fue el editor de Vogue Italia?',\n",
              "  'respuesta': 'Emanuele Farneti'},\n",
              " {'pregunta': '¿En qué proyecto participó Emanuele Farneti?',\n",
              "  'respuesta': 'Asombroso'},\n",
              " {'pregunta': '¿Cuántas portadas cubrió Vogue Italia en septiembre de 2020?',\n",
              "  'respuesta': '100'},\n",
              " {'pregunta': '¿Cuántas portadas cubrió Vogue Italia en septiembre de 2020?',\n",
              "  'respuesta': '100'}]"
            ]
          },
          "metadata": {
            "tags": []
          },
          "execution_count": 29
        }
      ]
    },
    {
      "cell_type": "code",
      "metadata": {
        "id": "PW1RgNU7PG7K"
      },
      "source": [
        ""
      ],
      "execution_count": null,
      "outputs": []
    },
    {
      "cell_type": "markdown",
      "metadata": {
        "id": "Q_vni54eiO2-"
      },
      "source": [
        "## Creando el Marcado Estructurado\n",
        "\n",
        "Usamos una plantilla de Jinja2 para hacer la generación. Puedes aprender más aquí https://jinja.palletsprojects.com/en/2.11.x/\n"
      ]
    },
    {
      "cell_type": "code",
      "metadata": {
        "id": "flMzDGK8idwg"
      },
      "source": [
        "plantilla_faqpage=\"\"\"<script type=\"application/ld+json\">\n",
        "\n",
        "{\n",
        "\n",
        "\"@context\": \"https://schema.org\",\n",
        "\n",
        "\"@type\": \"FAQPage\",\n",
        "\n",
        "\"mainEntity\": [\n",
        "\n",
        "{% for faq in faqs %}\n",
        "\n",
        "{\n",
        "\n",
        "\"@type\": \"Question\",\n",
        "\n",
        "\"name\": {{faq.pregunta|tojson}},\n",
        "\n",
        "\"acceptedAnswer\": {\n",
        "\n",
        "\"@type\": \"Answer\",\n",
        "\n",
        "\"text\": {{faq.respuesta|tojson}}\n",
        "\n",
        "}\n",
        "\n",
        "}{{ \",\" if not loop.last }}\n",
        "\n",
        "{% endfor %}\n",
        "\n",
        "]\n",
        "\n",
        "}\n",
        "\n",
        "</script>\"\"\""
      ],
      "execution_count": 33,
      "outputs": []
    },
    {
      "cell_type": "code",
      "metadata": {
        "id": "VRywaHrzijY9"
      },
      "source": [
        "from jinja2 import Template\n",
        "\n",
        "plantilla=Template(plantilla_faqpage)\n",
        "\n",
        "salida_faqpage=plantilla.render(faqs=faqs_traducidas)\n"
      ],
      "execution_count": 35,
      "outputs": []
    },
    {
      "cell_type": "markdown",
      "metadata": {
        "id": "vxESxIs6j370"
      },
      "source": [
        "Veamos el marcado que generamos"
      ]
    },
    {
      "cell_type": "code",
      "metadata": {
        "id": "l4AvD7_yi2oJ",
        "outputId": "eb028275-4050-472f-e5a6-d4c50284220b",
        "colab": {
          "base_uri": "https://localhost:8080/",
          "height": 1000
        }
      },
      "source": [
        "print(salida_faqpage)"
      ],
      "execution_count": 36,
      "outputs": [
        {
          "output_type": "stream",
          "text": [
            "<script type=\"application/ld+json\">\n",
            "\n",
            "{\n",
            "\n",
            "\"@context\": \"https://schema.org\",\n",
            "\n",
            "\"@type\": \"FAQPage\",\n",
            "\n",
            "\"mainEntity\": [\n",
            "\n",
            "\n",
            "\n",
            "{\n",
            "\n",
            "\"@type\": \"Question\",\n",
            "\n",
            "\"name\": \"\\u00bfCu\\u00e1ndo apareci\\u00f3 la modelo colombiana en la revista Vogue Italia?\",\n",
            "\n",
            "\"acceptedAnswer\": {\n",
            "\n",
            "\"@type\": \"Answer\",\n",
            "\n",
            "\"text\": \"septiembre\"\n",
            "\n",
            "}\n",
            "\n",
            "},\n",
            "\n",
            "\n",
            "\n",
            "{\n",
            "\n",
            "\"@type\": \"Question\",\n",
            "\n",
            "\"name\": \"\\u00bfCon qu\\u00e9 marcas tiene contratos el modelo colombiano?\",\n",
            "\n",
            "\"acceptedAnswer\": {\n",
            "\n",
            "\"@type\": \"Answer\",\n",
            "\n",
            "\"text\": \"Victoria\\u0027s Secret, Reebok y Burberry\"\n",
            "\n",
            "}\n",
            "\n",
            "},\n",
            "\n",
            "\n",
            "\n",
            "{\n",
            "\n",
            "\"@type\": \"Question\",\n",
            "\n",
            "\"name\": \"\\u00bfC\\u00f3mo se llamaba la modelo que apareci\\u00f3 en la portada de Vogue Italia?\",\n",
            "\n",
            "\"acceptedAnswer\": {\n",
            "\n",
            "\"@type\": \"Answer\",\n",
            "\n",
            "\"text\": \"Mi peque\\u00f1a curruca\"\n",
            "\n",
            "}\n",
            "\n",
            "},\n",
            "\n",
            "\n",
            "\n",
            "{\n",
            "\n",
            "\"@type\": \"Question\",\n",
            "\n",
            "\"name\": \"\\u00bfQu\\u00e9 edad tienes cuando vio a Elaine Palacio Mosquera en la portada de Vogue Italia?\",\n",
            "\n",
            "\"acceptedAnswer\": {\n",
            "\n",
            "\"@type\": \"Answer\",\n",
            "\n",
            "\"text\": \"18\"\n",
            "\n",
            "}\n",
            "\n",
            "},\n",
            "\n",
            "\n",
            "\n",
            "{\n",
            "\n",
            "\"@type\": \"Question\",\n",
            "\n",
            "\"name\": \"\\u00bfQui\\u00e9n es la abuela de Elaine Palacio Mosquera?\",\n",
            "\n",
            "\"acceptedAnswer\": {\n",
            "\n",
            "\"@type\": \"Answer\",\n",
            "\n",
            "\"text\": \"Naomi Campbell\"\n",
            "\n",
            "}\n",
            "\n",
            "},\n",
            "\n",
            "\n",
            "\n",
            "{\n",
            "\n",
            "\"@type\": \"Question\",\n",
            "\n",
            "\"name\": \"\\u00bfQu\\u00e9 la apoy\\u00f3 Naomi Campbell?\",\n",
            "\n",
            "\"acceptedAnswer\": {\n",
            "\n",
            "\"@type\": \"Answer\",\n",
            "\n",
            "\"text\": \"pagando los pagos mensuales en la academia de modelaje\"\n",
            "\n",
            "}\n",
            "\n",
            "},\n",
            "\n",
            "\n",
            "\n",
            "{\n",
            "\n",
            "\"@type\": \"Question\",\n",
            "\n",
            "\"name\": \"\\u00bfQu\\u00e9 hizo Naomi Campbell cuando vio a Elaine Palacio Mosquera en la portada de Vogue Italia?\",\n",
            "\n",
            "\"acceptedAnswer\": {\n",
            "\n",
            "\"@type\": \"Answer\",\n",
            "\n",
            "\"text\": \"aprender lo que era ser modelo\"\n",
            "\n",
            "}\n",
            "\n",
            "},\n",
            "\n",
            "\n",
            "\n",
            "{\n",
            "\n",
            "\"@type\": \"Question\",\n",
            "\n",
            "\"name\": \"\\u00bfQui\\u00e9n fue elegido como uno de los 100 personajes que aparecer\\u00e1n en la portada de Vogue Italia?\",\n",
            "\n",
            "\"acceptedAnswer\": {\n",
            "\n",
            "\"@type\": \"Answer\",\n",
            "\n",
            "\"text\": \"Elaine Palacio\"\n",
            "\n",
            "}\n",
            "\n",
            "},\n",
            "\n",
            "\n",
            "\n",
            "{\n",
            "\n",
            "\"@type\": \"Question\",\n",
            "\n",
            "\"name\": \"\\u00bfQu\\u00e9 directrices reciben los editores de las grandes empresas para mostrar?\",\n",
            "\n",
            "\"acceptedAnswer\": {\n",
            "\n",
            "\"@type\": \"Answer\",\n",
            "\n",
            "\"text\": \"tendencias oto\\u00f1o-invierno\"\n",
            "\n",
            "}\n",
            "\n",
            "},\n",
            "\n",
            "\n",
            "\n",
            "{\n",
            "\n",
            "\"@type\": \"Question\",\n",
            "\n",
            "\"name\": \"\\u00bfA qui\\u00e9n eligi\\u00f3 Vogue para destacar el momento de transformaci\\u00f3n que vive la industria?\",\n",
            "\n",
            "\"acceptedAnswer\": {\n",
            "\n",
            "\"@type\": \"Answer\",\n",
            "\n",
            "\"text\": \"Cindy Crawford, Bella Hadid y Emily Ratajkowski\"\n",
            "\n",
            "}\n",
            "\n",
            "},\n",
            "\n",
            "\n",
            "\n",
            "{\n",
            "\n",
            "\"@type\": \"Question\",\n",
            "\n",
            "\"name\": \"\\u00bfQu\\u00e9 cree Vogue al inicio de una temporada que es decisiva?\",\n",
            "\n",
            "\"acceptedAnswer\": {\n",
            "\n",
            "\"@type\": \"Answer\",\n",
            "\n",
            "\"text\": \"es hora de hablar en voz alta sobre la belleza y la esperanza\"\n",
            "\n",
            "}\n",
            "\n",
            "},\n",
            "\n",
            "\n",
            "\n",
            "{\n",
            "\n",
            "\"@type\": \"Question\",\n",
            "\n",
            "\"name\": \"\\u00bfCu\\u00e1ntas portadas imprimi\\u00f3 Vogue por primera vez?\",\n",
            "\n",
            "\"acceptedAnswer\": {\n",
            "\n",
            "\"@type\": \"Answer\",\n",
            "\n",
            "\"text\": \"un centenar\"\n",
            "\n",
            "}\n",
            "\n",
            "},\n",
            "\n",
            "\n",
            "\n",
            "{\n",
            "\n",
            "\"@type\": \"Question\",\n",
            "\n",
            "\"name\": \"\\u00bfQui\\u00e9n fue el editor de Vogue Italia?\",\n",
            "\n",
            "\"acceptedAnswer\": {\n",
            "\n",
            "\"@type\": \"Answer\",\n",
            "\n",
            "\"text\": \"Emanuele Farneti\"\n",
            "\n",
            "}\n",
            "\n",
            "},\n",
            "\n",
            "\n",
            "\n",
            "{\n",
            "\n",
            "\"@type\": \"Question\",\n",
            "\n",
            "\"name\": \"\\u00bfEn qu\\u00e9 proyecto particip\\u00f3 Emanuele Farneti?\",\n",
            "\n",
            "\"acceptedAnswer\": {\n",
            "\n",
            "\"@type\": \"Answer\",\n",
            "\n",
            "\"text\": \"Asombroso\"\n",
            "\n",
            "}\n",
            "\n",
            "},\n",
            "\n",
            "\n",
            "\n",
            "{\n",
            "\n",
            "\"@type\": \"Question\",\n",
            "\n",
            "\"name\": \"\\u00bfCu\\u00e1ntas portadas cubri\\u00f3 Vogue Italia en septiembre de 2020?\",\n",
            "\n",
            "\"acceptedAnswer\": {\n",
            "\n",
            "\"@type\": \"Answer\",\n",
            "\n",
            "\"text\": \"100\"\n",
            "\n",
            "}\n",
            "\n",
            "},\n",
            "\n",
            "\n",
            "\n",
            "{\n",
            "\n",
            "\"@type\": \"Question\",\n",
            "\n",
            "\"name\": \"\\u00bfCu\\u00e1ntas portadas cubri\\u00f3 Vogue Italia en septiembre de 2020?\",\n",
            "\n",
            "\"acceptedAnswer\": {\n",
            "\n",
            "\"@type\": \"Answer\",\n",
            "\n",
            "\"text\": \"100\"\n",
            "\n",
            "}\n",
            "\n",
            "}\n",
            "\n",
            "\n",
            "\n",
            "]\n",
            "\n",
            "}\n",
            "\n",
            "</script>\n"
          ],
          "name": "stdout"
        }
      ]
    },
    {
      "cell_type": "markdown",
      "metadata": {
        "id": "7VUwq735qfiW"
      },
      "source": [
        "Lo podemos ver [aquí](https://gist.github.com/hamletbatista/5958be10747621faf03cee4dcd7b8124) "
      ]
    },
    {
      "cell_type": "code",
      "metadata": {
        "id": "EBIV65NmkBWu"
      },
      "source": [
        ""
      ],
      "execution_count": null,
      "outputs": []
    }
  ]
}